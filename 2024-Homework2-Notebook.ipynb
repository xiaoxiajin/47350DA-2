{
 "cells": [
  {
   "cell_type": "markdown",
   "metadata": {},
   "source": [
    "# Homework2\n",
    "\n",
    "Please upload to Brightspace a **.zip** archive containing your Jupyter Notebook with solutions and all data required to reproduce your solutions. \n",
    "\n",
    "Please also prepare a **requirements.txt** file which lists all the packages that you have used for your homework, one package per line. This will allow us to install all required packages.\n",
    "\n",
    "Please name your .zip archive using your full name and student id as follows - **Firstname_Lastname_ID12345678_COMP47350_Homework2.zip**. \n",
    "\n",
    "For your Notebook, please split the code and explanations into cells so that it is easy to see and read the results of each step of your solution. Please remember to name your variables and methods with self-explanatory names. Please remember to write justifications for the decisions you make and code you write. \n",
    "\n",
    "Your code and analysis is like a story that awaits to be read. Always start with an introduction about the problem and your understanding of the problem domain and data analytics solution and describe the steps you do and your findings from each step.\n",
    "\n",
    "The accepted file formats for the homework are:\n",
    "    \n",
    "    - .ipynb (your notebook with solutions)\n",
    "    - .csv (your dataset)\n",
    "    - .txt (your requirements.txt)\n",
    "    \n",
    "**Please keep the whole code in a single notebook**. \n",
    "\n",
    "**Deadline: Monday, 5 May, 2025, midnight.** \n"
   ]
  },
  {
   "cell_type": "markdown",
   "metadata": {},
   "source": [
    "## Exercises\n",
    "\n",
    "**This homework focuses on training and evaluating prediction models for a particular problem and dataset.**\n",
    "The data comes from the California Department of Forestry and Fire Protection [(CAL FIRE)](https://www.fire.ca.gov). CAL FIRE provides fire prevention and protection, emergency response, and natural resource protection services in the USA. \n",
    "\n",
    "In this analysis, we focus on using the data collected by CAL FIRE to build a data analytics solution for structure damage risk prediction. \n",
    "The full database represents structures impacted to different extents by wildland fire. The dataset we work with is a sample of the public data released by CAL FIRE, where the outcome for the target feature Damage is known and is only in the category \"No Damage\" or \"Destroyed (>50%)\").\n",
    "https://data.ca.gov/dataset/cal-fire-damage-inspection-dins-data. **In this analysis, we focus on using the data collected by CAL FIRE to build a data analytics solution for damage risk prediction.** \n",
    "\n",
    "The goal in this homework is to work with the data to build and evaluate prediction models that capture the relationship between the descriptive features and the target feature **DAMAGE**. For this homework you are asked to use the same dataset allocated to you in Homework1 (you can use your cleaned/prepared CSV from Homework1 or start from the raw dataset, clean it according to concepts covered in the lectures/labs, then use it for training prediction models). \n",
    " \n",
    "There are 5 parts for this homework. Each part has an indicative maximum percentage given in brackets, e.g., part (1) has a maximum of 25% shown as [25]. The total that can be achieved is 100.\n",
    "\n",
    "\n",
    "(1). [25] **Data Understanding and Preparation:** Exploring relationships between feature pairs and selecting/transforming promising features based on a given training set.\n",
    "\n",
    "    - (1.1) Split the dataset into two datasets: 70% training and 30% test. Keep the test set aside. \n",
    "    - (1.2) On the training set:\n",
    "        - Plot the correlations between all the continuous features (if any). Discuss what you observe in these plots.\n",
    "        - For each continuous feature, plot its interaction with the target feature (a plot for each pair of   continuous feature and target feature). Discuss what you observe from these plots, e.g., which continuous features seem to be better at predicting the target feature? Choose a subset of continuous features you find promising (if any). Justify your choices.\n",
    "        - For each categorical feature, plot its pairwise interaction with the target feature. Discuss what  knowledge you gain from these plots, e.g., which categorical features seem to be better at predicting the target feature? Choose a subset of categorical features you find promising (if any). Justify your choices.\n",
    "      \n",
    "    \n",
    "(2). [15] **Predictive Modeling:** Linear Regression.  \n",
    "\n",
    "    - (2.1) On the training set, train a linear regression model to predict the target feature, using only the  descriptive features selected in exercise (1) above. \n",
    "    - (2.2) Print the coefficients learned by the model and discuss their role in the model (e.g., interpret the model by analysing each coefficient and how it relates each input feature to the target feature).    \n",
    "    - (2.3) Print the predicted target feature value for the first 10 training examples. Threshold the predicted target feature value given by the linear regression model at 0.5, to get the predicted class for each example. Print the predicted class for the first 10 examples. Print a few classification evaluation measures computed on the full training set (e.g., Accuracy, Confusion matrix, Precision, Recall, F1) and discuss your findings so far.\n",
    "    - (2.4) Evaluate the model using classification evaluation measures on the hold-out (30% examples) test set. Compare these results with the evaluation results obtained on the training (70%) dataset. Also compare these results with a cross-validated model (i.e., a new model trained and evaluated using cross-validation on the full dataset). You can use classic k-fold cross-validation or repeated random train/test (70/30) splits. Compare the cross-validation metrics to those obtained on the single train/test split and discuss your findings.\n",
    "    \n",
    "(3). [15] **Predictive Modeling:** Logistic Regression.  \n",
    "\n",
    "    - (3.1) On the training set, train a logistic regression model to predict the target feature, using the descriptive features selected in exercise (1) above.   \n",
    "    - (3.2) Print the coefficients learned by the model and discuss their role in the model (e.g., interpret the model).    \n",
    "    - (3.3) Print the predicted target feature value for the first 10 training examples. Print the predicted class for the first 10 examples. Print a few classification evaluation measures computed on the full training set (e.g., Accuracy, Confusion matrix, Precision, Recall, F1) and discuss your findings so far.\n",
    "    - (3.4) Evaluate the model using classification evaluation measures on the hold-out (30% examples) test set. Compare these results with the evaluation results obtained when using the training (70%) dataset for evaluation. Also compare these results with a cross-validated model (i.e., a new model trained and evaluated using cross-validation on the full dataset). You can use classic k-fold cross-validation or repeated train/test (70/30) splits. Compare the cross-validation metrics to those obtained on the single train/test split and discuss your findings.\n",
    "    \n",
    "    \n",
    "(4). [20] **Predictive Modeling:** Random Forest.  \n",
    "\n",
    "    - (4.1) On the training set, train a random forest model to predict the target feature, using the descriptive features selected in exercise (1) above.   \n",
    "    - (4.2) Can you interpret the random forest model? Discuss any knowledge you can gain in regard of the working of this model.   \n",
    "    - (4.3) Print the predicted target feature value for the first 10 training examples. Print the predicted class for the first 10 examples. Print a few classification evaluation measures computed on the full training set (e.g., Accuracy, Confusion matrix, Precision, Recall, F1) and discuss your findings so far.\n",
    "    - (4.4) Evaluate the model using classification evaluation measures on the hold-out (30% examples) test set. Compare these results with the evaluation results obtained when using the training (70%) dataset for evaluation. Also compare these results with a cross-validated model (i.e., a new model trained and evaluated using cross-validation on the full dataset). You can use classic k-fold cross-validation or repeated train/test (70/30) splits. Compare the cross-validation metrics to those obtained on the single train/test split and to the Random Forest out-of-sample error and discuss your findings.\n",
    "    \n",
    "(5). [25] **Improving Predictive Models.**\n",
    "\n",
    "    - (5.1) Which model of the ones trained above performs better at predicting the target feature? Is it more   accurate than a simple model that always predicts the majority class (i.e., if 'no' is the majority class in your dataset, the simple model always predicts 'no' for the target feature)? What is a good baseline for this task? Justify your answers.\n",
    "    - (5.2) Summarise your understanding of the problem and of your predictive modeling results so far. Can you think of any new ideas to improve the best model so far (e.g., by using furher data prep such as: feature selection, feature re-scaling, creating new features, combining predictive models, or using other domain knowledge)? Please show how your ideas actually work in practice (with code), by training and evaluating your proposed models. Summarise your findings so far. "
   ]
  },
  {
   "cell_type": "code",
   "execution_count": 177,
   "metadata": {},
   "outputs": [],
   "source": [
    "# Library Imports.\n",
    "import pandas as pd\n",
    "import matplotlib.pyplot as plt\n",
    "import numpy as np\n",
    "\n",
    "# Allows plots to appear directly in the notebook.\n",
    "%matplotlib inline\n",
    "\n",
    "from patsy import dmatrices\n",
    "from sklearn.linear_model import LinearRegression\n",
    "from sklearn.model_selection import train_test_split\n",
    "from sklearn import metrics\n",
    "from sklearn.model_selection import cross_validate\n",
    "from sklearn.model_selection import cross_val_score "
   ]
  },
  {
   "cell_type": "markdown",
   "metadata": {},
   "source": [
    "# 0. Data Clean"
   ]
  },
  {
   "cell_type": "markdown",
   "metadata": {},
   "source": [
    "To ensure data quality, start from raw material and clean following sample DQP."
   ]
  },
  {
   "cell_type": "markdown",
   "metadata": {},
   "source": [
    "## (0.1) Clean column names and types"
   ]
  },
  {
   "cell_type": "code",
   "execution_count": 178,
   "metadata": {},
   "outputs": [
    {
     "data": {
      "text/html": [
       "<div>\n",
       "<style scoped>\n",
       "    .dataframe tbody tr th:only-of-type {\n",
       "        vertical-align: middle;\n",
       "    }\n",
       "\n",
       "    .dataframe tbody tr th {\n",
       "        vertical-align: top;\n",
       "    }\n",
       "\n",
       "    .dataframe thead th {\n",
       "        text-align: right;\n",
       "    }\n",
       "</style>\n",
       "<table border=\"1\" class=\"dataframe\">\n",
       "  <thead>\n",
       "    <tr style=\"text-align: right;\">\n",
       "      <th></th>\n",
       "      <th>OBJECTID</th>\n",
       "      <th>* Damage</th>\n",
       "      <th>* Street Number</th>\n",
       "      <th>* Street Name</th>\n",
       "      <th>* Street Type (e.g. road, drive, lane, etc.)</th>\n",
       "      <th>* City</th>\n",
       "      <th>State</th>\n",
       "      <th>Zip Code</th>\n",
       "      <th>* CAL FIRE Unit</th>\n",
       "      <th>County</th>\n",
       "      <th>Community</th>\n",
       "      <th>Incident Start Date</th>\n",
       "      <th>Hazard Type</th>\n",
       "      <th>Structure Defense Actions Taken</th>\n",
       "      <th>* Structure Type</th>\n",
       "      <th>Structure Category</th>\n",
       "      <th># Units in Structure (if multi unit)</th>\n",
       "      <th>* Roof Construction</th>\n",
       "      <th>* Eaves</th>\n",
       "      <th>* Vent Screen</th>\n",
       "      <th>* Exterior Siding</th>\n",
       "      <th>* Window Pane</th>\n",
       "      <th>* Deck/Porch On Grade</th>\n",
       "      <th>* Deck/Porch Elevated</th>\n",
       "      <th>* Patio Cover/Carport Attached to Structure</th>\n",
       "      <th>* Fence Attached to Structure</th>\n",
       "      <th>Distance - Propane Tank to Structure</th>\n",
       "      <th>Distance - Residence to Utility/Misc Structure &amp;gt; 120 SQFT</th>\n",
       "      <th>Assessed Improved Value (parcel)</th>\n",
       "      <th>Year Built (parcel)</th>\n",
       "      <th>Site Address (parcel)</th>\n",
       "      <th>Latitude</th>\n",
       "      <th>Longitude</th>\n",
       "    </tr>\n",
       "  </thead>\n",
       "  <tbody>\n",
       "    <tr>\n",
       "      <th>0</th>\n",
       "      <td>110616</td>\n",
       "      <td>No Damage</td>\n",
       "      <td>1140.0</td>\n",
       "      <td>N Vinedo</td>\n",
       "      <td>Avenue</td>\n",
       "      <td>Pasadena</td>\n",
       "      <td>CA</td>\n",
       "      <td>91107.0</td>\n",
       "      <td>LAC</td>\n",
       "      <td>Los Angeles</td>\n",
       "      <td>NaN</td>\n",
       "      <td>1/7/2025 8:02:01 AM</td>\n",
       "      <td>Fire</td>\n",
       "      <td>NaN</td>\n",
       "      <td>Utility Misc Structure</td>\n",
       "      <td>Other Minor Structure</td>\n",
       "      <td>NaN</td>\n",
       "      <td>Tile</td>\n",
       "      <td>Enclosed</td>\n",
       "      <td>No Vents</td>\n",
       "      <td>Stucco Brick Cement</td>\n",
       "      <td>Multi Pane</td>\n",
       "      <td>No Deck/Porch</td>\n",
       "      <td>No Deck/Porch</td>\n",
       "      <td>No Patio Cover/Carport</td>\n",
       "      <td>Unknown</td>\n",
       "      <td>NaN</td>\n",
       "      <td>&lt;30'</td>\n",
       "      <td>203071.0</td>\n",
       "      <td>1930.0</td>\n",
       "      <td>1040 N VINEDO AVE, PASADENA, CA 91107</td>\n",
       "      <td>34.164132</td>\n",
       "      <td>-118.094558</td>\n",
       "    </tr>\n",
       "    <tr>\n",
       "      <th>1</th>\n",
       "      <td>5682</td>\n",
       "      <td>No Damage</td>\n",
       "      <td>0.0</td>\n",
       "      <td>Bear Creek</td>\n",
       "      <td>Drive</td>\n",
       "      <td>NaN</td>\n",
       "      <td>CA</td>\n",
       "      <td>0.0</td>\n",
       "      <td>TUU</td>\n",
       "      <td>Tulare</td>\n",
       "      <td>NaN</td>\n",
       "      <td>8/19/2020 12:00:00 AM</td>\n",
       "      <td>Fire</td>\n",
       "      <td>Unknown</td>\n",
       "      <td>Single Family Residence Single Story</td>\n",
       "      <td>Single Residence</td>\n",
       "      <td>0.0</td>\n",
       "      <td>Metal</td>\n",
       "      <td>Unenclosed</td>\n",
       "      <td>Unknown</td>\n",
       "      <td>Wood</td>\n",
       "      <td>Single Pane</td>\n",
       "      <td>No Deck/Porch</td>\n",
       "      <td>No Deck/Porch</td>\n",
       "      <td>No Patio Cover/Carport</td>\n",
       "      <td>No Fence</td>\n",
       "      <td>NaN</td>\n",
       "      <td>NaN</td>\n",
       "      <td>19890.0</td>\n",
       "      <td>0.0</td>\n",
       "      <td></td>\n",
       "      <td>36.206371</td>\n",
       "      <td>-118.732331</td>\n",
       "    </tr>\n",
       "    <tr>\n",
       "      <th>2</th>\n",
       "      <td>338</td>\n",
       "      <td>Destroyed (&gt;50%)</td>\n",
       "      <td>0.0</td>\n",
       "      <td>Unknown</td>\n",
       "      <td>NaN</td>\n",
       "      <td>Caliente</td>\n",
       "      <td>CA</td>\n",
       "      <td>NaN</td>\n",
       "      <td>KRN</td>\n",
       "      <td>Kern</td>\n",
       "      <td>NaN</td>\n",
       "      <td>8/3/2020 12:00:00 AM</td>\n",
       "      <td>Fire</td>\n",
       "      <td>NaN</td>\n",
       "      <td>Single Family Residence Single Story</td>\n",
       "      <td>Single Residence</td>\n",
       "      <td>NaN</td>\n",
       "      <td>Asphalt</td>\n",
       "      <td>Unknown</td>\n",
       "      <td>Unknown</td>\n",
       "      <td>Wood</td>\n",
       "      <td>Single Pane</td>\n",
       "      <td>Unknown</td>\n",
       "      <td>Unknown</td>\n",
       "      <td>Unknown</td>\n",
       "      <td>Unknown</td>\n",
       "      <td>NaN</td>\n",
       "      <td>NaN</td>\n",
       "      <td>0.0</td>\n",
       "      <td>0.0</td>\n",
       "      <td></td>\n",
       "      <td>35.439471</td>\n",
       "      <td>-118.426347</td>\n",
       "    </tr>\n",
       "    <tr>\n",
       "      <th>3</th>\n",
       "      <td>101747</td>\n",
       "      <td>Destroyed (&gt;50%)</td>\n",
       "      <td>3646.0</td>\n",
       "      <td>Canon</td>\n",
       "      <td>Boulevard</td>\n",
       "      <td>Altadena</td>\n",
       "      <td>CA</td>\n",
       "      <td>91001.0</td>\n",
       "      <td>LAC</td>\n",
       "      <td>Los Angeles</td>\n",
       "      <td>NaN</td>\n",
       "      <td>1/7/2025 8:02:01 AM</td>\n",
       "      <td>Fire</td>\n",
       "      <td>NaN</td>\n",
       "      <td>Single Family Residence Single Story</td>\n",
       "      <td>Single Residence</td>\n",
       "      <td>NaN</td>\n",
       "      <td>Asphalt</td>\n",
       "      <td>Unenclosed</td>\n",
       "      <td>Mesh Screen &gt; 1/8\"\"</td>\n",
       "      <td>Stucco Brick Cement</td>\n",
       "      <td>Multi Pane</td>\n",
       "      <td>No Deck/Porch</td>\n",
       "      <td>Masonry/Concrete</td>\n",
       "      <td>No Patio Cover/Carport</td>\n",
       "      <td>Non Combustible</td>\n",
       "      <td>NaN</td>\n",
       "      <td>NaN</td>\n",
       "      <td>75612.0</td>\n",
       "      <td>1958.0</td>\n",
       "      <td>3646 CANON BLVD, ALTADENA, CA 91001</td>\n",
       "      <td>34.206572</td>\n",
       "      <td>-118.135218</td>\n",
       "    </tr>\n",
       "    <tr>\n",
       "      <th>4</th>\n",
       "      <td>71009</td>\n",
       "      <td>Destroyed (&gt;50%)</td>\n",
       "      <td>0.0</td>\n",
       "      <td>Cedar</td>\n",
       "      <td>Way</td>\n",
       "      <td>Mokelumne Hill</td>\n",
       "      <td>CA</td>\n",
       "      <td>95245.0</td>\n",
       "      <td>TCU</td>\n",
       "      <td>Calaveras</td>\n",
       "      <td>Mountain Ranch</td>\n",
       "      <td>9/9/2015 12:00:00 AM</td>\n",
       "      <td>Fire</td>\n",
       "      <td>NaN</td>\n",
       "      <td>Single Family Residence Single Story</td>\n",
       "      <td>Single Residence</td>\n",
       "      <td>NaN</td>\n",
       "      <td>Fire Resistant</td>\n",
       "      <td>Unknown</td>\n",
       "      <td>Unknown</td>\n",
       "      <td>Combustible</td>\n",
       "      <td>Single Pane</td>\n",
       "      <td></td>\n",
       "      <td></td>\n",
       "      <td></td>\n",
       "      <td>NaN</td>\n",
       "      <td>NaN</td>\n",
       "      <td>NaN</td>\n",
       "      <td>40012.0</td>\n",
       "      <td>NaN</td>\n",
       "      <td>19669 CEDAR WAY MOKELUMNE HILL CA 95245</td>\n",
       "      <td>38.285820</td>\n",
       "      <td>-120.521524</td>\n",
       "    </tr>\n",
       "  </tbody>\n",
       "</table>\n",
       "</div>"
      ],
      "text/plain": [
       "   OBJECTID          * Damage  * Street Number * Street Name  \\\n",
       "0    110616         No Damage           1140.0      N Vinedo   \n",
       "1      5682         No Damage              0.0   Bear Creek    \n",
       "2       338  Destroyed (>50%)              0.0       Unknown   \n",
       "3    101747  Destroyed (>50%)           3646.0         Canon   \n",
       "4     71009  Destroyed (>50%)              0.0         Cedar   \n",
       "\n",
       "  * Street Type (e.g. road, drive, lane, etc.)          * City State  \\\n",
       "0                                       Avenue        Pasadena    CA   \n",
       "1                                        Drive             NaN    CA   \n",
       "2                                          NaN        Caliente    CA   \n",
       "3                                    Boulevard        Altadena    CA   \n",
       "4                                          Way  Mokelumne Hill    CA   \n",
       "\n",
       "   Zip Code * CAL FIRE Unit       County       Community  \\\n",
       "0   91107.0             LAC  Los Angeles             NaN   \n",
       "1       0.0             TUU       Tulare             NaN   \n",
       "2       NaN             KRN         Kern             NaN   \n",
       "3   91001.0             LAC  Los Angeles             NaN   \n",
       "4   95245.0             TCU    Calaveras  Mountain Ranch   \n",
       "\n",
       "     Incident Start Date Hazard Type Structure Defense Actions Taken  \\\n",
       "0    1/7/2025 8:02:01 AM        Fire                             NaN   \n",
       "1  8/19/2020 12:00:00 AM        Fire                         Unknown   \n",
       "2   8/3/2020 12:00:00 AM        Fire                             NaN   \n",
       "3    1/7/2025 8:02:01 AM        Fire                             NaN   \n",
       "4   9/9/2015 12:00:00 AM        Fire                             NaN   \n",
       "\n",
       "                       * Structure Type     Structure Category  \\\n",
       "0                Utility Misc Structure  Other Minor Structure   \n",
       "1  Single Family Residence Single Story       Single Residence   \n",
       "2  Single Family Residence Single Story       Single Residence   \n",
       "3  Single Family Residence Single Story       Single Residence   \n",
       "4  Single Family Residence Single Story       Single Residence   \n",
       "\n",
       "   # Units in Structure (if multi unit) * Roof Construction     * Eaves  \\\n",
       "0                                   NaN                Tile    Enclosed   \n",
       "1                                   0.0               Metal  Unenclosed   \n",
       "2                                   NaN             Asphalt     Unknown   \n",
       "3                                   NaN             Asphalt  Unenclosed   \n",
       "4                                   NaN      Fire Resistant     Unknown   \n",
       "\n",
       "         * Vent Screen    * Exterior Siding * Window Pane  \\\n",
       "0             No Vents  Stucco Brick Cement    Multi Pane   \n",
       "1              Unknown                 Wood   Single Pane   \n",
       "2              Unknown                 Wood   Single Pane   \n",
       "3  Mesh Screen > 1/8\"\"  Stucco Brick Cement    Multi Pane   \n",
       "4              Unknown          Combustible   Single Pane   \n",
       "\n",
       "  * Deck/Porch On Grade * Deck/Porch Elevated  \\\n",
       "0         No Deck/Porch         No Deck/Porch   \n",
       "1         No Deck/Porch         No Deck/Porch   \n",
       "2               Unknown               Unknown   \n",
       "3         No Deck/Porch      Masonry/Concrete   \n",
       "4                                               \n",
       "\n",
       "  * Patio Cover/Carport Attached to Structure * Fence Attached to Structure  \\\n",
       "0                      No Patio Cover/Carport                       Unknown   \n",
       "1                      No Patio Cover/Carport                      No Fence   \n",
       "2                                     Unknown                       Unknown   \n",
       "3                      No Patio Cover/Carport               Non Combustible   \n",
       "4                                                                       NaN   \n",
       "\n",
       "  Distance - Propane Tank to Structure  \\\n",
       "0                                  NaN   \n",
       "1                                  NaN   \n",
       "2                                  NaN   \n",
       "3                                  NaN   \n",
       "4                                  NaN   \n",
       "\n",
       "  Distance - Residence to Utility/Misc Structure &gt; 120 SQFT  \\\n",
       "0                                               <30'             \n",
       "1                                                NaN             \n",
       "2                                                NaN             \n",
       "3                                                NaN             \n",
       "4                                                NaN             \n",
       "\n",
       "   Assessed Improved Value (parcel)  Year Built (parcel)  \\\n",
       "0                          203071.0               1930.0   \n",
       "1                           19890.0                  0.0   \n",
       "2                               0.0                  0.0   \n",
       "3                           75612.0               1958.0   \n",
       "4                           40012.0                  NaN   \n",
       "\n",
       "                     Site Address (parcel)   Latitude   Longitude  \n",
       "0    1040 N VINEDO AVE, PASADENA, CA 91107  34.164132 -118.094558  \n",
       "1                                           36.206371 -118.732331  \n",
       "2                                           35.439471 -118.426347  \n",
       "3      3646 CANON BLVD, ALTADENA, CA 91001  34.206572 -118.135218  \n",
       "4  19669 CEDAR WAY MOKELUMNE HILL CA 95245  38.285820 -120.521524  "
      ]
     },
     "execution_count": 178,
     "metadata": {},
     "output_type": "execute_result"
    }
   ],
   "source": [
    "# Read csv file into a dataframe.\n",
    "df = pd.read_csv('cal-wildfires-24200030.csv')\n",
    "df.head()"
   ]
  },
  {
   "cell_type": "code",
   "execution_count": 179,
   "metadata": {},
   "outputs": [],
   "source": [
    "# Clean the column names \n",
    "df.columns = (df.columns.str.strip()\n",
    "              .str.replace(r'[^a-zA-Z0-9 ]', '', regex=True) # Remove special characters\n",
    "              .str.split()  # Split on whitespace\n",
    "              .str.join('_'))\n",
    "\n",
    "# Rename some columns\n",
    "df = df.rename(columns={'Street_Type_eg_road_drive_lane_etc': 'Street_Type',\n",
    "                        'Year_Built_parcel': 'Year_Built',\n",
    "                        'Assessed_Improved_Value_parcel' :'Assessed_Improved_Value',\n",
    "                        'Site_Address_parcel':'Site_Address',\n",
    "                        'Units_in_Structure_if_multi_unit':'Number_of_Units',\n",
    "                        'Distance_Residence_to_UtilityMisc_Structure_gt_120_SQFT':'Distance_Residence_to_UtilityMisc_Structure'})\n",
    "\n",
    "\n",
    "# Show all the columns\n",
    "pd.set_option('display.max_columns', None)"
   ]
  },
  {
   "cell_type": "code",
   "execution_count": 180,
   "metadata": {},
   "outputs": [
    {
     "data": {
      "text/html": [
       "<div>\n",
       "<style scoped>\n",
       "    .dataframe tbody tr th:only-of-type {\n",
       "        vertical-align: middle;\n",
       "    }\n",
       "\n",
       "    .dataframe tbody tr th {\n",
       "        vertical-align: top;\n",
       "    }\n",
       "\n",
       "    .dataframe thead th {\n",
       "        text-align: right;\n",
       "    }\n",
       "</style>\n",
       "<table border=\"1\" class=\"dataframe\">\n",
       "  <thead>\n",
       "    <tr style=\"text-align: right;\">\n",
       "      <th></th>\n",
       "      <th>OBJECTID</th>\n",
       "      <th>Damage</th>\n",
       "      <th>Street_Number</th>\n",
       "      <th>Street_Name</th>\n",
       "      <th>Street_Type</th>\n",
       "      <th>City</th>\n",
       "      <th>State</th>\n",
       "      <th>Zip_Code</th>\n",
       "      <th>CAL_FIRE_Unit</th>\n",
       "      <th>County</th>\n",
       "      <th>Community</th>\n",
       "      <th>Incident_Start_Date</th>\n",
       "      <th>Hazard_Type</th>\n",
       "      <th>Structure_Defense_Actions_Taken</th>\n",
       "      <th>Structure_Type</th>\n",
       "      <th>Structure_Category</th>\n",
       "      <th>Number_of_Units</th>\n",
       "      <th>Roof_Construction</th>\n",
       "      <th>Eaves</th>\n",
       "      <th>Vent_Screen</th>\n",
       "      <th>Exterior_Siding</th>\n",
       "      <th>Window_Pane</th>\n",
       "      <th>DeckPorch_On_Grade</th>\n",
       "      <th>DeckPorch_Elevated</th>\n",
       "      <th>Patio_CoverCarport_Attached_to_Structure</th>\n",
       "      <th>Fence_Attached_to_Structure</th>\n",
       "      <th>Distance_Propane_Tank_to_Structure</th>\n",
       "      <th>Distance_Residence_to_UtilityMisc_Structure</th>\n",
       "      <th>Assessed_Improved_Value</th>\n",
       "      <th>Year_Built</th>\n",
       "      <th>Site_Address</th>\n",
       "      <th>Latitude</th>\n",
       "      <th>Longitude</th>\n",
       "    </tr>\n",
       "  </thead>\n",
       "  <tbody>\n",
       "    <tr>\n",
       "      <th>0</th>\n",
       "      <td>110616</td>\n",
       "      <td>No Damage</td>\n",
       "      <td>1140.0</td>\n",
       "      <td>N Vinedo</td>\n",
       "      <td>Avenue</td>\n",
       "      <td>Pasadena</td>\n",
       "      <td>CA</td>\n",
       "      <td>91107.0</td>\n",
       "      <td>LAC</td>\n",
       "      <td>Los Angeles</td>\n",
       "      <td>NaN</td>\n",
       "      <td>1/7/2025 8:02:01 AM</td>\n",
       "      <td>Fire</td>\n",
       "      <td>NaN</td>\n",
       "      <td>Utility Misc Structure</td>\n",
       "      <td>Other Minor Structure</td>\n",
       "      <td>NaN</td>\n",
       "      <td>Tile</td>\n",
       "      <td>Enclosed</td>\n",
       "      <td>No Vents</td>\n",
       "      <td>Stucco Brick Cement</td>\n",
       "      <td>Multi Pane</td>\n",
       "      <td>No Deck/Porch</td>\n",
       "      <td>No Deck/Porch</td>\n",
       "      <td>No Patio Cover/Carport</td>\n",
       "      <td>Unknown</td>\n",
       "      <td>NaN</td>\n",
       "      <td>&lt;30'</td>\n",
       "      <td>203071.0</td>\n",
       "      <td>1930.0</td>\n",
       "      <td>1040 N VINEDO AVE, PASADENA, CA 91107</td>\n",
       "      <td>34.164132</td>\n",
       "      <td>-118.094558</td>\n",
       "    </tr>\n",
       "    <tr>\n",
       "      <th>1</th>\n",
       "      <td>5682</td>\n",
       "      <td>No Damage</td>\n",
       "      <td>0.0</td>\n",
       "      <td>Bear Creek</td>\n",
       "      <td>Drive</td>\n",
       "      <td>NaN</td>\n",
       "      <td>CA</td>\n",
       "      <td>0.0</td>\n",
       "      <td>TUU</td>\n",
       "      <td>Tulare</td>\n",
       "      <td>NaN</td>\n",
       "      <td>8/19/2020 12:00:00 AM</td>\n",
       "      <td>Fire</td>\n",
       "      <td>Unknown</td>\n",
       "      <td>Single Family Residence Single Story</td>\n",
       "      <td>Single Residence</td>\n",
       "      <td>0.0</td>\n",
       "      <td>Metal</td>\n",
       "      <td>Unenclosed</td>\n",
       "      <td>Unknown</td>\n",
       "      <td>Wood</td>\n",
       "      <td>Single Pane</td>\n",
       "      <td>No Deck/Porch</td>\n",
       "      <td>No Deck/Porch</td>\n",
       "      <td>No Patio Cover/Carport</td>\n",
       "      <td>No Fence</td>\n",
       "      <td>NaN</td>\n",
       "      <td>NaN</td>\n",
       "      <td>19890.0</td>\n",
       "      <td>0.0</td>\n",
       "      <td></td>\n",
       "      <td>36.206371</td>\n",
       "      <td>-118.732331</td>\n",
       "    </tr>\n",
       "    <tr>\n",
       "      <th>2</th>\n",
       "      <td>338</td>\n",
       "      <td>Destroyed (&gt;50%)</td>\n",
       "      <td>0.0</td>\n",
       "      <td>Unknown</td>\n",
       "      <td>NaN</td>\n",
       "      <td>Caliente</td>\n",
       "      <td>CA</td>\n",
       "      <td>NaN</td>\n",
       "      <td>KRN</td>\n",
       "      <td>Kern</td>\n",
       "      <td>NaN</td>\n",
       "      <td>8/3/2020 12:00:00 AM</td>\n",
       "      <td>Fire</td>\n",
       "      <td>NaN</td>\n",
       "      <td>Single Family Residence Single Story</td>\n",
       "      <td>Single Residence</td>\n",
       "      <td>NaN</td>\n",
       "      <td>Asphalt</td>\n",
       "      <td>Unknown</td>\n",
       "      <td>Unknown</td>\n",
       "      <td>Wood</td>\n",
       "      <td>Single Pane</td>\n",
       "      <td>Unknown</td>\n",
       "      <td>Unknown</td>\n",
       "      <td>Unknown</td>\n",
       "      <td>Unknown</td>\n",
       "      <td>NaN</td>\n",
       "      <td>NaN</td>\n",
       "      <td>0.0</td>\n",
       "      <td>0.0</td>\n",
       "      <td></td>\n",
       "      <td>35.439471</td>\n",
       "      <td>-118.426347</td>\n",
       "    </tr>\n",
       "    <tr>\n",
       "      <th>3</th>\n",
       "      <td>101747</td>\n",
       "      <td>Destroyed (&gt;50%)</td>\n",
       "      <td>3646.0</td>\n",
       "      <td>Canon</td>\n",
       "      <td>Boulevard</td>\n",
       "      <td>Altadena</td>\n",
       "      <td>CA</td>\n",
       "      <td>91001.0</td>\n",
       "      <td>LAC</td>\n",
       "      <td>Los Angeles</td>\n",
       "      <td>NaN</td>\n",
       "      <td>1/7/2025 8:02:01 AM</td>\n",
       "      <td>Fire</td>\n",
       "      <td>NaN</td>\n",
       "      <td>Single Family Residence Single Story</td>\n",
       "      <td>Single Residence</td>\n",
       "      <td>NaN</td>\n",
       "      <td>Asphalt</td>\n",
       "      <td>Unenclosed</td>\n",
       "      <td>Mesh Screen &gt; 1/8\"\"</td>\n",
       "      <td>Stucco Brick Cement</td>\n",
       "      <td>Multi Pane</td>\n",
       "      <td>No Deck/Porch</td>\n",
       "      <td>Masonry/Concrete</td>\n",
       "      <td>No Patio Cover/Carport</td>\n",
       "      <td>Non Combustible</td>\n",
       "      <td>NaN</td>\n",
       "      <td>NaN</td>\n",
       "      <td>75612.0</td>\n",
       "      <td>1958.0</td>\n",
       "      <td>3646 CANON BLVD, ALTADENA, CA 91001</td>\n",
       "      <td>34.206572</td>\n",
       "      <td>-118.135218</td>\n",
       "    </tr>\n",
       "    <tr>\n",
       "      <th>4</th>\n",
       "      <td>71009</td>\n",
       "      <td>Destroyed (&gt;50%)</td>\n",
       "      <td>0.0</td>\n",
       "      <td>Cedar</td>\n",
       "      <td>Way</td>\n",
       "      <td>Mokelumne Hill</td>\n",
       "      <td>CA</td>\n",
       "      <td>95245.0</td>\n",
       "      <td>TCU</td>\n",
       "      <td>Calaveras</td>\n",
       "      <td>Mountain Ranch</td>\n",
       "      <td>9/9/2015 12:00:00 AM</td>\n",
       "      <td>Fire</td>\n",
       "      <td>NaN</td>\n",
       "      <td>Single Family Residence Single Story</td>\n",
       "      <td>Single Residence</td>\n",
       "      <td>NaN</td>\n",
       "      <td>Fire Resistant</td>\n",
       "      <td>Unknown</td>\n",
       "      <td>Unknown</td>\n",
       "      <td>Combustible</td>\n",
       "      <td>Single Pane</td>\n",
       "      <td></td>\n",
       "      <td></td>\n",
       "      <td></td>\n",
       "      <td>NaN</td>\n",
       "      <td>NaN</td>\n",
       "      <td>NaN</td>\n",
       "      <td>40012.0</td>\n",
       "      <td>NaN</td>\n",
       "      <td>19669 CEDAR WAY MOKELUMNE HILL CA 95245</td>\n",
       "      <td>38.285820</td>\n",
       "      <td>-120.521524</td>\n",
       "    </tr>\n",
       "  </tbody>\n",
       "</table>\n",
       "</div>"
      ],
      "text/plain": [
       "   OBJECTID            Damage  Street_Number  Street_Name Street_Type  \\\n",
       "0    110616         No Damage         1140.0     N Vinedo      Avenue   \n",
       "1      5682         No Damage            0.0  Bear Creek        Drive   \n",
       "2       338  Destroyed (>50%)            0.0      Unknown         NaN   \n",
       "3    101747  Destroyed (>50%)         3646.0        Canon   Boulevard   \n",
       "4     71009  Destroyed (>50%)            0.0        Cedar         Way   \n",
       "\n",
       "             City State  Zip_Code CAL_FIRE_Unit       County       Community  \\\n",
       "0        Pasadena    CA   91107.0           LAC  Los Angeles             NaN   \n",
       "1             NaN    CA       0.0           TUU       Tulare             NaN   \n",
       "2        Caliente    CA       NaN           KRN         Kern             NaN   \n",
       "3        Altadena    CA   91001.0           LAC  Los Angeles             NaN   \n",
       "4  Mokelumne Hill    CA   95245.0           TCU    Calaveras  Mountain Ranch   \n",
       "\n",
       "     Incident_Start_Date Hazard_Type Structure_Defense_Actions_Taken  \\\n",
       "0    1/7/2025 8:02:01 AM        Fire                             NaN   \n",
       "1  8/19/2020 12:00:00 AM        Fire                         Unknown   \n",
       "2   8/3/2020 12:00:00 AM        Fire                             NaN   \n",
       "3    1/7/2025 8:02:01 AM        Fire                             NaN   \n",
       "4   9/9/2015 12:00:00 AM        Fire                             NaN   \n",
       "\n",
       "                         Structure_Type     Structure_Category  \\\n",
       "0                Utility Misc Structure  Other Minor Structure   \n",
       "1  Single Family Residence Single Story       Single Residence   \n",
       "2  Single Family Residence Single Story       Single Residence   \n",
       "3  Single Family Residence Single Story       Single Residence   \n",
       "4  Single Family Residence Single Story       Single Residence   \n",
       "\n",
       "   Number_of_Units Roof_Construction       Eaves          Vent_Screen  \\\n",
       "0              NaN              Tile    Enclosed             No Vents   \n",
       "1              0.0             Metal  Unenclosed              Unknown   \n",
       "2              NaN           Asphalt     Unknown              Unknown   \n",
       "3              NaN           Asphalt  Unenclosed  Mesh Screen > 1/8\"\"   \n",
       "4              NaN    Fire Resistant     Unknown              Unknown   \n",
       "\n",
       "       Exterior_Siding  Window_Pane DeckPorch_On_Grade DeckPorch_Elevated  \\\n",
       "0  Stucco Brick Cement   Multi Pane      No Deck/Porch      No Deck/Porch   \n",
       "1                 Wood  Single Pane      No Deck/Porch      No Deck/Porch   \n",
       "2                 Wood  Single Pane            Unknown            Unknown   \n",
       "3  Stucco Brick Cement   Multi Pane      No Deck/Porch   Masonry/Concrete   \n",
       "4          Combustible  Single Pane                                         \n",
       "\n",
       "  Patio_CoverCarport_Attached_to_Structure Fence_Attached_to_Structure  \\\n",
       "0                   No Patio Cover/Carport                     Unknown   \n",
       "1                   No Patio Cover/Carport                    No Fence   \n",
       "2                                  Unknown                     Unknown   \n",
       "3                   No Patio Cover/Carport             Non Combustible   \n",
       "4                                                                  NaN   \n",
       "\n",
       "  Distance_Propane_Tank_to_Structure  \\\n",
       "0                                NaN   \n",
       "1                                NaN   \n",
       "2                                NaN   \n",
       "3                                NaN   \n",
       "4                                NaN   \n",
       "\n",
       "  Distance_Residence_to_UtilityMisc_Structure  Assessed_Improved_Value  \\\n",
       "0                                        <30'                 203071.0   \n",
       "1                                         NaN                  19890.0   \n",
       "2                                         NaN                      0.0   \n",
       "3                                         NaN                  75612.0   \n",
       "4                                         NaN                  40012.0   \n",
       "\n",
       "   Year_Built                             Site_Address   Latitude   Longitude  \n",
       "0      1930.0    1040 N VINEDO AVE, PASADENA, CA 91107  34.164132 -118.094558  \n",
       "1         0.0                                           36.206371 -118.732331  \n",
       "2         0.0                                           35.439471 -118.426347  \n",
       "3      1958.0      3646 CANON BLVD, ALTADENA, CA 91001  34.206572 -118.135218  \n",
       "4         NaN  19669 CEDAR WAY MOKELUMNE HILL CA 95245  38.285820 -120.521524  "
      ]
     },
     "execution_count": 180,
     "metadata": {},
     "output_type": "execute_result"
    }
   ],
   "source": [
    "df.head()"
   ]
  },
  {
   "cell_type": "code",
   "execution_count": 181,
   "metadata": {},
   "outputs": [
    {
     "data": {
      "text/plain": [
       "OBJECTID                                         int64\n",
       "Damage                                          object\n",
       "Street_Number                                  float64\n",
       "Street_Name                                     object\n",
       "Street_Type                                     object\n",
       "City                                            object\n",
       "State                                           object\n",
       "Zip_Code                                       float64\n",
       "CAL_FIRE_Unit                                   object\n",
       "County                                          object\n",
       "Community                                       object\n",
       "Incident_Start_Date                             object\n",
       "Hazard_Type                                     object\n",
       "Structure_Defense_Actions_Taken                 object\n",
       "Structure_Type                                  object\n",
       "Structure_Category                              object\n",
       "Number_of_Units                                float64\n",
       "Roof_Construction                               object\n",
       "Eaves                                           object\n",
       "Vent_Screen                                     object\n",
       "Exterior_Siding                                 object\n",
       "Window_Pane                                     object\n",
       "DeckPorch_On_Grade                              object\n",
       "DeckPorch_Elevated                              object\n",
       "Patio_CoverCarport_Attached_to_Structure        object\n",
       "Fence_Attached_to_Structure                     object\n",
       "Distance_Propane_Tank_to_Structure              object\n",
       "Distance_Residence_to_UtilityMisc_Structure     object\n",
       "Assessed_Improved_Value                        float64\n",
       "Year_Built                                     float64\n",
       "Site_Address                                    object\n",
       "Latitude                                       float64\n",
       "Longitude                                      float64\n",
       "dtype: object"
      ]
     },
     "execution_count": 181,
     "metadata": {},
     "output_type": "execute_result"
    }
   ],
   "source": [
    "df.dtypes"
   ]
  },
  {
   "cell_type": "code",
   "execution_count": 182,
   "metadata": {},
   "outputs": [],
   "source": [
    "def format_zipcode(x):\n",
    "    if pd.isna(x):\n",
    "        return None\n",
    "    return str(int(x)).zfill(5)\n",
    "\n",
    "df['Zip_Code'] = df['Zip_Code'].apply(format_zipcode)"
   ]
  },
  {
   "cell_type": "code",
   "execution_count": 183,
   "metadata": {},
   "outputs": [
    {
     "data": {
      "text/html": [
       "<div>\n",
       "<style scoped>\n",
       "    .dataframe tbody tr th:only-of-type {\n",
       "        vertical-align: middle;\n",
       "    }\n",
       "\n",
       "    .dataframe tbody tr th {\n",
       "        vertical-align: top;\n",
       "    }\n",
       "\n",
       "    .dataframe thead th {\n",
       "        text-align: right;\n",
       "    }\n",
       "</style>\n",
       "<table border=\"1\" class=\"dataframe\">\n",
       "  <thead>\n",
       "    <tr style=\"text-align: right;\">\n",
       "      <th></th>\n",
       "      <th>OBJECTID</th>\n",
       "      <th>Damage</th>\n",
       "      <th>Street_Number</th>\n",
       "      <th>Street_Name</th>\n",
       "      <th>Street_Type</th>\n",
       "      <th>City</th>\n",
       "      <th>State</th>\n",
       "      <th>Zip_Code</th>\n",
       "      <th>CAL_FIRE_Unit</th>\n",
       "      <th>County</th>\n",
       "      <th>Community</th>\n",
       "      <th>Incident_Start_Date</th>\n",
       "      <th>Hazard_Type</th>\n",
       "      <th>Structure_Defense_Actions_Taken</th>\n",
       "      <th>Structure_Type</th>\n",
       "      <th>Structure_Category</th>\n",
       "      <th>Number_of_Units</th>\n",
       "      <th>Roof_Construction</th>\n",
       "      <th>Eaves</th>\n",
       "      <th>Vent_Screen</th>\n",
       "      <th>Exterior_Siding</th>\n",
       "      <th>Window_Pane</th>\n",
       "      <th>DeckPorch_On_Grade</th>\n",
       "      <th>DeckPorch_Elevated</th>\n",
       "      <th>Patio_CoverCarport_Attached_to_Structure</th>\n",
       "      <th>Fence_Attached_to_Structure</th>\n",
       "      <th>Distance_Propane_Tank_to_Structure</th>\n",
       "      <th>Distance_Residence_to_UtilityMisc_Structure</th>\n",
       "      <th>Assessed_Improved_Value</th>\n",
       "      <th>Year_Built</th>\n",
       "      <th>Site_Address</th>\n",
       "      <th>Latitude</th>\n",
       "      <th>Longitude</th>\n",
       "    </tr>\n",
       "  </thead>\n",
       "  <tbody>\n",
       "    <tr>\n",
       "      <th>0</th>\n",
       "      <td>110616</td>\n",
       "      <td>No Damage</td>\n",
       "      <td>1140.0</td>\n",
       "      <td>N Vinedo</td>\n",
       "      <td>Avenue</td>\n",
       "      <td>Pasadena</td>\n",
       "      <td>CA</td>\n",
       "      <td>91107</td>\n",
       "      <td>LAC</td>\n",
       "      <td>Los Angeles</td>\n",
       "      <td>NaN</td>\n",
       "      <td>1/7/2025 8:02:01 AM</td>\n",
       "      <td>Fire</td>\n",
       "      <td>NaN</td>\n",
       "      <td>Utility Misc Structure</td>\n",
       "      <td>Other Minor Structure</td>\n",
       "      <td>NaN</td>\n",
       "      <td>Tile</td>\n",
       "      <td>Enclosed</td>\n",
       "      <td>No Vents</td>\n",
       "      <td>Stucco Brick Cement</td>\n",
       "      <td>Multi Pane</td>\n",
       "      <td>No Deck/Porch</td>\n",
       "      <td>No Deck/Porch</td>\n",
       "      <td>No Patio Cover/Carport</td>\n",
       "      <td>Unknown</td>\n",
       "      <td>NaN</td>\n",
       "      <td>&lt;30'</td>\n",
       "      <td>203071.0</td>\n",
       "      <td>1930.0</td>\n",
       "      <td>1040 N VINEDO AVE, PASADENA, CA 91107</td>\n",
       "      <td>34.164132</td>\n",
       "      <td>-118.094558</td>\n",
       "    </tr>\n",
       "    <tr>\n",
       "      <th>1</th>\n",
       "      <td>5682</td>\n",
       "      <td>No Damage</td>\n",
       "      <td>0.0</td>\n",
       "      <td>Bear Creek</td>\n",
       "      <td>Drive</td>\n",
       "      <td>NaN</td>\n",
       "      <td>CA</td>\n",
       "      <td>00000</td>\n",
       "      <td>TUU</td>\n",
       "      <td>Tulare</td>\n",
       "      <td>NaN</td>\n",
       "      <td>8/19/2020 12:00:00 AM</td>\n",
       "      <td>Fire</td>\n",
       "      <td>Unknown</td>\n",
       "      <td>Single Family Residence Single Story</td>\n",
       "      <td>Single Residence</td>\n",
       "      <td>0.0</td>\n",
       "      <td>Metal</td>\n",
       "      <td>Unenclosed</td>\n",
       "      <td>Unknown</td>\n",
       "      <td>Wood</td>\n",
       "      <td>Single Pane</td>\n",
       "      <td>No Deck/Porch</td>\n",
       "      <td>No Deck/Porch</td>\n",
       "      <td>No Patio Cover/Carport</td>\n",
       "      <td>No Fence</td>\n",
       "      <td>NaN</td>\n",
       "      <td>NaN</td>\n",
       "      <td>19890.0</td>\n",
       "      <td>0.0</td>\n",
       "      <td></td>\n",
       "      <td>36.206371</td>\n",
       "      <td>-118.732331</td>\n",
       "    </tr>\n",
       "    <tr>\n",
       "      <th>2</th>\n",
       "      <td>338</td>\n",
       "      <td>Destroyed (&gt;50%)</td>\n",
       "      <td>0.0</td>\n",
       "      <td>Unknown</td>\n",
       "      <td>NaN</td>\n",
       "      <td>Caliente</td>\n",
       "      <td>CA</td>\n",
       "      <td>None</td>\n",
       "      <td>KRN</td>\n",
       "      <td>Kern</td>\n",
       "      <td>NaN</td>\n",
       "      <td>8/3/2020 12:00:00 AM</td>\n",
       "      <td>Fire</td>\n",
       "      <td>NaN</td>\n",
       "      <td>Single Family Residence Single Story</td>\n",
       "      <td>Single Residence</td>\n",
       "      <td>NaN</td>\n",
       "      <td>Asphalt</td>\n",
       "      <td>Unknown</td>\n",
       "      <td>Unknown</td>\n",
       "      <td>Wood</td>\n",
       "      <td>Single Pane</td>\n",
       "      <td>Unknown</td>\n",
       "      <td>Unknown</td>\n",
       "      <td>Unknown</td>\n",
       "      <td>Unknown</td>\n",
       "      <td>NaN</td>\n",
       "      <td>NaN</td>\n",
       "      <td>0.0</td>\n",
       "      <td>0.0</td>\n",
       "      <td></td>\n",
       "      <td>35.439471</td>\n",
       "      <td>-118.426347</td>\n",
       "    </tr>\n",
       "    <tr>\n",
       "      <th>3</th>\n",
       "      <td>101747</td>\n",
       "      <td>Destroyed (&gt;50%)</td>\n",
       "      <td>3646.0</td>\n",
       "      <td>Canon</td>\n",
       "      <td>Boulevard</td>\n",
       "      <td>Altadena</td>\n",
       "      <td>CA</td>\n",
       "      <td>91001</td>\n",
       "      <td>LAC</td>\n",
       "      <td>Los Angeles</td>\n",
       "      <td>NaN</td>\n",
       "      <td>1/7/2025 8:02:01 AM</td>\n",
       "      <td>Fire</td>\n",
       "      <td>NaN</td>\n",
       "      <td>Single Family Residence Single Story</td>\n",
       "      <td>Single Residence</td>\n",
       "      <td>NaN</td>\n",
       "      <td>Asphalt</td>\n",
       "      <td>Unenclosed</td>\n",
       "      <td>Mesh Screen &gt; 1/8\"\"</td>\n",
       "      <td>Stucco Brick Cement</td>\n",
       "      <td>Multi Pane</td>\n",
       "      <td>No Deck/Porch</td>\n",
       "      <td>Masonry/Concrete</td>\n",
       "      <td>No Patio Cover/Carport</td>\n",
       "      <td>Non Combustible</td>\n",
       "      <td>NaN</td>\n",
       "      <td>NaN</td>\n",
       "      <td>75612.0</td>\n",
       "      <td>1958.0</td>\n",
       "      <td>3646 CANON BLVD, ALTADENA, CA 91001</td>\n",
       "      <td>34.206572</td>\n",
       "      <td>-118.135218</td>\n",
       "    </tr>\n",
       "    <tr>\n",
       "      <th>4</th>\n",
       "      <td>71009</td>\n",
       "      <td>Destroyed (&gt;50%)</td>\n",
       "      <td>0.0</td>\n",
       "      <td>Cedar</td>\n",
       "      <td>Way</td>\n",
       "      <td>Mokelumne Hill</td>\n",
       "      <td>CA</td>\n",
       "      <td>95245</td>\n",
       "      <td>TCU</td>\n",
       "      <td>Calaveras</td>\n",
       "      <td>Mountain Ranch</td>\n",
       "      <td>9/9/2015 12:00:00 AM</td>\n",
       "      <td>Fire</td>\n",
       "      <td>NaN</td>\n",
       "      <td>Single Family Residence Single Story</td>\n",
       "      <td>Single Residence</td>\n",
       "      <td>NaN</td>\n",
       "      <td>Fire Resistant</td>\n",
       "      <td>Unknown</td>\n",
       "      <td>Unknown</td>\n",
       "      <td>Combustible</td>\n",
       "      <td>Single Pane</td>\n",
       "      <td></td>\n",
       "      <td></td>\n",
       "      <td></td>\n",
       "      <td>NaN</td>\n",
       "      <td>NaN</td>\n",
       "      <td>NaN</td>\n",
       "      <td>40012.0</td>\n",
       "      <td>NaN</td>\n",
       "      <td>19669 CEDAR WAY MOKELUMNE HILL CA 95245</td>\n",
       "      <td>38.285820</td>\n",
       "      <td>-120.521524</td>\n",
       "    </tr>\n",
       "  </tbody>\n",
       "</table>\n",
       "</div>"
      ],
      "text/plain": [
       "   OBJECTID            Damage  Street_Number  Street_Name Street_Type  \\\n",
       "0    110616         No Damage         1140.0     N Vinedo      Avenue   \n",
       "1      5682         No Damage            0.0  Bear Creek        Drive   \n",
       "2       338  Destroyed (>50%)            0.0      Unknown         NaN   \n",
       "3    101747  Destroyed (>50%)         3646.0        Canon   Boulevard   \n",
       "4     71009  Destroyed (>50%)            0.0        Cedar         Way   \n",
       "\n",
       "             City State Zip_Code CAL_FIRE_Unit       County       Community  \\\n",
       "0        Pasadena    CA    91107           LAC  Los Angeles             NaN   \n",
       "1             NaN    CA    00000           TUU       Tulare             NaN   \n",
       "2        Caliente    CA     None           KRN         Kern             NaN   \n",
       "3        Altadena    CA    91001           LAC  Los Angeles             NaN   \n",
       "4  Mokelumne Hill    CA    95245           TCU    Calaveras  Mountain Ranch   \n",
       "\n",
       "     Incident_Start_Date Hazard_Type Structure_Defense_Actions_Taken  \\\n",
       "0    1/7/2025 8:02:01 AM        Fire                             NaN   \n",
       "1  8/19/2020 12:00:00 AM        Fire                         Unknown   \n",
       "2   8/3/2020 12:00:00 AM        Fire                             NaN   \n",
       "3    1/7/2025 8:02:01 AM        Fire                             NaN   \n",
       "4   9/9/2015 12:00:00 AM        Fire                             NaN   \n",
       "\n",
       "                         Structure_Type     Structure_Category  \\\n",
       "0                Utility Misc Structure  Other Minor Structure   \n",
       "1  Single Family Residence Single Story       Single Residence   \n",
       "2  Single Family Residence Single Story       Single Residence   \n",
       "3  Single Family Residence Single Story       Single Residence   \n",
       "4  Single Family Residence Single Story       Single Residence   \n",
       "\n",
       "   Number_of_Units Roof_Construction       Eaves          Vent_Screen  \\\n",
       "0              NaN              Tile    Enclosed             No Vents   \n",
       "1              0.0             Metal  Unenclosed              Unknown   \n",
       "2              NaN           Asphalt     Unknown              Unknown   \n",
       "3              NaN           Asphalt  Unenclosed  Mesh Screen > 1/8\"\"   \n",
       "4              NaN    Fire Resistant     Unknown              Unknown   \n",
       "\n",
       "       Exterior_Siding  Window_Pane DeckPorch_On_Grade DeckPorch_Elevated  \\\n",
       "0  Stucco Brick Cement   Multi Pane      No Deck/Porch      No Deck/Porch   \n",
       "1                 Wood  Single Pane      No Deck/Porch      No Deck/Porch   \n",
       "2                 Wood  Single Pane            Unknown            Unknown   \n",
       "3  Stucco Brick Cement   Multi Pane      No Deck/Porch   Masonry/Concrete   \n",
       "4          Combustible  Single Pane                                         \n",
       "\n",
       "  Patio_CoverCarport_Attached_to_Structure Fence_Attached_to_Structure  \\\n",
       "0                   No Patio Cover/Carport                     Unknown   \n",
       "1                   No Patio Cover/Carport                    No Fence   \n",
       "2                                  Unknown                     Unknown   \n",
       "3                   No Patio Cover/Carport             Non Combustible   \n",
       "4                                                                  NaN   \n",
       "\n",
       "  Distance_Propane_Tank_to_Structure  \\\n",
       "0                                NaN   \n",
       "1                                NaN   \n",
       "2                                NaN   \n",
       "3                                NaN   \n",
       "4                                NaN   \n",
       "\n",
       "  Distance_Residence_to_UtilityMisc_Structure  Assessed_Improved_Value  \\\n",
       "0                                        <30'                 203071.0   \n",
       "1                                         NaN                  19890.0   \n",
       "2                                         NaN                      0.0   \n",
       "3                                         NaN                  75612.0   \n",
       "4                                         NaN                  40012.0   \n",
       "\n",
       "   Year_Built                             Site_Address   Latitude   Longitude  \n",
       "0      1930.0    1040 N VINEDO AVE, PASADENA, CA 91107  34.164132 -118.094558  \n",
       "1         0.0                                           36.206371 -118.732331  \n",
       "2         0.0                                           35.439471 -118.426347  \n",
       "3      1958.0      3646 CANON BLVD, ALTADENA, CA 91001  34.206572 -118.135218  \n",
       "4         NaN  19669 CEDAR WAY MOKELUMNE HILL CA 95245  38.285820 -120.521524  "
      ]
     },
     "execution_count": 183,
     "metadata": {},
     "output_type": "execute_result"
    }
   ],
   "source": [
    "df.head()"
   ]
  },
  {
   "cell_type": "code",
   "execution_count": 184,
   "metadata": {},
   "outputs": [
    {
     "data": {
      "text/plain": [
       "OBJECTID                                               object\n",
       "Damage                                               category\n",
       "Street_Number                                        category\n",
       "Street_Name                                          category\n",
       "Street_Type                                          category\n",
       "City                                                 category\n",
       "State                                                category\n",
       "Zip_Code                                             category\n",
       "CAL_FIRE_Unit                                        category\n",
       "County                                               category\n",
       "Community                                            category\n",
       "Incident_Start_Date                            datetime64[ns]\n",
       "Hazard_Type                                          category\n",
       "Structure_Defense_Actions_Taken                      category\n",
       "Structure_Type                                       category\n",
       "Structure_Category                                   category\n",
       "Number_of_Units                                      category\n",
       "Roof_Construction                                    category\n",
       "Eaves                                                category\n",
       "Vent_Screen                                          category\n",
       "Exterior_Siding                                      category\n",
       "Window_Pane                                          category\n",
       "DeckPorch_On_Grade                                   category\n",
       "DeckPorch_Elevated                                   category\n",
       "Patio_CoverCarport_Attached_to_Structure             category\n",
       "Fence_Attached_to_Structure                          category\n",
       "Distance_Propane_Tank_to_Structure                   category\n",
       "Distance_Residence_to_UtilityMisc_Structure          category\n",
       "Assessed_Improved_Value                               float64\n",
       "Year_Built                                            float64\n",
       "Site_Address                                         category\n",
       "Latitude                                              float64\n",
       "Longitude                                             float64\n",
       "dtype: object"
      ]
     },
     "execution_count": 184,
     "metadata": {},
     "output_type": "execute_result"
    }
   ],
   "source": [
    "# Convert to proper type\n",
    "df['Street_Number'] = df['Street_Number'].astype('object')\n",
    "df['Number_of_Units'] = df['Number_of_Units'].astype('object')\n",
    "\n",
    "def col_type_convert():\n",
    "    # Select all columns of type 'object'\n",
    "    object_columns = df.select_dtypes(['object']).columns\n",
    "\n",
    "    # Convert selected columns to type 'category'\n",
    "    for column in object_columns:\n",
    "        df[column] = df[column].astype('category')\n",
    "        \n",
    "    # Turn the feature OBJECTID into type 'object' so it is not used during descriptive stats\n",
    "    df['OBJECTID'] = df['OBJECTID'].astype('object')\n",
    "\n",
    "    # Convert Incident_Start_Date to date\n",
    "    df['Incident_Start_Date'] = pd.to_datetime(df['Incident_Start_Date'])\n",
    "    df['Incident_Start_Date'] = df['Incident_Start_Date'].astype('datetime64[ns]')\n",
    "col_type_convert()\n",
    "df.dtypes"
   ]
  },
  {
   "cell_type": "code",
   "execution_count": 185,
   "metadata": {},
   "outputs": [],
   "source": [
    "categorical_columns = df.select_dtypes(['category']).columns"
   ]
  },
  {
   "cell_type": "code",
   "execution_count": 186,
   "metadata": {},
   "outputs": [
    {
     "name": "stdout",
     "output_type": "stream",
     "text": [
      "Before replacement in column 'Damage': 0\n",
      "After replacement in column 'Damage': 0\n",
      "Before replacement in column 'Street_Number': 379\n",
      "After replacement in column 'Street_Number': 0\n",
      "Before replacement in column 'Street_Name': 496\n",
      "After replacement in column 'Street_Name': 0\n",
      "Before replacement in column 'Street_Type': 1208\n",
      "After replacement in column 'Street_Type': 0\n",
      "Before replacement in column 'City': 2468\n",
      "After replacement in column 'City': 0\n",
      "Before replacement in column 'State': 0\n",
      "After replacement in column 'State': 0\n",
      "Before replacement in column 'Zip_Code': 4004\n",
      "After replacement in column 'Zip_Code': 0\n",
      "Before replacement in column 'CAL_FIRE_Unit': 0\n",
      "After replacement in column 'CAL_FIRE_Unit': 0\n",
      "Before replacement in column 'County': 3\n",
      "After replacement in column 'County': 0\n",
      "Before replacement in column 'Community': 5874\n",
      "After replacement in column 'Community': 0\n",
      "Before replacement in column 'Hazard_Type': 0\n",
      "After replacement in column 'Hazard_Type': 0\n",
      "Before replacement in column 'Structure_Defense_Actions_Taken': 7356\n",
      "After replacement in column 'Structure_Defense_Actions_Taken': 0\n",
      "Before replacement in column 'Structure_Type': 0\n",
      "After replacement in column 'Structure_Type': 0\n",
      "Before replacement in column 'Structure_Category': 0\n",
      "After replacement in column 'Structure_Category': 0\n",
      "Before replacement in column 'Number_of_Units': 6955\n",
      "After replacement in column 'Number_of_Units': 0\n",
      "Before replacement in column 'Roof_Construction': 30\n",
      "After replacement in column 'Roof_Construction': 0\n",
      "Before replacement in column 'Eaves': 78\n",
      "After replacement in column 'Eaves': 0\n",
      "Before replacement in column 'Vent_Screen': 80\n",
      "After replacement in column 'Vent_Screen': 0\n",
      "Before replacement in column 'Exterior_Siding': 57\n",
      "After replacement in column 'Exterior_Siding': 0\n",
      "Before replacement in column 'Window_Pane': 62\n",
      "After replacement in column 'Window_Pane': 0\n",
      "Before replacement in column 'DeckPorch_On_Grade': 0\n",
      "After replacement in column 'DeckPorch_On_Grade': 0\n",
      "Before replacement in column 'DeckPorch_Elevated': 0\n",
      "After replacement in column 'DeckPorch_Elevated': 0\n",
      "Before replacement in column 'Patio_CoverCarport_Attached_to_Structure': 0\n",
      "After replacement in column 'Patio_CoverCarport_Attached_to_Structure': 0\n",
      "Before replacement in column 'Fence_Attached_to_Structure': 1675\n",
      "After replacement in column 'Fence_Attached_to_Structure': 0\n",
      "Before replacement in column 'Distance_Propane_Tank_to_Structure': 8092\n",
      "After replacement in column 'Distance_Propane_Tank_to_Structure': 0\n",
      "Before replacement in column 'Distance_Residence_to_UtilityMisc_Structure': 8583\n",
      "After replacement in column 'Distance_Residence_to_UtilityMisc_Structure': 0\n",
      "Before replacement in column 'Site_Address': 387\n",
      "After replacement in column 'Site_Address': 0\n"
     ]
    }
   ],
   "source": [
    "# Loop through all categorical columns and print NaN count before and after\n",
    "for column in categorical_columns:\n",
    "    # Print NaN count before replacement\n",
    "    print(f\"Before replacement in column '{column}': {df[column].isna().sum()}\")\n",
    "\n",
    "    # Convert type from category to object to replace NaN\n",
    "    # Replace NaN, pd.NA, None, and 'Not Applicable' with 'Unknown'\n",
    "    df[column] = df[column].astype(\"object\").replace({\n",
    "            np.nan: 'Unknown',      \n",
    "            pd.NA: 'Unknown',         \n",
    "            None: 'Unknown',         \n",
    "            '': 'Unknown',            \n",
    "            ' ': 'Unknown',         \n",
    "            'nan': 'Unknown',        \n",
    "            'None': 'Unknown',       \n",
    "            'Not Applicable': 'Unknown' \n",
    "        })\n",
    "        \n",
    "\n",
    "    # Print NaN count after replacement\n",
    "    print(f\"After replacement in column '{column}': {df[column].isna().sum()}\")"
   ]
  },
  {
   "cell_type": "markdown",
   "metadata": {},
   "source": [
    "## (0.2) Deal with address related column"
   ]
  },
  {
   "cell_type": "markdown",
   "metadata": {},
   "source": [
    "### Zip_Code"
   ]
  },
  {
   "cell_type": "markdown",
   "metadata": {},
   "source": [
    "#### Missing value"
   ]
  },
  {
   "cell_type": "code",
   "execution_count": 187,
   "metadata": {},
   "outputs": [
    {
     "data": {
      "text/plain": [
       "0         91107\n",
       "1         00000\n",
       "2       Unknown\n",
       "3         91001\n",
       "4         95245\n",
       "         ...   \n",
       "9995    Unknown\n",
       "9996      91001\n",
       "9997      92539\n",
       "9998      90272\n",
       "9999      95470\n",
       "Name: Zip_Code, Length: 10000, dtype: object"
      ]
     },
     "execution_count": 187,
     "metadata": {},
     "output_type": "execute_result"
    }
   ],
   "source": [
    "df['Zip_Code'] "
   ]
  },
  {
   "cell_type": "code",
   "execution_count": 188,
   "metadata": {},
   "outputs": [
    {
     "data": {
      "text/plain": [
       "0         91107\n",
       "1       Unknown\n",
       "2       Unknown\n",
       "3         91001\n",
       "4         95245\n",
       "         ...   \n",
       "9995    Unknown\n",
       "9996      91001\n",
       "9997      92539\n",
       "9998      90272\n",
       "9999      95470\n",
       "Name: Zip_Code, Length: 10000, dtype: object"
      ]
     },
     "execution_count": 188,
     "metadata": {},
     "output_type": "execute_result"
    }
   ],
   "source": [
    "# Replace \"00000\" with \"Unknown\"\n",
    "df['Zip_Code'] = df['Zip_Code'].replace('00000', 'Unknown')\n",
    "\n",
    "df['Zip_Code'] "
   ]
  },
  {
   "cell_type": "code",
   "execution_count": 189,
   "metadata": {},
   "outputs": [
    {
     "name": "stdout",
     "output_type": "stream",
     "text": [
      "Missing Zip_Code percentage before: 59.21%\n",
      "Missing Zip_Code percentage after: 10.53%\n"
     ]
    }
   ],
   "source": [
    "def fill_zip_code(df):\n",
    "    for index, row in df.iterrows():\n",
    "        site_address = row['Site_Address']\n",
    "        zip_code = row['Zip_Code']\n",
    "\n",
    "\n",
    "        if zip_code == 'Unknown':  # if zip code is unknown\n",
    "            # Extract the number from the last space-delimited portion of the Site_Address column\n",
    "            parts = site_address.split()\n",
    "            if parts and parts[-1].isdigit() and len(parts[-1]) == 5: \n",
    "                df.at[index, 'Zip_Code'] = parts[-1]  \n",
    "    return df\n",
    "df['Zip_Code'] = df['Zip_Code'].astype('object')\n",
    "\n",
    "# Print missing value before\n",
    "missing = 100 * (df['Zip_Code'] == 'Unknown').sum() / df.shape[0]\n",
    "print(f\"Missing Zip_Code percentage before: {missing:.2f}%\")\n",
    "\n",
    "df = fill_zip_code(df)\n",
    "\n",
    "df['Zip_Code'] = df['Zip_Code'].astype('category')\n",
    "\n",
    "# Recalculate 'Unknown' percent\n",
    "missing = 100 * (df['Zip_Code'] == 'Unknown').sum() / df.shape[0]\n",
    "print(f\"Missing Zip_Code percentage after: {missing:.2f}%\")"
   ]
  },
  {
   "cell_type": "markdown",
   "metadata": {},
   "source": [
    "#### High cardinality"
   ]
  },
  {
   "cell_type": "code",
   "execution_count": 190,
   "metadata": {},
   "outputs": [
    {
     "name": "stdout",
     "output_type": "stream",
     "text": [
      "Cardinality: 252\n"
     ]
    }
   ],
   "source": [
    "print(\"Cardinality:\", len(df['Zip_Code'].unique()))"
   ]
  },
  {
   "cell_type": "code",
   "execution_count": 191,
   "metadata": {},
   "outputs": [
    {
     "data": {
      "text/plain": [
       "<bound method IndexOpsMixin.value_counts of 0         91107\n",
       "1       Unknown\n",
       "2       Unknown\n",
       "3         91001\n",
       "4         95245\n",
       "         ...   \n",
       "9995      90265\n",
       "9996      91001\n",
       "9997      92539\n",
       "9998      90272\n",
       "9999      95470\n",
       "Name: Zip_Code, Length: 10000, dtype: category\n",
       "Categories (252, object): ['00000', '90049', '90263', '90265', ..., '96155', '96161', '96311', 'Unknown']>"
      ]
     },
     "execution_count": 191,
     "metadata": {},
     "output_type": "execute_result"
    }
   ],
   "source": [
    "df['Zip_Code'].value_counts"
   ]
  },
  {
   "cell_type": "code",
   "execution_count": 192,
   "metadata": {},
   "outputs": [
    {
     "name": "stderr",
     "output_type": "stream",
     "text": [
      "C:\\Users\\xiaoxiajin\\AppData\\Local\\Temp\\ipykernel_18728\\664541760.py:1: FutureWarning: The behavior of Series.replace (and DataFrame.replace) with CategoricalDtype is deprecated. In a future version, replace will only be used for cases that preserve the categories. To change the categories, use ser.cat.rename_categories instead.\n",
      "  df['Zip_Code'] = df['Zip_Code'].replace('00000', 'Unknown')\n"
     ]
    }
   ],
   "source": [
    "df['Zip_Code'] = df['Zip_Code'].replace('00000', 'Unknown')"
   ]
  },
  {
   "cell_type": "code",
   "execution_count": 193,
   "metadata": {},
   "outputs": [
    {
     "name": "stdout",
     "output_type": "stream",
     "text": [
      "Cardinality: 38\n"
     ]
    }
   ],
   "source": [
    "# extract first 3 digits to reduce cardinality\n",
    "def extract_zip_prefix(zip_code):\n",
    "    zip_str = str(zip_code)\n",
    "    return zip_str[:3] if zip_str.isdigit() else 'Unknown'\n",
    "\n",
    "df['Zip_Code_Prefix'] = df['Zip_Code'].apply(extract_zip_prefix)\n",
    "\n",
    "print(\"Cardinality:\", len(df['Zip_Code_Prefix'].unique()))"
   ]
  },
  {
   "cell_type": "markdown",
   "metadata": {},
   "source": [
    "### County"
   ]
  },
  {
   "cell_type": "code",
   "execution_count": 194,
   "metadata": {},
   "outputs": [
    {
     "name": "stdout",
     "output_type": "stream",
     "text": [
      "Before replacement, there are  0.03% rows missing..\n"
     ]
    }
   ],
   "source": [
    "county_count_before = 100 * (df['County'] == \"Unknown\").sum()/df.shape[0]\n",
    "print(f\"Before replacement, there are {county_count_before: .2f}% rows missing..\")"
   ]
  },
  {
   "cell_type": "code",
   "execution_count": 195,
   "metadata": {},
   "outputs": [
    {
     "data": {
      "text/html": [
       "<div>\n",
       "<style scoped>\n",
       "    .dataframe tbody tr th:only-of-type {\n",
       "        vertical-align: middle;\n",
       "    }\n",
       "\n",
       "    .dataframe tbody tr th {\n",
       "        vertical-align: top;\n",
       "    }\n",
       "\n",
       "    .dataframe thead th {\n",
       "        text-align: right;\n",
       "    }\n",
       "</style>\n",
       "<table border=\"1\" class=\"dataframe\">\n",
       "  <thead>\n",
       "    <tr style=\"text-align: right;\">\n",
       "      <th></th>\n",
       "      <th>OBJECTID</th>\n",
       "      <th>Damage</th>\n",
       "      <th>Street_Number</th>\n",
       "      <th>Street_Name</th>\n",
       "      <th>Street_Type</th>\n",
       "      <th>City</th>\n",
       "      <th>State</th>\n",
       "      <th>Zip_Code</th>\n",
       "      <th>CAL_FIRE_Unit</th>\n",
       "      <th>County</th>\n",
       "      <th>Community</th>\n",
       "      <th>Incident_Start_Date</th>\n",
       "      <th>Hazard_Type</th>\n",
       "      <th>Structure_Defense_Actions_Taken</th>\n",
       "      <th>Structure_Type</th>\n",
       "      <th>Structure_Category</th>\n",
       "      <th>Number_of_Units</th>\n",
       "      <th>Roof_Construction</th>\n",
       "      <th>Eaves</th>\n",
       "      <th>Vent_Screen</th>\n",
       "      <th>Exterior_Siding</th>\n",
       "      <th>Window_Pane</th>\n",
       "      <th>DeckPorch_On_Grade</th>\n",
       "      <th>DeckPorch_Elevated</th>\n",
       "      <th>Patio_CoverCarport_Attached_to_Structure</th>\n",
       "      <th>Fence_Attached_to_Structure</th>\n",
       "      <th>Distance_Propane_Tank_to_Structure</th>\n",
       "      <th>Distance_Residence_to_UtilityMisc_Structure</th>\n",
       "      <th>Assessed_Improved_Value</th>\n",
       "      <th>Year_Built</th>\n",
       "      <th>Site_Address</th>\n",
       "      <th>Latitude</th>\n",
       "      <th>Longitude</th>\n",
       "      <th>Zip_Code_Prefix</th>\n",
       "    </tr>\n",
       "  </thead>\n",
       "  <tbody>\n",
       "    <tr>\n",
       "      <th>381</th>\n",
       "      <td>88682</td>\n",
       "      <td>No Damage</td>\n",
       "      <td>45854.0</td>\n",
       "      <td>Flying T</td>\n",
       "      <td>Drive</td>\n",
       "      <td>California Hot Springs</td>\n",
       "      <td>CA</td>\n",
       "      <td>93207</td>\n",
       "      <td>TUU</td>\n",
       "      <td>Unknown</td>\n",
       "      <td>Unknown</td>\n",
       "      <td>2021-09-10</td>\n",
       "      <td>Fire</td>\n",
       "      <td>Unknown</td>\n",
       "      <td>Single Family Residence Single Story</td>\n",
       "      <td>Single Residence</td>\n",
       "      <td>Unknown</td>\n",
       "      <td>Asphalt</td>\n",
       "      <td>Enclosed</td>\n",
       "      <td>Mesh Screen &gt; 1/8\"\"</td>\n",
       "      <td>Wood</td>\n",
       "      <td>Single Pane</td>\n",
       "      <td>Masonry/Concrete</td>\n",
       "      <td>Wood</td>\n",
       "      <td>No Patio Cover/Carport</td>\n",
       "      <td>No Fence</td>\n",
       "      <td>Unknown</td>\n",
       "      <td>Unknown</td>\n",
       "      <td>146167.0</td>\n",
       "      <td>NaN</td>\n",
       "      <td>45854 FLYING T DR CALIFORNIA HOT SPRINGS CA 93207</td>\n",
       "      <td>35.872083</td>\n",
       "      <td>-118.629440</td>\n",
       "      <td>932</td>\n",
       "    </tr>\n",
       "    <tr>\n",
       "      <th>9611</th>\n",
       "      <td>78770</td>\n",
       "      <td>Destroyed (&gt;50%)</td>\n",
       "      <td>57550.0</td>\n",
       "      <td>Ramsey</td>\n",
       "      <td>Road</td>\n",
       "      <td>Anza</td>\n",
       "      <td>CA</td>\n",
       "      <td>92539</td>\n",
       "      <td>RRU</td>\n",
       "      <td>Unknown</td>\n",
       "      <td>Unknown</td>\n",
       "      <td>2021-08-24</td>\n",
       "      <td>Fire</td>\n",
       "      <td>Unknown</td>\n",
       "      <td>Single Family Residence Single Story</td>\n",
       "      <td>Single Residence</td>\n",
       "      <td>Unknown</td>\n",
       "      <td>Asphalt</td>\n",
       "      <td>Enclosed</td>\n",
       "      <td>No Vents</td>\n",
       "      <td>Stucco Brick Cement</td>\n",
       "      <td>Multi Pane</td>\n",
       "      <td>Masonry/Concrete</td>\n",
       "      <td>No Deck/Porch</td>\n",
       "      <td>No Patio Cover/Carport</td>\n",
       "      <td>No Fence</td>\n",
       "      <td>Unknown</td>\n",
       "      <td>Unknown</td>\n",
       "      <td>99910.0</td>\n",
       "      <td>NaN</td>\n",
       "      <td>57550 RAMSEY RD ANZA CA 92539</td>\n",
       "      <td>33.485183</td>\n",
       "      <td>-116.659354</td>\n",
       "      <td>925</td>\n",
       "    </tr>\n",
       "    <tr>\n",
       "      <th>9997</th>\n",
       "      <td>78773</td>\n",
       "      <td>No Damage</td>\n",
       "      <td>57255.0</td>\n",
       "      <td>Ramsey</td>\n",
       "      <td>Road</td>\n",
       "      <td>Anza</td>\n",
       "      <td>CA</td>\n",
       "      <td>92539</td>\n",
       "      <td>RRU</td>\n",
       "      <td>Unknown</td>\n",
       "      <td>Unknown</td>\n",
       "      <td>2021-08-24</td>\n",
       "      <td>Fire</td>\n",
       "      <td>Unknown</td>\n",
       "      <td>Single Family Residence Single Story</td>\n",
       "      <td>Single Residence</td>\n",
       "      <td>Unknown</td>\n",
       "      <td>Asphalt</td>\n",
       "      <td>Enclosed</td>\n",
       "      <td>No Vents</td>\n",
       "      <td>Stucco Brick Cement</td>\n",
       "      <td>Multi Pane</td>\n",
       "      <td>Masonry/Concrete</td>\n",
       "      <td>No Deck/Porch</td>\n",
       "      <td>No Patio Cover/Carport</td>\n",
       "      <td>No Fence</td>\n",
       "      <td>Unknown</td>\n",
       "      <td>Unknown</td>\n",
       "      <td>77136.0</td>\n",
       "      <td>NaN</td>\n",
       "      <td>57255 RAMSEY RD ANZA CA 92539</td>\n",
       "      <td>33.482971</td>\n",
       "      <td>-116.664420</td>\n",
       "      <td>925</td>\n",
       "    </tr>\n",
       "  </tbody>\n",
       "</table>\n",
       "</div>"
      ],
      "text/plain": [
       "     OBJECTID            Damage Street_Number Street_Name Street_Type  \\\n",
       "381     88682         No Damage       45854.0    Flying T       Drive   \n",
       "9611    78770  Destroyed (>50%)       57550.0     Ramsey         Road   \n",
       "9997    78773         No Damage       57255.0      Ramsey        Road   \n",
       "\n",
       "                        City State Zip_Code CAL_FIRE_Unit   County Community  \\\n",
       "381   California Hot Springs    CA    93207           TUU  Unknown   Unknown   \n",
       "9611                    Anza    CA    92539           RRU  Unknown   Unknown   \n",
       "9997                    Anza    CA    92539           RRU  Unknown   Unknown   \n",
       "\n",
       "     Incident_Start_Date Hazard_Type Structure_Defense_Actions_Taken  \\\n",
       "381           2021-09-10        Fire                         Unknown   \n",
       "9611          2021-08-24        Fire                         Unknown   \n",
       "9997          2021-08-24        Fire                         Unknown   \n",
       "\n",
       "                            Structure_Type Structure_Category Number_of_Units  \\\n",
       "381   Single Family Residence Single Story   Single Residence         Unknown   \n",
       "9611  Single Family Residence Single Story   Single Residence         Unknown   \n",
       "9997  Single Family Residence Single Story   Single Residence         Unknown   \n",
       "\n",
       "     Roof_Construction     Eaves          Vent_Screen      Exterior_Siding  \\\n",
       "381            Asphalt  Enclosed  Mesh Screen > 1/8\"\"                 Wood   \n",
       "9611           Asphalt  Enclosed             No Vents  Stucco Brick Cement   \n",
       "9997           Asphalt  Enclosed             No Vents  Stucco Brick Cement   \n",
       "\n",
       "      Window_Pane DeckPorch_On_Grade DeckPorch_Elevated  \\\n",
       "381   Single Pane   Masonry/Concrete               Wood   \n",
       "9611   Multi Pane   Masonry/Concrete      No Deck/Porch   \n",
       "9997   Multi Pane   Masonry/Concrete      No Deck/Porch   \n",
       "\n",
       "     Patio_CoverCarport_Attached_to_Structure Fence_Attached_to_Structure  \\\n",
       "381                    No Patio Cover/Carport                    No Fence   \n",
       "9611                   No Patio Cover/Carport                    No Fence   \n",
       "9997                   No Patio Cover/Carport                    No Fence   \n",
       "\n",
       "     Distance_Propane_Tank_to_Structure  \\\n",
       "381                             Unknown   \n",
       "9611                            Unknown   \n",
       "9997                            Unknown   \n",
       "\n",
       "     Distance_Residence_to_UtilityMisc_Structure  Assessed_Improved_Value  \\\n",
       "381                                      Unknown                 146167.0   \n",
       "9611                                     Unknown                  99910.0   \n",
       "9997                                     Unknown                  77136.0   \n",
       "\n",
       "      Year_Built                                       Site_Address  \\\n",
       "381          NaN  45854 FLYING T DR CALIFORNIA HOT SPRINGS CA 93207   \n",
       "9611         NaN                      57550 RAMSEY RD ANZA CA 92539   \n",
       "9997         NaN                      57255 RAMSEY RD ANZA CA 92539   \n",
       "\n",
       "       Latitude   Longitude Zip_Code_Prefix  \n",
       "381   35.872083 -118.629440             932  \n",
       "9611  33.485183 -116.659354             925  \n",
       "9997  33.482971 -116.664420             925  "
      ]
     },
     "execution_count": 195,
     "metadata": {},
     "output_type": "execute_result"
    }
   ],
   "source": [
    "df[df['County'] == \"Unknown\"]"
   ]
  },
  {
   "cell_type": "code",
   "execution_count": 196,
   "metadata": {},
   "outputs": [
    {
     "name": "stdout",
     "output_type": "stream",
     "text": [
      "     Zip_Code   County\n",
      "381     93207  Unknown\n",
      "3399    93207   Tulare\n",
      "5569    93207   Tulare\n",
      "5770    93207   Tulare\n",
      "     Zip_Code     County\n",
      "2940    92539  Riverside\n",
      "9611    92539    Unknown\n",
      "9702    92539  Riverside\n",
      "9997    92539    Unknown\n"
     ]
    }
   ],
   "source": [
    "# Check missing County with Zip_Code in df\n",
    "print(df[df['Zip_Code'] == '93207'][['Zip_Code', 'County']])\n",
    "print(df[df['Zip_Code'] == '92539'][['Zip_Code', 'County']])"
   ]
  },
  {
   "cell_type": "code",
   "execution_count": 197,
   "metadata": {},
   "outputs": [],
   "source": [
    "# 例如根据邮政编码填写\n",
    "df.loc[(df['County'] == \"Unknown\") & (df['Zip_Code'] == '93207'), 'County'] = 'Tulare'\n",
    "df.loc[(df['County'] == \"Unknown\") & (df['Zip_Code'] == '92539'), 'County'] = 'Riverside'"
   ]
  },
  {
   "cell_type": "code",
   "execution_count": 198,
   "metadata": {},
   "outputs": [
    {
     "data": {
      "text/html": [
       "<div>\n",
       "<style scoped>\n",
       "    .dataframe tbody tr th:only-of-type {\n",
       "        vertical-align: middle;\n",
       "    }\n",
       "\n",
       "    .dataframe tbody tr th {\n",
       "        vertical-align: top;\n",
       "    }\n",
       "\n",
       "    .dataframe thead th {\n",
       "        text-align: right;\n",
       "    }\n",
       "</style>\n",
       "<table border=\"1\" class=\"dataframe\">\n",
       "  <thead>\n",
       "    <tr style=\"text-align: right;\">\n",
       "      <th></th>\n",
       "      <th>OBJECTID</th>\n",
       "      <th>Damage</th>\n",
       "      <th>Street_Number</th>\n",
       "      <th>Street_Name</th>\n",
       "      <th>Street_Type</th>\n",
       "      <th>City</th>\n",
       "      <th>State</th>\n",
       "      <th>Zip_Code</th>\n",
       "      <th>CAL_FIRE_Unit</th>\n",
       "      <th>County</th>\n",
       "      <th>Community</th>\n",
       "      <th>Incident_Start_Date</th>\n",
       "      <th>Hazard_Type</th>\n",
       "      <th>Structure_Defense_Actions_Taken</th>\n",
       "      <th>Structure_Type</th>\n",
       "      <th>Structure_Category</th>\n",
       "      <th>Number_of_Units</th>\n",
       "      <th>Roof_Construction</th>\n",
       "      <th>Eaves</th>\n",
       "      <th>Vent_Screen</th>\n",
       "      <th>Exterior_Siding</th>\n",
       "      <th>Window_Pane</th>\n",
       "      <th>DeckPorch_On_Grade</th>\n",
       "      <th>DeckPorch_Elevated</th>\n",
       "      <th>Patio_CoverCarport_Attached_to_Structure</th>\n",
       "      <th>Fence_Attached_to_Structure</th>\n",
       "      <th>Distance_Propane_Tank_to_Structure</th>\n",
       "      <th>Distance_Residence_to_UtilityMisc_Structure</th>\n",
       "      <th>Assessed_Improved_Value</th>\n",
       "      <th>Year_Built</th>\n",
       "      <th>Site_Address</th>\n",
       "      <th>Latitude</th>\n",
       "      <th>Longitude</th>\n",
       "      <th>Zip_Code_Prefix</th>\n",
       "    </tr>\n",
       "  </thead>\n",
       "  <tbody>\n",
       "  </tbody>\n",
       "</table>\n",
       "</div>"
      ],
      "text/plain": [
       "Empty DataFrame\n",
       "Columns: [OBJECTID, Damage, Street_Number, Street_Name, Street_Type, City, State, Zip_Code, CAL_FIRE_Unit, County, Community, Incident_Start_Date, Hazard_Type, Structure_Defense_Actions_Taken, Structure_Type, Structure_Category, Number_of_Units, Roof_Construction, Eaves, Vent_Screen, Exterior_Siding, Window_Pane, DeckPorch_On_Grade, DeckPorch_Elevated, Patio_CoverCarport_Attached_to_Structure, Fence_Attached_to_Structure, Distance_Propane_Tank_to_Structure, Distance_Residence_to_UtilityMisc_Structure, Assessed_Improved_Value, Year_Built, Site_Address, Latitude, Longitude, Zip_Code_Prefix]\n",
       "Index: []"
      ]
     },
     "execution_count": 198,
     "metadata": {},
     "output_type": "execute_result"
    }
   ],
   "source": [
    "df[df['County'] == \"Unknown\"]"
   ]
  },
  {
   "cell_type": "markdown",
   "metadata": {},
   "source": [
    "### City"
   ]
  },
  {
   "cell_type": "code",
   "execution_count": 199,
   "metadata": {},
   "outputs": [
    {
     "data": {
      "text/plain": [
       "OBJECTID                                               object\n",
       "Damage                                                 object\n",
       "Street_Number                                          object\n",
       "Street_Name                                            object\n",
       "Street_Type                                            object\n",
       "City                                                   object\n",
       "State                                                  object\n",
       "Zip_Code                                             category\n",
       "CAL_FIRE_Unit                                          object\n",
       "County                                                 object\n",
       "Community                                              object\n",
       "Incident_Start_Date                            datetime64[ns]\n",
       "Hazard_Type                                            object\n",
       "Structure_Defense_Actions_Taken                        object\n",
       "Structure_Type                                         object\n",
       "Structure_Category                                     object\n",
       "Number_of_Units                                        object\n",
       "Roof_Construction                                      object\n",
       "Eaves                                                  object\n",
       "Vent_Screen                                            object\n",
       "Exterior_Siding                                        object\n",
       "Window_Pane                                            object\n",
       "DeckPorch_On_Grade                                     object\n",
       "DeckPorch_Elevated                                     object\n",
       "Patio_CoverCarport_Attached_to_Structure               object\n",
       "Fence_Attached_to_Structure                            object\n",
       "Distance_Propane_Tank_to_Structure                     object\n",
       "Distance_Residence_to_UtilityMisc_Structure            object\n",
       "Assessed_Improved_Value                               float64\n",
       "Year_Built                                            float64\n",
       "Site_Address                                           object\n",
       "Latitude                                              float64\n",
       "Longitude                                             float64\n",
       "Zip_Code_Prefix                                        object\n",
       "dtype: object"
      ]
     },
     "execution_count": 199,
     "metadata": {},
     "output_type": "execute_result"
    }
   ],
   "source": [
    "df.dtypes"
   ]
  },
  {
   "cell_type": "code",
   "execution_count": 200,
   "metadata": {},
   "outputs": [
    {
     "name": "stdout",
     "output_type": "stream",
     "text": [
      "Adin\n",
      "Agoura Hills\n",
      "Aguanga\n",
      "Alpine\n",
      "Alpine \n",
      "Alta Dena\n",
      "Altadena\n",
      "Anaheim\n",
      "Anderson\n",
      "Anderson \n",
      "Anza\n",
      "Arcadia\n",
      "Aromas\n",
      "Banning\n",
      "Banning \n",
      "Beaumont \n",
      "Belden\n",
      "Bella Vista\n",
      "Big Bar\n",
      "Big Bear Lake\n",
      "Bishop\n",
      "Blairsden Graeagle\n",
      "Bodfish\n",
      "Boulder Creek\n",
      "Browns Valley\n",
      "Ca\n",
      "Calabasas\n",
      "Caliente\n",
      "Caliente \n",
      "Caliente-Bodfish\n",
      "California Hot Springs\n",
      "Calimesa\n",
      "Camarillo\n",
      "Cameron Park\n",
      "Canyon Dam\n",
      "Carmel Valley\n",
      "Carmel Valley \n",
      "Cherryville \n",
      "Chester\n",
      "Chico\n",
      "Claremont\n",
      "Clear Lake \n",
      "Clearlake\n",
      "Clearlake \n",
      "Clearlake Oaks\n",
      "Clements\n",
      "Coalinga\n",
      "Cobb\n",
      "Cohasset\n",
      "Colfax\n",
      "Colfax \n",
      "Concow/Yankee Hill\n",
      "Copperopolis\n",
      "Corning\n",
      "Cottonwood\n",
      "Coulterville\n",
      "Covelo\n",
      "Covelo \n",
      "Crescent Mills\n",
      "Doyle\n",
      "Doyle \n",
      "Dulzura\n",
      "ESCONDIDO\n",
      "Echo Lake\n",
      "Elk Creek\n",
      "Elk Creek \n",
      "Elk Grove\n",
      "Feather Falls\n",
      "Forest Ranch\n",
      "Foresthill\n",
      "Gaviota\n",
      "Gazelle\n",
      "Georgetown\n",
      "Goleta\n",
      "Goleta \n",
      "Gorman\n",
      "Grass Valley\n",
      "Grass Valley \n",
      "Greenville\n",
      "Grizzly Flats\n",
      "Grizzly Flats \n",
      "Havilah\n",
      "Hayfork\n",
      "Healdsburg\n",
      "Hemet\n",
      "Highland\n",
      "Hollister \n",
      "Horse Creek\n",
      "Jamestown\n",
      "Jamul\n",
      "Janesville\n",
      "Johnsondale \n",
      "Junction City\n",
      "Jurupa Valley\n",
      "Keddie\n",
      "Kettenpom\n",
      "Kettenpom \n",
      "Kirkwood\n",
      "Klamath River\n",
      "Kyburz\n",
      "LAKE HUGHES\n",
      "LAKE HUGHES \n",
      "LAKE ISABELLA\n",
      "LANCASTER\n",
      "LANCASTER \n",
      "La Grange\n",
      "Laguna Beach\n",
      "Laguna Niguel\n",
      "Lake Elsinore\n",
      "Lake Isabella\n",
      "Lake Pillsbury \n",
      "Lakehead\n",
      "Lakeport\n",
      "Livermore \n",
      "Llano\n",
      "Loch Lomond \n",
      "Lone Pine\n",
      "Los Angeles\n",
      "Los Angeles \n",
      "Los Angeles County\n",
      "Los Gatos\n",
      "Los Molinos\n",
      "Lower Lake\n",
      "MOUNTAIN MESA\n",
      "MT MESA\n",
      "Macdoel\n",
      "Macdoel \n",
      "Magalia\n",
      "Malibu\n",
      "Manton\n",
      "Manton \n",
      "Mariposa\n",
      "Mariposa \n",
      "Markleeville\n",
      "Markleeville \n",
      "Markleville \n",
      "McArthur\n",
      "Middletown\n",
      "Midpines\n",
      "Milford\n",
      "Mill Creek\n",
      "Mineral\n",
      "Mokelumne Hill\n",
      "Montague\n",
      "Montague \n",
      "Monterey\n",
      "Moorpark\n",
      "Mount Wilson\n",
      "Mountain Ranch\n",
      "Mt Baldy\n",
      "N/a\n",
      "Na\n",
      "Napa\n",
      "Nevada City\n",
      "Nevada city \n",
      "North Fork\n",
      "North Hollywood\n",
      "North San Juan\n",
      "Oak Glen\n",
      "Oakdale\n",
      "Oakhurst\n",
      "Oroville\n",
      "Pacific Palisades\n",
      "Palermo\n",
      "Paradise Central Southeast A\n",
      "Paradise Central Southeast B\n",
      "Paradise Central Southwest A\n",
      "Paradise Central Southwest B\n",
      "Paradise Northeast A\n",
      "Paradise Northeast B\n",
      "Paradise Northwest A\n",
      "Paradise Northwest B\n",
      "Paradise Southeast A\n",
      "Paradise Southeast B\n",
      "Paradise Southwest A\n",
      "Paradise Southwest B\n",
      "Pasadena\n",
      "Paso Robles\n",
      "Patterson\n",
      "Paynes Creek\n",
      "Petaluma\n",
      "Pioneer\n",
      "Placerville\n",
      "Platina\n",
      "Pollock Pines\n",
      "Portola \n",
      "Posey\n",
      "Posey \n",
      "Potrero\n",
      "Quincy\n",
      "Railroad Flat\n",
      "Raymond \n",
      "Red Bluff\n",
      "Red Bluff \n",
      "Redding\n",
      "Redwood City\n",
      "Redwood Valley\n",
      "Riverside\n",
      "Running Springs\n",
      "SOUTH LAKE\n",
      "SQUIRREL MTN VA\n",
      "SQUIRREL VLY\n",
      "Salinas \n",
      "San Andreas\n",
      "San Jose\n",
      "San Jose \n",
      "San Juan Bautista\n",
      "San Juan Capistrano\n",
      "Sanger\n",
      "Santa Ana\n",
      "Santa Margarita\n",
      "Santa Margarita \n",
      "Santa Monica\n",
      "Santa Paula\n",
      "Santa Rosa\n",
      "Scott Bar\n",
      "Shasta\n",
      "Shasta Lake\n",
      "Sierra Madre\n",
      "Somerset\n",
      "Somis\n",
      "Sonoma\n",
      "South Lake Tahoe\n",
      "Spring Valley\n",
      "Squaw Valley\n",
      "Stirling City\n",
      "Storrie\n",
      "Susanville\n",
      "Susanville \n",
      "Taylorsville\n",
      "Termo\n",
      "Thousand Oaks\n",
      "Topanga\n",
      "Trabuco Canyon\n",
      "Tracy\n",
      "Twain\n",
      "Twin Bridges\n",
      "Ukiah\n",
      "Ukiah \n",
      "Unincorporated\n",
      "Unknown\n",
      "Valley Springs\n",
      "Valyermo\n",
      "Ventura\n",
      "WELDON\n",
      "Wallace\n",
      "Weed\n",
      "Westlake Village\n",
      "Whispering Pines\n",
      "Willits\n",
      "Willits \n",
      "Windsor\n",
      "Winters\n",
      "Wofford Heights\n",
      "Wofford Heights \n",
      "Wrightwood\n",
      "Yreka\n",
      "Zenia\n",
      "banning\n",
      "na\n",
      "260\n"
     ]
    }
   ],
   "source": [
    "def city_display():\n",
    "    \n",
    "    cnt = 0\n",
    "    for city in sorted(df[\"City\"].unique()):\n",
    "        print(city)\n",
    "        cnt += 1\n",
    "    print(cnt)\n",
    "city_display()"
   ]
  },
  {
   "cell_type": "code",
   "execution_count": 201,
   "metadata": {},
   "outputs": [],
   "source": [
    "# 将这些值标记为NA\n",
    "invalid_cities = ['Na', 'N/A', 'Unknown']"
   ]
  },
  {
   "cell_type": "code",
   "execution_count": 202,
   "metadata": {},
   "outputs": [
    {
     "name": "stdout",
     "output_type": "stream",
     "text": [
      "Adin\n",
      "Agoura Hills\n",
      "Aguanga\n",
      "Alpine\n",
      "Altadena\n",
      "Anaheim\n",
      "Anderson\n",
      "Anza\n",
      "Arcadia\n",
      "Aromas\n",
      "Banning\n",
      "Beaumont\n",
      "Belden\n",
      "Bella Vista\n",
      "Big Bear Lake\n",
      "Bishop\n",
      "Blairsden Graeagle\n",
      "Bodfish\n",
      "Boulder Creek\n",
      "Browns Valley\n",
      "Ca\n",
      "Calabasas\n",
      "Caliente\n",
      "California Hot Springs\n",
      "Calimesa\n",
      "Camarillo\n",
      "Cameron Park\n",
      "Canyon Dam\n",
      "Carmel Valley\n",
      "Cherryville\n",
      "Chester\n",
      "Chico\n",
      "Claremont\n",
      "Clearlake\n",
      "Clements\n",
      "Coalinga\n",
      "Cobb\n",
      "Cohasset\n",
      "Colfax\n",
      "Concow\n",
      "Copperopolis\n",
      "Corning\n",
      "Cottonwood\n",
      "Coulterville\n",
      "Covelo\n",
      "Crescent Mills\n",
      "Doyle\n",
      "Dulzura\n",
      "Echo Lake\n",
      "Elk Creek\n",
      "Elk Grove\n",
      "Escondido\n",
      "Feather Falls\n",
      "Forest Ranch\n",
      "Foresthill\n",
      "Gaviota\n",
      "Gazelle\n",
      "Georgetown\n",
      "Goleta\n",
      "Gorman\n",
      "Grass Valley\n",
      "Greenville\n",
      "Grizzly Flats\n",
      "Havilah\n",
      "Hayfork\n",
      "Healdsburg\n",
      "Hemet\n",
      "Highland\n",
      "Hollister\n",
      "Horse Creek\n",
      "Jamestown\n",
      "Jamul\n",
      "Janesville\n",
      "Johnsondale\n",
      "Junction City\n",
      "Jurupa Valley\n",
      "Keddie\n",
      "Kettenpom\n",
      "Kirkwood\n",
      "Klamath River\n",
      "Kyburz\n",
      "La Grange\n",
      "Laguna Beach\n",
      "Laguna Niguel\n",
      "Lake Elsinore\n",
      "Lake Hughes\n",
      "Lake Isabella\n",
      "Lake Pillsbury\n",
      "Lakehead\n",
      "Lakeport\n",
      "Lancaster\n",
      "Livermore\n",
      "Llano\n",
      "Loch Lomond\n",
      "Lone Pine\n",
      "Los Angeles\n",
      "Los Gatos\n",
      "Los Molinos\n",
      "Lower Lake\n",
      "Macdoel\n",
      "Magalia\n",
      "Malibu\n",
      "Manton\n",
      "Mariposa\n",
      "Markleeville\n",
      "Mcarthur\n",
      "Middletown\n",
      "Midpines\n",
      "Milford\n",
      "Mill Creek\n",
      "Mineral\n",
      "Mokelumne Hill\n",
      "Montague\n",
      "Monterey\n",
      "Moorpark\n",
      "Mount Baldy\n",
      "Mount Wilson\n",
      "Mountain Mesa\n",
      "Mountain Ranch\n",
      "Napa\n",
      "Nevada City\n",
      "North Fork\n",
      "North Hollywood\n",
      "North San Juan\n",
      "Oak Glen\n",
      "Oakdale\n",
      "Oakhurst\n",
      "Oroville\n",
      "Pacific Palisades\n",
      "Palermo\n",
      "Paradise\n",
      "Pasadena\n",
      "Paso Robles\n",
      "Patterson\n",
      "Paynes Creek\n",
      "Petaluma\n",
      "Pioneer\n",
      "Placerville\n",
      "Platina\n",
      "Pollock Pines\n",
      "Portola\n",
      "Posey\n",
      "Potrero\n",
      "Quincy\n",
      "Railroad Flat\n",
      "Raymond\n",
      "Red Bluff\n",
      "Redding\n",
      "Redwood City\n",
      "Redwood Valley\n",
      "Riverside\n",
      "Running Springs\n",
      "Salinas\n",
      "San Andreas\n",
      "San Jose\n",
      "San Juan Bautista\n",
      "San Juan Capistrano\n",
      "Sanger\n",
      "Santa Ana\n",
      "Santa Margarita\n",
      "Santa Monica\n",
      "Santa Paula\n",
      "Santa Rosa\n",
      "Scott Bar\n",
      "Shasta\n",
      "Shasta Lake\n",
      "Sierra Madre\n",
      "Somerset\n",
      "Somis\n",
      "Sonoma\n",
      "South Lake Tahoe\n",
      "Spring Valley\n",
      "Squaw Valley\n",
      "Squirrel Valley\n",
      "Stirling City\n",
      "Storrie\n",
      "Susanville\n",
      "Taylorsville\n",
      "Termo\n",
      "Thousand Oaks\n",
      "Topanga\n",
      "Trabuco Canyon\n",
      "Tracy\n",
      "Twain\n",
      "Twin Bridges\n",
      "Ukiah\n",
      "Unincorporated\n",
      "Unknown\n",
      "Valley Springs\n",
      "Valyermo\n",
      "Ventura\n",
      "Wallace\n",
      "Weed\n",
      "Weldon\n",
      "Westlake Village\n",
      "Whispering Pines\n",
      "Willits\n",
      "Windsor\n",
      "Winters\n",
      "Wofford Heights\n",
      "Wrightwood\n",
      "Yreka\n",
      "Zenia\n",
      "203\n"
     ]
    }
   ],
   "source": [
    "city_mapping = {\n",
    "    'Alta Dena': 'Altadena',\n",
    "    'Big Bar':'Big Bear Lake',\n",
    "    'Caliente-Bodfish': 'Caliente',  \n",
    "    'Concow/Yankee Hill': 'Concow',\n",
    "    'Clear Lake':'Clearlake',\n",
    "    'Clearlake Oaks':'Clearlake',\n",
    "    'Los Angeles County': 'Los Angeles',\n",
    "    'Markleville': 'Markleeville',\n",
    "    'Mt Baldy': 'Mount Baldy',\n",
    "    'Mt Mesa': 'Mountain Mesa',\n",
    "    'Squirrel Mtn Va': 'Squirrel Valley',\n",
    "    'Squirrel Vly': 'Squirrel Valley',\n",
    "    'South Lake': 'South Lake Tahoe',\n",
    "    'Paradise Central Southeast A': 'Paradise',\n",
    "    'Paradise Central Southeast B': 'Paradise',\n",
    "    'Paradise Central Southwest A': 'Paradise',\n",
    "    'Paradise Central Southwest B': 'Paradise',\n",
    "    'Paradise Northeast A': 'Paradise',\n",
    "    'Paradise Northeast B': 'Paradise',\n",
    "    'Paradise Northwest A': 'Paradise',\n",
    "    'Paradise Northwest B': 'Paradise',\n",
    "    'Paradise Southeast A': 'Paradise',\n",
    "    'Paradise Southeast B': 'Paradise',\n",
    "    'Paradise Southwest A': 'Paradise',\n",
    "    'Paradise Southwest B': 'Paradise'\n",
    "}\n",
    "\n",
    "# 1. trim \n",
    "df['City'] = df['City'].str.strip().str.title()\n",
    "\n",
    "# 2. deal with invalid cities\n",
    "df['City'] = df['City'].replace(invalid_cities, 'Unknown')\n",
    "\n",
    "# 3. mapping cities\n",
    "df['City'] = df['City'].replace(city_mapping)\n",
    "\n",
    "\n",
    "# 4. display\n",
    "city_display()\n",
    "\n"
   ]
  },
  {
   "cell_type": "code",
   "execution_count": 203,
   "metadata": {},
   "outputs": [
    {
     "data": {
      "text/plain": [
       "Index(['Zip_Code', 'City', 'County'], dtype='object')"
      ]
     },
     "execution_count": 203,
     "metadata": {},
     "output_type": "execute_result"
    }
   ],
   "source": [
    "zip_city_df = pd.read_csv('califonia-zip-code.csv') \n",
    "zip_city_df.columns"
   ]
  },
  {
   "cell_type": "code",
   "execution_count": 204,
   "metadata": {},
   "outputs": [
    {
     "name": "stdout",
     "output_type": "stream",
     "text": [
      "Before replacement, there are  24.78% rows missing..\n",
      "After replacement, there are  5.27% rows missing.\n"
     ]
    }
   ],
   "source": [
    "city_count_before = 100 * (df['City'] == \"Unknown\").sum()/df.shape[0]\n",
    "print(f\"Before replacement, there are {city_count_before: .2f}% rows missing..\")\n",
    "\n",
    "# read califonia-zip-code.csv\n",
    "zip_city_df = pd.read_csv('califonia-zip-code.csv') \n",
    "zip_city_df.columns = ['Zip_Code', 'City', 'County']\n",
    "\n",
    "# convert Zip_Code to str\n",
    "df['Zip_Code'] = df['Zip_Code'].astype(str)\n",
    "zip_city_df['Zip_Code'] = zip_city_df['Zip_Code'].astype(str)\n",
    "\n",
    "# merge city\n",
    "merged_df = df.merge(zip_city_df, on='Zip_Code', how='left', suffixes=('', '_from_csv'))\n",
    "\n",
    "# replace \"Unknown\" with NaN to fill\n",
    "df['City'] = df['City'].astype('object')\n",
    "df['City'] = df['City'].replace(\"Unknown\", np.nan)\n",
    "\n",
    "# fill unknown city\n",
    "for index, row in df.iterrows():\n",
    "    if pd.isna(row['City']):  # if City is NaN\n",
    "        if row['Zip_Code'] != \"Unknown\":  # if Zip_Code is not \"Unknown\"\n",
    "            city_from_csv = merged_df.loc[merged_df['Zip_Code'] == row['Zip_Code'], 'City_from_csv']\n",
    "            if not city_from_csv.empty:  \n",
    "                df.at[index, 'City'] = city_from_csv.values[0]  \n",
    "\n",
    "# replace Nan with \"Unknown\"\n",
    "df['City'] = df['City'].fillna(\"Unknown\")\n",
    "\n",
    "# print result\n",
    "city_count_after = 100 * (df['City'] == \"Unknown\").sum() /df.shape[0]\n",
    "print(f\"After replacement, there are {city_count_after: .2f}% rows missing.\")\n"
   ]
  },
  {
   "cell_type": "code",
   "execution_count": 205,
   "metadata": {},
   "outputs": [
    {
     "data": {
      "text/plain": [
       "array(['Unknown', '95127'], dtype=object)"
      ]
     },
     "execution_count": 205,
     "metadata": {},
     "output_type": "execute_result"
    }
   ],
   "source": [
    "# 获取City为Unknown的所有邮编\n",
    "unknown_zipcodes = df[df['City'] == 'Unknown']['Zip_Code']\n",
    "unknown_zipcodes.unique()"
   ]
  },
  {
   "cell_type": "code",
   "execution_count": 206,
   "metadata": {},
   "outputs": [],
   "source": [
    "# update city that Zip_Code is 95127 to San Jose\n",
    "df.loc[(df['City'] == 'Unknown') & (df['Zip_Code'] == '95127'), 'City'] = 'San Jose'"
   ]
  },
  {
   "cell_type": "code",
   "execution_count": 207,
   "metadata": {},
   "outputs": [
    {
     "name": "stdout",
     "output_type": "stream",
     "text": [
      "After replacement, there are 524 rows missing.\n"
     ]
    }
   ],
   "source": [
    "print(f\"After replacement, there are {(df['City'] == 'Unknown').sum()} rows missing.\")"
   ]
  },
  {
   "cell_type": "code",
   "execution_count": 208,
   "metadata": {},
   "outputs": [],
   "source": [
    "df = df.drop(columns=[\"Site_Address\",\"Street_Number\",\"Street_Name\",\"Street_Type\",\"Community\"])"
   ]
  },
  {
   "cell_type": "markdown",
   "metadata": {},
   "source": [
    "## (0.3) Year_Built"
   ]
  },
  {
   "cell_type": "code",
   "execution_count": 209,
   "metadata": {},
   "outputs": [
    {
     "name": "stdout",
     "output_type": "stream",
     "text": [
      "Basic statistics of Year_Built:\n",
      "count    7550.000000\n",
      "mean     1752.216821\n",
      "std       610.932175\n",
      "min         0.000000\n",
      "25%      1939.000000\n",
      "50%      1961.000000\n",
      "75%      1982.000000\n",
      "max      2022.000000\n",
      "Name: Year_Built, dtype: float64\n",
      "\n",
      "Processed statistics:\n",
      "Year_Built statistics:\n",
      "count    10000.000000\n",
      "mean      1963.582400\n",
      "std         21.966713\n",
      "min       1850.000000\n",
      "25%       1956.000000\n",
      "50%       1961.000000\n",
      "75%       1977.000000\n",
      "max       2022.000000\n",
      "Name: Year_Built, dtype: float64\n",
      "\n",
      "Year_Built_Known statistics:\n",
      "0 = Unknown year, 1 = Known year\n",
      "Year_Built_Known\n",
      "1    6733\n",
      "0    3267\n",
      "Name: count, dtype: int64\n",
      "Proportion:\n",
      "Year_Built_Known\n",
      "1    0.6733\n",
      "0    0.3267\n",
      "Name: proportion, dtype: float64\n",
      "\n",
      "Confirm feature columns:\n",
      "Year_Built column type: int64\n",
      "Year_Built_Known column type: int64\n"
     ]
    }
   ],
   "source": [
    "# 1. First, view basic statistics of Year_Built\n",
    "print(\"Basic statistics of Year_Built:\")\n",
    "print(df['Year_Built'].describe())\n",
    "\n",
    "# 2. Create Year_Built_Known as a new feature column (mark original known values before modification)\n",
    "# Mark as unknown if the value is 0 or NaN\n",
    "df['Year_Built_Known'] = ((df['Year_Built'] > 0) & (~df['Year_Built'].isna())).astype(int)\n",
    "df['Year_Built_Known'] = df['Year_Built_Known'].astype(int)  # Convert to 0 and 1\n",
    "\n",
    "# 3. Handle outliers (set a reasonable year range, e.g., 1800-2023)\n",
    "min_year = 1800\n",
    "max_year = 2023\n",
    "\n",
    "# 4. Calculate median (for filling missing values)\n",
    "year_median = df['Year_Built'].median()\n",
    "\n",
    "# 5. Fill missing values with median\n",
    "df.loc[df['Year_Built'].isna(), 'Year_Built'] = year_median\n",
    "\n",
    "# 6. Clamp outliers within reasonable range\n",
    "df.loc[(df['Year_Built'] < min_year) | (df['Year_Built'] > max_year), 'Year_Built'] = year_median\n",
    "\n",
    "# 7. Ensure Year_Built is integer type\n",
    "df['Year_Built'] = df['Year_Built'].astype(int)\n",
    "\n",
    "# 8. Display processed statistics\n",
    "print(\"\\nProcessed statistics:\")\n",
    "print(\"Year_Built statistics:\")\n",
    "print(df['Year_Built'].describe())\n",
    "print(\"\\nYear_Built_Known statistics:\")\n",
    "print(\"0 = Unknown year, 1 = Known year\")\n",
    "print(df['Year_Built_Known'].value_counts())\n",
    "print(\"Proportion:\")\n",
    "print(df['Year_Built_Known'].value_counts(normalize=True))\n",
    "\n",
    "# 9. Confirm both columns are in features\n",
    "print(\"\\nConfirm feature columns:\")\n",
    "print(\"Year_Built column type:\", df['Year_Built'].dtype)\n",
    "print(\"Year_Built_Known column type:\", df['Year_Built_Known'].dtype)"
   ]
  },
  {
   "cell_type": "code",
   "execution_count": 210,
   "metadata": {},
   "outputs": [
    {
     "name": "stdout",
     "output_type": "stream",
     "text": [
      "0\n"
     ]
    }
   ],
   "source": [
    "# 查看是否有NA值\n",
    "print(df['Year_Built'].isna().sum())\n",
    "df['Year_Built'] = df['Year_Built'].astype('int64')"
   ]
  },
  {
   "cell_type": "code",
   "execution_count": null,
   "metadata": {},
   "outputs": [],
   "source": []
  },
  {
   "cell_type": "code",
   "execution_count": 211,
   "metadata": {},
   "outputs": [
    {
     "data": {
      "text/plain": [
       "array(['Enclosed', 'Unenclosed', 'Unknown', 'No Eaves'], dtype=object)"
      ]
     },
     "execution_count": 211,
     "metadata": {},
     "output_type": "execute_result"
    }
   ],
   "source": [
    "# check if Eaves has correct cardinality - 4\n",
    "unique_values_eaves = df[\"Eaves\"].unique() \n",
    "unique_values_eaves"
   ]
  },
  {
   "cell_type": "markdown",
   "metadata": {},
   "source": [
    "## (0.4) Incident_Start_date"
   ]
  },
  {
   "cell_type": "code",
   "execution_count": 212,
   "metadata": {},
   "outputs": [
    {
     "data": {
      "text/plain": [
       "count                            10000\n",
       "mean     2021-03-13 21:05:09.741099776\n",
       "min                2013-08-07 00:00:00\n",
       "25%                2018-11-08 00:00:00\n",
       "50%                2020-09-09 00:00:00\n",
       "75%                2024-11-06 00:00:00\n",
       "max                2025-01-09 00:50:35\n",
       "Name: Incident_Start_Date, dtype: object"
      ]
     },
     "execution_count": 212,
     "metadata": {},
     "output_type": "execute_result"
    }
   ],
   "source": [
    "df['Incident_Start_Date'].describe()"
   ]
  },
  {
   "cell_type": "code",
   "execution_count": 213,
   "metadata": {},
   "outputs": [
    {
     "data": {
      "text/plain": [
       "count                            10000\n",
       "mean     2021-03-13 19:10:59.519999744\n",
       "min                2013-08-07 00:00:00\n",
       "25%                2018-11-08 00:00:00\n",
       "50%                2020-09-09 00:00:00\n",
       "75%                2024-11-06 00:00:00\n",
       "max                2025-01-09 00:00:00\n",
       "Name: Incident_Start_Date, dtype: object"
      ]
     },
     "execution_count": 213,
     "metadata": {},
     "output_type": "execute_result"
    }
   ],
   "source": [
    "def extract_date(x):\n",
    "    try:\n",
    "        return pd.to_datetime(x).date()\n",
    "    except:\n",
    "        return None\n",
    "\n",
    "df['Incident_Start_Date'] = df['Incident_Start_Date'].apply(extract_date)\n",
    "df['Incident_Start_Date'] = df['Incident_Start_Date'].astype('datetime64[ns]')\n",
    "df['Incident_Start_Date'].describe()\n"
   ]
  },
  {
   "cell_type": "code",
   "execution_count": 214,
   "metadata": {},
   "outputs": [
    {
     "data": {
      "text/html": [
       "<div>\n",
       "<style scoped>\n",
       "    .dataframe tbody tr th:only-of-type {\n",
       "        vertical-align: middle;\n",
       "    }\n",
       "\n",
       "    .dataframe tbody tr th {\n",
       "        vertical-align: top;\n",
       "    }\n",
       "\n",
       "    .dataframe thead th {\n",
       "        text-align: right;\n",
       "    }\n",
       "</style>\n",
       "<table border=\"1\" class=\"dataframe\">\n",
       "  <thead>\n",
       "    <tr style=\"text-align: right;\">\n",
       "      <th></th>\n",
       "      <th>Incident_Start_Date</th>\n",
       "      <th>Incident_Start_Year</th>\n",
       "      <th>Incident_Start_Month</th>\n",
       "      <th>Incident_Start_Month_Name</th>\n",
       "      <th>Incident_Start_Weekday</th>\n",
       "    </tr>\n",
       "  </thead>\n",
       "  <tbody>\n",
       "    <tr>\n",
       "      <th>0</th>\n",
       "      <td>2025-01-07</td>\n",
       "      <td>2025</td>\n",
       "      <td>1</td>\n",
       "      <td>January</td>\n",
       "      <td>Tuesday</td>\n",
       "    </tr>\n",
       "    <tr>\n",
       "      <th>1</th>\n",
       "      <td>2020-08-19</td>\n",
       "      <td>2020</td>\n",
       "      <td>8</td>\n",
       "      <td>August</td>\n",
       "      <td>Wednesday</td>\n",
       "    </tr>\n",
       "    <tr>\n",
       "      <th>2</th>\n",
       "      <td>2020-08-03</td>\n",
       "      <td>2020</td>\n",
       "      <td>8</td>\n",
       "      <td>August</td>\n",
       "      <td>Monday</td>\n",
       "    </tr>\n",
       "    <tr>\n",
       "      <th>3</th>\n",
       "      <td>2025-01-07</td>\n",
       "      <td>2025</td>\n",
       "      <td>1</td>\n",
       "      <td>January</td>\n",
       "      <td>Tuesday</td>\n",
       "    </tr>\n",
       "    <tr>\n",
       "      <th>4</th>\n",
       "      <td>2015-09-09</td>\n",
       "      <td>2015</td>\n",
       "      <td>9</td>\n",
       "      <td>September</td>\n",
       "      <td>Wednesday</td>\n",
       "    </tr>\n",
       "  </tbody>\n",
       "</table>\n",
       "</div>"
      ],
      "text/plain": [
       "  Incident_Start_Date  Incident_Start_Year  Incident_Start_Month  \\\n",
       "0          2025-01-07                 2025                     1   \n",
       "1          2020-08-19                 2020                     8   \n",
       "2          2020-08-03                 2020                     8   \n",
       "3          2025-01-07                 2025                     1   \n",
       "4          2015-09-09                 2015                     9   \n",
       "\n",
       "  Incident_Start_Month_Name Incident_Start_Weekday  \n",
       "0                   January                Tuesday  \n",
       "1                    August              Wednesday  \n",
       "2                    August                 Monday  \n",
       "3                   January                Tuesday  \n",
       "4                 September              Wednesday  "
      ]
     },
     "execution_count": 214,
     "metadata": {},
     "output_type": "execute_result"
    }
   ],
   "source": [
    "df['Incident_Start_Year'] = df['Incident_Start_Date'].dt.year\n",
    "df['Incident_Start_Month'] = df['Incident_Start_Date'].dt.month\n",
    "df['Incident_Start_Month_Name'] = df['Incident_Start_Date'].dt.month_name()\n",
    "df['Incident_Start_Weekday'] = df['Incident_Start_Date'].dt.day_name()\n",
    "df[['Incident_Start_Date','Incident_Start_Year','Incident_Start_Month','Incident_Start_Month_Name','Incident_Start_Weekday']].head()"
   ]
  },
  {
   "cell_type": "markdown",
   "metadata": {},
   "source": [
    "## (0.5) Irregular cardinality"
   ]
  },
  {
   "cell_type": "code",
   "execution_count": 215,
   "metadata": {},
   "outputs": [],
   "source": [
    "col_type_convert()"
   ]
  },
  {
   "cell_type": "code",
   "execution_count": 216,
   "metadata": {},
   "outputs": [],
   "source": [
    "categorical_columns = df.select_dtypes(['category']).columns"
   ]
  },
  {
   "cell_type": "code",
   "execution_count": 217,
   "metadata": {},
   "outputs": [
    {
     "data": {
      "text/plain": [
       "Damage                                           2\n",
       "City                                           244\n",
       "State                                            1\n",
       "Zip_Code                                       251\n",
       "CAL_FIRE_Unit                                   27\n",
       "County                                          47\n",
       "Hazard_Type                                      1\n",
       "Structure_Defense_Actions_Taken                 10\n",
       "Structure_Type                                  17\n",
       "Structure_Category                               6\n",
       "Number_of_Units                                 15\n",
       "Roof_Construction                                9\n",
       "Eaves                                            4\n",
       "Vent_Screen                                      6\n",
       "Exterior_Siding                                 10\n",
       "Window_Pane                                      5\n",
       "DeckPorch_On_Grade                               5\n",
       "DeckPorch_Elevated                               5\n",
       "Patio_CoverCarport_Attached_to_Structure         4\n",
       "Fence_Attached_to_Structure                      4\n",
       "Distance_Propane_Tank_to_Structure               5\n",
       "Distance_Residence_to_UtilityMisc_Structure      6\n",
       "Zip_Code_Prefix                                 38\n",
       "Incident_Start_Month_Name                       10\n",
       "Incident_Start_Weekday                           7\n",
       "dtype: int64"
      ]
     },
     "execution_count": 217,
     "metadata": {},
     "output_type": "execute_result"
    }
   ],
   "source": [
    "# check cardinality\n",
    "categorical_columnscategorical_columns_card = df[categorical_columns].nunique()\n",
    "categorical_columnscategorical_columns_card"
   ]
  },
  {
   "cell_type": "code",
   "execution_count": 218,
   "metadata": {},
   "outputs": [
    {
     "data": {
      "text/plain": [
       "Incident_Start_Month\n",
       "1     2326\n",
       "11    2125\n",
       "9     1619\n",
       "8     1532\n",
       "10    1103\n",
       "7      956\n",
       "12     234\n",
       "6       89\n",
       "2        9\n",
       "5        7\n",
       "Name: count, dtype: int64"
      ]
     },
     "execution_count": 218,
     "metadata": {},
     "output_type": "execute_result"
    }
   ],
   "source": [
    "df['Incident_Start_Month'].value_counts()"
   ]
  },
  {
   "cell_type": "markdown",
   "metadata": {},
   "source": [
    "At this point, only 'City' and 'Zip_Code' has a relatively high cardinality, however, they can also be  represented by Zip_Code_Prefix."
   ]
  },
  {
   "cell_type": "markdown",
   "metadata": {},
   "source": [
    "#### Drop constant column"
   ]
  },
  {
   "cell_type": "code",
   "execution_count": 219,
   "metadata": {},
   "outputs": [
    {
     "name": "stdout",
     "output_type": "stream",
     "text": [
      "Constant columns: ['State', 'Hazard_Type']\n"
     ]
    }
   ],
   "source": [
    "constant_cols = [col for col in df.columns if df[col].nunique() == 1]\n",
    "print(\"Constant columns:\", constant_cols)\n",
    "# drop the two constant columns\n",
    "df = df.drop(columns=[\"State\",\"Hazard_Type\"])"
   ]
  },
  {
   "cell_type": "markdown",
   "metadata": {},
   "source": [
    "## (0.7) Irregular cardinality due to changed categories"
   ]
  },
  {
   "cell_type": "code",
   "execution_count": 220,
   "metadata": {},
   "outputs": [
    {
     "name": "stderr",
     "output_type": "stream",
     "text": [
      "C:\\Users\\xiaoxiajin\\AppData\\Local\\Temp\\ipykernel_18728\\590562321.py:8: FutureWarning: The default of observed=False is deprecated and will be changed to True in a future version of pandas. Pass observed=False to retain current behavior or observed=True to adopt the future default and silence this warning.\n",
      "  yearly_dist = df.groupby([\n"
     ]
    },
    {
     "data": {
      "text/plain": [
       "<Figure size 1500x600 with 0 Axes>"
      ]
     },
     "metadata": {},
     "output_type": "display_data"
    },
    {
     "data": {
      "image/png": "[encoded data removed]",
      "text/plain": [
       "<Figure size 640x480 with 1 Axes>"
      ]
     },
     "metadata": {},
     "output_type": "display_data"
    },
    {
     "name": "stderr",
     "output_type": "stream",
     "text": [
      "C:\\Users\\xiaoxiajin\\AppData\\Local\\Temp\\ipykernel_18728\\590562321.py:8: FutureWarning: The default of observed=False is deprecated and will be changed to True in a future version of pandas. Pass observed=False to retain current behavior or observed=True to adopt the future default and silence this warning.\n",
      "  yearly_dist = df.groupby([\n"
     ]
    },
    {
     "data": {
      "text/plain": [
       "<Figure size 1500x600 with 0 Axes>"
      ]
     },
     "metadata": {},
     "output_type": "display_data"
    },
    {
     "data": {
      "image/png": "[encoded data removed]",
      "text/plain": [
       "<Figure size 640x480 with 1 Axes>"
      ]
     },
     "metadata": {},
     "output_type": "display_data"
    },
    {
     "name": "stderr",
     "output_type": "stream",
     "text": [
      "C:\\Users\\xiaoxiajin\\AppData\\Local\\Temp\\ipykernel_18728\\590562321.py:8: FutureWarning: The default of observed=False is deprecated and will be changed to True in a future version of pandas. Pass observed=False to retain current behavior or observed=True to adopt the future default and silence this warning.\n",
      "  yearly_dist = df.groupby([\n"
     ]
    },
    {
     "data": {
      "text/plain": [
       "<Figure size 1500x600 with 0 Axes>"
      ]
     },
     "metadata": {},
     "output_type": "display_data"
    },
    {
     "data": {
      "image/png": "[encoded data removed]",
      "text/plain": [
       "<Figure size 640x480 with 1 Axes>"
      ]
     },
     "metadata": {},
     "output_type": "display_data"
    }
   ],
   "source": [
    "import matplotlib.pyplot as plt\n",
    "import seaborn as sns\n",
    "\n",
    "def plot_category_changes(df, column, date_column='Incident_Start_Date'):\n",
    "    plt.figure(figsize=(15,6))\n",
    "    \n",
    "    # 按年份和类别分组\n",
    "    yearly_dist = df.groupby([\n",
    "        df[date_column].dt.year, \n",
    "        column\n",
    "    ]).size().unstack(fill_value=0)\n",
    "    \n",
    "    yearly_dist.plot(kind='bar', stacked=True)\n",
    "    plt.title(f'{column} Categories by Year')\n",
    "    plt.xlabel('Year')\n",
    "    plt.ylabel('Count')\n",
    "    plt.legend(title=column, bbox_to_anchor=(1.05, 1), loc='upper left')\n",
    "    plt.tight_layout()\n",
    "    plt.show()\n",
    "\n",
    "columns_to_check = ['Vent_Screen', 'Exterior_Siding', 'Roof_Construction']\n",
    "\n",
    "for col in columns_to_check:\n",
    "    plot_category_changes(df, col)"
   ]
  },
  {
   "cell_type": "markdown",
   "metadata": {},
   "source": [
    "From previous plots, we can clearly see that there are changed categories before/after 2018. To get a better understanding of the dataset, drop rows before 2018."
   ]
  },
  {
   "cell_type": "code",
   "execution_count": 221,
   "metadata": {},
   "outputs": [
    {
     "name": "stdout",
     "output_type": "stream",
     "text": [
      "Records before 2018: 1315\n"
     ]
    }
   ],
   "source": [
    "before_2018_count = df[df['Incident_Start_Date'] < '2018-01-01'].shape[0]\n",
    "print(f\"Records before 2018: {before_2018_count}\")"
   ]
  },
  {
   "cell_type": "code",
   "execution_count": 222,
   "metadata": {},
   "outputs": [
    {
     "data": {
      "text/plain": [
       "(8685, 32)"
      ]
     },
     "execution_count": 222,
     "metadata": {},
     "output_type": "execute_result"
    }
   ],
   "source": [
    "df = df[df['Incident_Start_Date'] >= '2018-01-01']\n",
    "df.shape"
   ]
  },
  {
   "cell_type": "markdown",
   "metadata": {},
   "source": [
    "## (0.8) Distance_Residence_to_UtilityMisc_Structure "
   ]
  },
  {
   "cell_type": "code",
   "execution_count": 223,
   "metadata": {},
   "outputs": [
    {
     "data": {
      "text/plain": [
       "['<30'', 'Unknown', '30', '30-50'', '>50'', '50']\n",
       "Categories (6, object): ['30', '30-50'', '50', '<30'', '>50'', 'Unknown']"
      ]
     },
     "execution_count": 223,
     "metadata": {},
     "output_type": "execute_result"
    }
   ],
   "source": [
    "df['Distance_Residence_to_UtilityMisc_Structure'].unique()"
   ]
  },
  {
   "cell_type": "code",
   "execution_count": 224,
   "metadata": {},
   "outputs": [
    {
     "name": "stdout",
     "output_type": "stream",
     "text": [
      "Category Counts:\n",
      "Distance_Residence_to_UtilityMisc_Structure\n",
      "Unknown    7268\n",
      "<30'        761\n",
      ">50'        331\n",
      "30-50'      304\n",
      "30           13\n",
      "50            8\n",
      "Name: count, dtype: int64\n"
     ]
    },
    {
     "data": {
      "image/png": "[encoded data removed]",
      "text/plain": [
       "<Figure size 1000x600 with 1 Axes>"
      ]
     },
     "metadata": {},
     "output_type": "display_data"
    }
   ],
   "source": [
    "distance_category_counts = df['Distance_Residence_to_UtilityMisc_Structure'].value_counts()\n",
    "print(\"Category Counts:\")\n",
    "print(distance_category_counts)\n",
    "\n",
    "\n",
    "plt.figure(figsize=(10,6))\n",
    "distance_category_counts.plot(kind='bar')\n",
    "plt.title('Category Distribution')\n",
    "plt.xlabel('Categories')\n",
    "plt.ylabel('Count')\n",
    "plt.xticks(rotation=45)\n",
    "plt.tight_layout()\n",
    "plt.show()"
   ]
  },
  {
   "cell_type": "markdown",
   "metadata": {},
   "source": [
    "Value 30 and 50 has only a few rows, merge \"30\" and \"<30\" to \"<=30\", merge \"50\" and \">50\" to \">=50\""
   ]
  },
  {
   "cell_type": "code",
   "execution_count": 225,
   "metadata": {},
   "outputs": [
    {
     "name": "stdout",
     "output_type": "stream",
     "text": [
      "Distance_Residence_to_UtilityMisc_Structure\n",
      "Unknown    7268\n",
      "<=30        774\n",
      ">=50        339\n",
      "30-50       304\n",
      "Name: count, dtype: int64\n"
     ]
    },
    {
     "data": {
      "image/png": "[encoded data removed]",
      "text/plain": [
       "<Figure size 1000x600 with 1 Axes>"
      ]
     },
     "metadata": {},
     "output_type": "display_data"
    }
   ],
   "source": [
    "def combine_distance_categories(x):\n",
    "    if x in [\"<30'\", '30']:\n",
    "        return '<=30'\n",
    "    elif x in [\">50'\", '50']:\n",
    "        return '>=50'\n",
    "    elif x == \"30-50'\":\n",
    "        return '30-50'\n",
    "    else:\n",
    "        return x\n",
    "\n",
    "# apply convert\n",
    "df['Distance_Residence_to_UtilityMisc_Structure'] = df['Distance_Residence_to_UtilityMisc_Structure'].apply(combine_distance_categories)\n",
    "\n",
    "# check new group\n",
    "print(df['Distance_Residence_to_UtilityMisc_Structure'].value_counts())\n",
    "df['Distance_Residence_to_UtilityMisc_Structure'] = df['Distance_Residence_to_UtilityMisc_Structure'].astype('category')\n",
    "\n",
    "# visualize\n",
    "import matplotlib.pyplot as plt\n",
    "\n",
    "plt.figure(figsize=(10,6))\n",
    "df['Distance_Residence_to_UtilityMisc_Structure'].value_counts().plot(kind='bar')\n",
    "plt.title('Combined Category Distribution')\n",
    "plt.xlabel('Categories')\n",
    "plt.ylabel('Count')\n",
    "plt.xticks(rotation=45)\n",
    "plt.tight_layout()\n",
    "plt.show()"
   ]
  },
  {
   "cell_type": "markdown",
   "metadata": {},
   "source": [
    "## (0.9) Assessed_Improved_Value"
   ]
  },
  {
   "cell_type": "code",
   "execution_count": 226,
   "metadata": {},
   "outputs": [],
   "source": [
    "# Identify outliers using IQR method\n",
    "Q1 = df['Assessed_Improved_Value'].quantile(0.25)\n",
    "Q3 = df['Assessed_Improved_Value'].quantile(0.75)\n",
    "IQR = Q3 - Q1\n",
    "\n",
    "# Define outlier bounds\n",
    "lower_bound = Q1 - 1.5 * IQR\n",
    "upper_bound = Q3 + 1.5 * IQR\n",
    "\n",
    "# Create a new column to indicate known/unknown values\n",
    "df['Assessed_Improved_Value_Known'] = (~df['Assessed_Improved_Value'].isna()).astype(int)\n",
    "\n",
    "# Replace outliers and NaN with 0\n",
    "df['Assessed_Improved_Value'] = df['Assessed_Improved_Value'].apply(\n",
    "    lambda x: 0 if pd.isna(x) or x < lower_bound or x > upper_bound else x\n",
    ")"
   ]
  },
  {
   "cell_type": "code",
   "execution_count": 227,
   "metadata": {},
   "outputs": [],
   "source": [
    "df.to_csv(\"cal-wildfires-24200030-cleaned-v1.csv\", index=False)"
   ]
  },
  {
   "cell_type": "code",
   "execution_count": 228,
   "metadata": {},
   "outputs": [
    {
     "data": {
      "text/plain": [
       "OBJECTID                                               object\n",
       "Damage                                               category\n",
       "City                                                 category\n",
       "Zip_Code                                             category\n",
       "CAL_FIRE_Unit                                        category\n",
       "County                                               category\n",
       "Incident_Start_Date                            datetime64[ns]\n",
       "Structure_Defense_Actions_Taken                      category\n",
       "Structure_Type                                       category\n",
       "Structure_Category                                   category\n",
       "Number_of_Units                                      category\n",
       "Roof_Construction                                    category\n",
       "Eaves                                                category\n",
       "Vent_Screen                                          category\n",
       "Exterior_Siding                                      category\n",
       "Window_Pane                                          category\n",
       "DeckPorch_On_Grade                                   category\n",
       "DeckPorch_Elevated                                   category\n",
       "Patio_CoverCarport_Attached_to_Structure             category\n",
       "Fence_Attached_to_Structure                          category\n",
       "Distance_Propane_Tank_to_Structure                   category\n",
       "Distance_Residence_to_UtilityMisc_Structure          category\n",
       "Assessed_Improved_Value                               float64\n",
       "Year_Built                                              int64\n",
       "Latitude                                              float64\n",
       "Longitude                                             float64\n",
       "Zip_Code_Prefix                                      category\n",
       "Year_Built_Known                                        int64\n",
       "Incident_Start_Year                                     int32\n",
       "Incident_Start_Month                                    int32\n",
       "Incident_Start_Month_Name                            category\n",
       "Incident_Start_Weekday                               category\n",
       "Assessed_Improved_Value_Known                           int64\n",
       "dtype: object"
      ]
     },
     "execution_count": 228,
     "metadata": {},
     "output_type": "execute_result"
    }
   ],
   "source": [
    "df.dtypes"
   ]
  },
  {
   "cell_type": "code",
   "execution_count": null,
   "metadata": {},
   "outputs": [],
   "source": []
  },
  {
   "cell_type": "markdown",
   "metadata": {},
   "source": [
    "# 1. Data Understanding and Preparation"
   ]
  },
  {
   "cell_type": "markdown",
   "metadata": {},
   "source": [
    "## (1.1) Split the dataset into two datasets: 70% training and 30% test."
   ]
  },
  {
   "cell_type": "code",
   "execution_count": 229,
   "metadata": {},
   "outputs": [
    {
     "data": {
      "text/plain": [
       "(8685, 33)"
      ]
     },
     "execution_count": 229,
     "metadata": {},
     "output_type": "execute_result"
    }
   ],
   "source": [
    "df.shape"
   ]
  },
  {
   "cell_type": "code",
   "execution_count": 230,
   "metadata": {},
   "outputs": [],
   "source": [
    "df[\"Damage_Binary\"] = df[\"Damage\"].apply(lambda x: 1 if x == \"Destroyed (>50%)\" else 0) "
   ]
  },
  {
   "cell_type": "code",
   "execution_count": 231,
   "metadata": {},
   "outputs": [],
   "source": [
    "train_data, test_data = train_test_split(df, test_size=0.3, random_state=42)\n",
    "train_data.to_csv('Ass2_train_data.csv', index=False)\n",
    "test_data.to_csv('Ass2_test_data.csv', index=False)"
   ]
  },
  {
   "cell_type": "markdown",
   "metadata": {},
   "source": [
    "## (1.2) On the training set:"
   ]
  },
  {
   "cell_type": "markdown",
   "metadata": {},
   "source": [
    "### Plot the correlations between all the continuous features (if any). Discuss what you observe in these plots."
   ]
  },
  {
   "cell_type": "code",
   "execution_count": 232,
   "metadata": {},
   "outputs": [],
   "source": [
    "import seaborn as sns"
   ]
  },
  {
   "cell_type": "code",
   "execution_count": 233,
   "metadata": {},
   "outputs": [
    {
     "data": {
      "text/plain": [
       "(6079, 34)"
      ]
     },
     "execution_count": 233,
     "metadata": {},
     "output_type": "execute_result"
    }
   ],
   "source": [
    "train_data.shape"
   ]
  },
  {
   "cell_type": "code",
   "execution_count": 234,
   "metadata": {},
   "outputs": [
    {
     "data": {
      "text/plain": [
       "Index(['Assessed_Improved_Value', 'Year_Built', 'Latitude', 'Longitude',\n",
       "       'Year_Built_Known', 'Assessed_Improved_Value_Known'],\n",
       "      dtype='object')"
      ]
     },
     "execution_count": 234,
     "metadata": {},
     "output_type": "execute_result"
    }
   ],
   "source": [
    "# Define continuous columns and categorical columns\n",
    "train_continuous_columns = train_data.select_dtypes(['float64','int64']).columns\n",
    "train_continuous_columns"
   ]
  },
  {
   "cell_type": "code",
   "execution_count": 235,
   "metadata": {},
   "outputs": [
    {
     "data": {
      "text/plain": [
       "Index(['Damage', 'City', 'Zip_Code', 'CAL_FIRE_Unit', 'County',\n",
       "       'Structure_Defense_Actions_Taken', 'Structure_Type',\n",
       "       'Structure_Category', 'Number_of_Units', 'Roof_Construction', 'Eaves',\n",
       "       'Vent_Screen', 'Exterior_Siding', 'Window_Pane', 'DeckPorch_On_Grade',\n",
       "       'DeckPorch_Elevated', 'Patio_CoverCarport_Attached_to_Structure',\n",
       "       'Fence_Attached_to_Structure', 'Distance_Propane_Tank_to_Structure',\n",
       "       'Distance_Residence_to_UtilityMisc_Structure', 'Zip_Code_Prefix',\n",
       "       'Incident_Start_Month_Name', 'Incident_Start_Weekday', 'Damage_Binary'],\n",
       "      dtype='object')"
      ]
     },
     "execution_count": 235,
     "metadata": {},
     "output_type": "execute_result"
    }
   ],
   "source": [
    "train_categorical_columns = train_data.select_dtypes(['category']).columns\n",
    "train_categorical_columns"
   ]
  },
  {
   "cell_type": "code",
   "execution_count": 236,
   "metadata": {},
   "outputs": [
    {
     "data": {
      "image/png": "[encoded data removed]",
      "text/plain": [
       "<Figure size 1000x800 with 2 Axes>"
      ]
     },
     "metadata": {},
     "output_type": "display_data"
    }
   ],
   "source": [
    "# Plot the heatmap of the correlation matrix for continuous features\n",
    "sns.set(style=\"white\")\n",
    "\n",
    "corr = train_data[train_continuous_columns].corr()\n",
    "\n",
    "mask = np.zeros_like(corr, dtype=\"bool\")\n",
    "mask[np.triu_indices_from(mask)] = True\n",
    "\n",
    "f, ax = plt.subplots(figsize=(10, 8))  \n",
    "\n",
    "\n",
    "cmap = sns.diverging_palette(220, 10, as_cmap=True)\n",
    "\n",
    "\n",
    "sns.heatmap(corr, annot=True, mask=mask, cmap=cmap, vmax=1, vmin=-1,\n",
    "            square=True, xticklabels=True, yticklabels=True,\n",
    "            linewidths=0.5, cbar_kws={\"shrink\": 0.6}, ax=ax)  \n",
    "\n",
    "plt.yticks(rotation=0)\n",
    "plt.xticks(rotation=90) \n",
    "plt.show()"
   ]
  },
  {
   "cell_type": "markdown",
   "metadata": {},
   "source": [
    "#### **Discussion**\n",
    "\n",
    "The values between continuous data are relatively low, except for longitude and latitude, indicating that there is not a strong linear relationship between these features.\n",
    "\n",
    "But they may provide different information when building the predictive model. I will analyze the relationship between these features and the target feature Damage_Binary to determine if they are useful for the predictive model."
   ]
  },
  {
   "cell_type": "markdown",
   "metadata": {},
   "source": [
    "### For each continuous feature, plot its interaction with the target feature (a plot for each pair of   continuous feature and target feature). Discuss what you observe from these plots, e.g., which continuous features seem to be better at predicting the target feature? Choose a subset of continuous features you find promising (if any). Justify your choices."
   ]
  },
  {
   "cell_type": "code",
   "execution_count": 237,
   "metadata": {},
   "outputs": [
    {
     "data": {
      "text/plain": [
       "<Axes: xlabel='Latitude', ylabel='Damage_Binary'>"
      ]
     },
     "execution_count": 237,
     "metadata": {},
     "output_type": "execute_result"
    },
    {
     "data": {
      "image/png": "[encoded data removed]",
      "text/plain": [
       "<Figure size 1000x500 with 4 Axes>"
      ]
     },
     "metadata": {},
     "output_type": "display_data"
    }
   ],
   "source": [
    "fig, axs = plt.subplots(1, 4, sharey=True)\n",
    "train_data.plot(kind='scatter', x='Assessed_Improved_Value', y='Damage_Binary', label=\"%.3f\" % train_data[['Assessed_Improved_Value', 'Damage_Binary']].corr().to_numpy()[0,1], ax=axs[0], figsize=(10, 5))\n",
    "train_data.plot(kind='scatter', x='Year_Built', y='Damage_Binary', label=\"%.3f\" % train_data[['Year_Built', 'Damage_Binary']].corr().to_numpy()[0,1], ax=axs[1])\n",
    "train_data.plot(kind='scatter', x='Longitude', y='Damage_Binary', label=\"%.3f\" % train_data[['Longitude', 'Damage_Binary']].corr().to_numpy()[0,1], ax=axs[2])\n",
    "train_data.plot(kind='scatter', x='Latitude', y='Damage_Binary', label=\"%.3f\" % train_data[['Latitude', 'Damage_Binary']].corr().to_numpy()[0,1], ax=axs[3])"
   ]
  },
  {
   "cell_type": "markdown",
   "metadata": {},
   "source": [
    "When analysing the continuous features in relation to the target variable, only a weak linear correlation can be observed between these features and Damage_Binary.\n",
    "\n",
    "Latitude showed a weak positive correlation (correlation coefficient of 0.104), while other features such as **Assessed_Improved_Value**, **Year_Built**, and **Longitude** have correlations close to zero. Latitude may suggest that geographic location has a weak effect on damage, which may need to be further explored in combination with other geographic or environmental features.\n",
    "\n",
    "This suggests that these raw features may not be sufficient to directly predict damage or require more sophisticated processing and contextual information to play a more significant role in predictive models."
   ]
  },
  {
   "cell_type": "markdown",
   "metadata": {},
   "source": [
    "### For each categorical feature, plot its pairwise interaction with the target feature. Discuss what  knowledge you gain from these plots, e.g., which categorical features seem to be better at predicting the target feature? Choose a subset of categorical features you find promising (if any). Justify your choices."
   ]
  },
  {
   "cell_type": "code",
   "execution_count": 238,
   "metadata": {},
   "outputs": [],
   "source": [
    "def plot_categorical_interactions(df, categorical_columns, target_column):\n",
    "    n_cols = 2\n",
    "    n_rows = (len(categorical_columns) + 1) // 2\n",
    "    plt.figure(figsize=(20, 5*n_rows))\n",
    "\n",
    "\n",
    "    for i, col in enumerate(categorical_columns, 1):\n",
    "        plt.subplot(n_rows, n_cols, i)\n",
    "        \n",
    "        \n",
    "        grouped = df.groupby([col, target_column], observed=False).size().unstack(fill_value=0)\n",
    "        grouped_percentage = grouped.div(grouped.sum(axis=1), axis=0)\n",
    "        \n",
    "        grouped_percentage.plot(kind='bar', stacked=True, ax=plt.gca())\n",
    "        plt.title(f'{col} vs {target_column}')\n",
    "        plt.xlabel(col)\n",
    "        plt.ylabel('Percentage')\n",
    "        plt.legend(title=target_column, bbox_to_anchor=(1.05, 1), loc='upper left')\n",
    "        plt.xticks(rotation=90)\n",
    "\n",
    "    plt.tight_layout()\n",
    "    plt.show()\n",
    "# plot_categorical_interactions(train_data, train_categorical_columns, 'Damage_Binary')"
   ]
  },
  {
   "cell_type": "markdown",
   "metadata": {},
   "source": [
    "####  **Discussion**\n",
    "\n",
    "**Justification**: \n",
    "1. Structure_Type\n",
    "\n",
    "The Structure_Type feature shows significant variation in damage proportions across different building types. Residential structures appear to have a higher likelihood of damage, suggesting this feature could be a strong predictor in our damage prediction model.5. Structure_Category\n",
    "\n",
    "Structure_Category provides a broader view of damage patterns across different building categories. The distinct damage proportions between commercial, residential, and other structure types suggest this feature could offer valuable predictive information.\n",
    "\n",
    "2. Exterior_Siding\n",
    "\n",
    "Exterior_Siding demonstrates notable differences in damage patterns. The varying damage percentages across different siding materials indicate that this feature could provide valuable insights into structural vulnerability.\n",
    "\n",
    "\n",
    "3. Roof_Construction\n",
    "\n",
    "Roof_Construction shows clear disparities in damage rates. The distinct damage proportions for different roofing materials suggest this feature could be a meaningful predictor of structural damage.\n",
    "\n",
    "4. Window_Pane\n",
    "\n",
    "The Window_Pane feature reveals variations in damage susceptibility. The differing damage percentages across window types indicate potential predictive power in assessing structural damage risk.\n",
    "\n"
   ]
  },
  {
   "cell_type": "code",
   "execution_count": 239,
   "metadata": {},
   "outputs": [
    {
     "data": {
      "text/html": [
       "<div>\n",
       "<style scoped>\n",
       "    .dataframe tbody tr th:only-of-type {\n",
       "        vertical-align: middle;\n",
       "    }\n",
       "\n",
       "    .dataframe tbody tr th {\n",
       "        vertical-align: top;\n",
       "    }\n",
       "\n",
       "    .dataframe thead th {\n",
       "        text-align: right;\n",
       "    }\n",
       "</style>\n",
       "<table border=\"1\" class=\"dataframe\">\n",
       "  <thead>\n",
       "    <tr style=\"text-align: right;\">\n",
       "      <th></th>\n",
       "      <th>Structure_Type</th>\n",
       "      <th>Structure_Category</th>\n",
       "    </tr>\n",
       "  </thead>\n",
       "  <tbody>\n",
       "    <tr>\n",
       "      <th>Structure_Type</th>\n",
       "      <td>1.000000</td>\n",
       "      <td>0.639792</td>\n",
       "    </tr>\n",
       "    <tr>\n",
       "      <th>Structure_Category</th>\n",
       "      <td>0.639792</td>\n",
       "      <td>1.000000</td>\n",
       "    </tr>\n",
       "  </tbody>\n",
       "</table>\n",
       "</div>"
      ],
      "text/plain": [
       "                    Structure_Type  Structure_Category\n",
       "Structure_Type            1.000000            0.639792\n",
       "Structure_Category        0.639792            1.000000"
      ]
     },
     "execution_count": 239,
     "metadata": {},
     "output_type": "execute_result"
    }
   ],
   "source": [
    "correlation_matrix = df[['Structure_Type', 'Structure_Category']].apply(lambda x: pd.factorize(x)[0]).corr()\n",
    "correlation_matrix"
   ]
  },
  {
   "cell_type": "markdown",
   "metadata": {},
   "source": [
    "选择 Structure_Type，因为它的类别更细致"
   ]
  },
  {
   "cell_type": "markdown",
   "metadata": {},
   "source": [
    "#### Group the categorical columns"
   ]
  },
  {
   "cell_type": "markdown",
   "metadata": {},
   "source": [
    "##### Exterior_Siding"
   ]
  },
  {
   "cell_type": "code",
   "execution_count": 240,
   "metadata": {},
   "outputs": [
    {
     "data": {
      "text/plain": [
       "['Stucco Brick Cement',\n",
       " 'Wood',\n",
       " 'Unknown',\n",
       " 'Combustible',\n",
       " 'Ignition Resistant',\n",
       " 'Metal',\n",
       " 'Vinyl',\n",
       " 'Stucco/Brick/Cement',\n",
       " 'Other']"
      ]
     },
     "execution_count": 240,
     "metadata": {},
     "output_type": "execute_result"
    }
   ],
   "source": [
    "df['Exterior_Siding'].unique().tolist()"
   ]
  },
  {
   "cell_type": "code",
   "execution_count": 241,
   "metadata": {},
   "outputs": [],
   "source": [
    "def group_exterior_siding(x):\n",
    "    if x in ['Wood', 'Vinyl', 'Metal', 'Other']:\n",
    "        return x\n",
    "    elif x in ['Stucco Brick Cement', 'Stucco/Brick/Cement']:\n",
    "        return 'Stucco_Brick_Cement'\n",
    "    elif x == 'Ignition Resistant':\n",
    "        return 'Ignition_Resistant'\n",
    "    elif x == 'Fire Resistant':\n",
    "        return 'Fire_Resistant'\n",
    "    elif x == 'Combustible':\n",
    "        return 'Combustible'\n",
    "    else:\n",
    "        return 'Other'\n",
    "\n",
    "df['Exterior_Siding_Grouped'] = df['Exterior_Siding'].apply(group_exterior_siding)"
   ]
  },
  {
   "cell_type": "markdown",
   "metadata": {},
   "source": [
    "##### Window_Pane"
   ]
  },
  {
   "cell_type": "code",
   "execution_count": 242,
   "metadata": {},
   "outputs": [
    {
     "data": {
      "text/plain": [
       "['Multi Pane', 'Single Pane', 'Unknown', 'No Windows', 'No Deck/Porch']"
      ]
     },
     "execution_count": 242,
     "metadata": {},
     "output_type": "execute_result"
    }
   ],
   "source": [
    "df['Window_Pane'].unique().tolist()"
   ]
  },
  {
   "cell_type": "code",
   "execution_count": 243,
   "metadata": {},
   "outputs": [],
   "source": [
    "def group_window_pane(x):\n",
    "    if x in ['Single Pane', 'No Windows','Multi Pane']:\n",
    "        return x\n",
    "    else:\n",
    "        return 'Unknown'\n",
    "\n",
    "df['Window_Pane_Grouped'] = df['Window_Pane'].apply(group_window_pane)"
   ]
  },
  {
   "cell_type": "markdown",
   "metadata": {},
   "source": [
    "##### Roof_Construction"
   ]
  },
  {
   "cell_type": "code",
   "execution_count": 244,
   "metadata": {},
   "outputs": [
    {
     "data": {
      "text/plain": [
       "['Tile', 'Metal', 'Asphalt', 'Unknown', 'Concrete', 'Wood', 'Other']"
      ]
     },
     "execution_count": 244,
     "metadata": {},
     "output_type": "execute_result"
    }
   ],
   "source": [
    "df['Roof_Construction'].unique().tolist()"
   ]
  },
  {
   "cell_type": "code",
   "execution_count": 245,
   "metadata": {},
   "outputs": [],
   "source": [
    "def group_roof_construction(x):\n",
    "    if x in ['Wood', 'Asphalt']:\n",
    "        return 'Combustible'\n",
    "    elif x in ['Tile', 'Metal', 'Concrete']:\n",
    "        return 'Fire_Resistant_Material'\n",
    "    else:\n",
    "        return 'Other'\n",
    "\n",
    "df['Roof_Construction_Grouped'] = df['Roof_Construction'].apply(group_roof_construction)"
   ]
  },
  {
   "cell_type": "markdown",
   "metadata": {},
   "source": [
    "##### Structure_Type"
   ]
  },
  {
   "cell_type": "code",
   "execution_count": 246,
   "metadata": {},
   "outputs": [
    {
     "data": {
      "text/plain": [
       "['Utility Misc Structure',\n",
       " 'Single Family Residence Single Story',\n",
       " 'Single Family Residence Multi Story',\n",
       " 'Multi Family Residence Multi Story',\n",
       " 'Infrastructure',\n",
       " 'Mobile Home Double Wide',\n",
       " 'Commercial Building Single Story',\n",
       " 'School',\n",
       " 'Mobile Home Single Wide',\n",
       " 'Mobile Home Triple Wide',\n",
       " 'Multi Family Residence Single Story',\n",
       " 'Motor Home',\n",
       " 'Commercial Building Multi Story',\n",
       " 'Mixed Commercial/Residential',\n",
       " 'Church',\n",
       " 'Hospital']"
      ]
     },
     "execution_count": 246,
     "metadata": {},
     "output_type": "execute_result"
    }
   ],
   "source": [
    "df['Structure_Type'].unique().tolist()"
   ]
  },
  {
   "cell_type": "code",
   "execution_count": 247,
   "metadata": {},
   "outputs": [],
   "source": [
    "def group_structure_type(x):\n",
    "    if 'Mobile Home' in x:\n",
    "        return 'Mobile_Home'\n",
    "    elif 'Multi Family Residence' in x:\n",
    "        return 'Multi_Family_Residence'\n",
    "    elif 'Single Family Residence' in x:\n",
    "        return 'Single_Family_Residence'\n",
    "    elif 'Commercial Building' in x:\n",
    "        return 'Commercial_Building'\n",
    "    else:\n",
    "        return 'Other'\n",
    "\n",
    "df['Structure_Type_Grouped'] = df['Structure_Type'].apply(group_structure_type)"
   ]
  },
  {
   "cell_type": "code",
   "execution_count": 248,
   "metadata": {},
   "outputs": [],
   "source": [
    "# Apply group on both train_data and test_data\n",
    "train_data['Exterior_Siding_Grouped'] = train_data['Exterior_Siding'].apply(group_exterior_siding)\n",
    "test_data['Exterior_Siding_Grouped'] = test_data['Exterior_Siding'].apply(group_exterior_siding)\n",
    "\n",
    "train_data['Window_Pane_Grouped'] = train_data['Window_Pane'].apply(group_window_pane)\n",
    "test_data['Window_Pane_Grouped'] = test_data['Window_Pane'].apply(group_window_pane)\n",
    "\n",
    "train_data['Roof_Construction_Grouped'] = train_data['Roof_Construction'].apply(group_roof_construction)\n",
    "test_data['Roof_Construction_Grouped'] = test_data['Roof_Construction'].apply(group_roof_construction)\n",
    "\n",
    "train_data['Structure_Type_Grouped'] = train_data['Structure_Type'].apply(group_structure_type)\n",
    "test_data['Structure_Type_Grouped'] = test_data['Structure_Type'].apply(group_structure_type)"
   ]
  },
  {
   "cell_type": "markdown",
   "metadata": {},
   "source": [
    "# **Predictive Modeling:** Linear Regression.  \n",
    "\n",
    "## (2.1) On the training set, train a linear regression model to predict the target feature, using only the  descriptive features selected in exercise (1) above. \n"
   ]
  },
  {
   "cell_type": "code",
   "execution_count": 249,
   "metadata": {},
   "outputs": [],
   "source": [
    "from sklearn.preprocessing import StandardScaler"
   ]
  },
  {
   "cell_type": "markdown",
   "metadata": {},
   "source": [
    "变量名\n",
    "        "
   ]
  },
  {
   "cell_type": "code",
   "execution_count": 250,
   "metadata": {},
   "outputs": [],
   "source": [
    "continuous_cols = ['Incident_Start_Year']\n",
    "categorical_cols = ['Structure_Type_Grouped', 'Exterior_Siding_Grouped', 'Roof_Construction_Grouped', 'Window_Pane_Grouped']\n",
    "target_col = 'Damage_Binary'"
   ]
  },
  {
   "cell_type": "markdown",
   "metadata": {},
   "source": [
    "解释为什么要对Year_Built标准化"
   ]
  },
  {
   "cell_type": "code",
   "execution_count": 251,
   "metadata": {},
   "outputs": [],
   "source": [
    "# Standarlized Incident_Start_Year\n",
    "scaler_linreg = StandardScaler()\n",
    "X_train_cont_linreg = pd.DataFrame(\n",
    "    scaler_linreg.fit_transform(train_data[continuous_cols]),\n",
    "    columns=continuous_cols,\n",
    "    index=train_data.index\n",
    ")\n",
    "\n",
    "# For categorical columns, one-hot\n",
    "X_train_cat_linreg = pd.get_dummies(\n",
    "    train_data[categorical_cols],\n",
    "    drop_first=True,\n",
    "    dtype=int\n",
    ")\n",
    "\n",
    "# concat features\n",
    "X_train_linreg = pd.concat([X_train_cont_linreg, X_train_cat_linreg], axis=1)\n",
    "y_train_linreg = train_data[target_col]\n",
    "\n",
    "# fit model\n",
    "linreg_model = LinearRegression().fit(X_train_linreg, y_train_linreg)\n"
   ]
  },
  {
   "cell_type": "markdown",
   "metadata": {},
   "source": [
    "## (2.2) Print the coefficients learned by the model and discuss their role in the model (e.g., interpret the model by analysing each coefficient and how it relates each input feature to the target feature).    \n"
   ]
  },
  {
   "cell_type": "code",
   "execution_count": 252,
   "metadata": {},
   "outputs": [
    {
     "data": {
      "text/html": [
       "<div>\n",
       "<style scoped>\n",
       "    .dataframe tbody tr th:only-of-type {\n",
       "        vertical-align: middle;\n",
       "    }\n",
       "\n",
       "    .dataframe tbody tr th {\n",
       "        vertical-align: top;\n",
       "    }\n",
       "\n",
       "    .dataframe thead th {\n",
       "        text-align: right;\n",
       "    }\n",
       "</style>\n",
       "<table border=\"1\" class=\"dataframe\">\n",
       "  <thead>\n",
       "    <tr style=\"text-align: right;\">\n",
       "      <th></th>\n",
       "      <th>Feature</th>\n",
       "      <th>Coefficient</th>\n",
       "    </tr>\n",
       "  </thead>\n",
       "  <tbody>\n",
       "    <tr>\n",
       "      <th>7</th>\n",
       "      <td>Exterior_Siding_Grouped_Other</td>\n",
       "      <td>-0.844414</td>\n",
       "    </tr>\n",
       "    <tr>\n",
       "      <th>10</th>\n",
       "      <td>Exterior_Siding_Grouped_Wood</td>\n",
       "      <td>-0.633510</td>\n",
       "    </tr>\n",
       "    <tr>\n",
       "      <th>9</th>\n",
       "      <td>Exterior_Siding_Grouped_Vinyl</td>\n",
       "      <td>-0.542761</td>\n",
       "    </tr>\n",
       "    <tr>\n",
       "      <th>6</th>\n",
       "      <td>Exterior_Siding_Grouped_Metal</td>\n",
       "      <td>-0.501220</td>\n",
       "    </tr>\n",
       "    <tr>\n",
       "      <th>8</th>\n",
       "      <td>Exterior_Siding_Grouped_Stucco_Brick_Cement</td>\n",
       "      <td>-0.456819</td>\n",
       "    </tr>\n",
       "    <tr>\n",
       "      <th>15</th>\n",
       "      <td>Window_Pane_Grouped_Unknown</td>\n",
       "      <td>0.425129</td>\n",
       "    </tr>\n",
       "    <tr>\n",
       "      <th>12</th>\n",
       "      <td>Roof_Construction_Grouped_Other</td>\n",
       "      <td>-0.285572</td>\n",
       "    </tr>\n",
       "    <tr>\n",
       "      <th>13</th>\n",
       "      <td>Window_Pane_Grouped_No Windows</td>\n",
       "      <td>0.148322</td>\n",
       "    </tr>\n",
       "    <tr>\n",
       "      <th>1</th>\n",
       "      <td>Structure_Type_Grouped_Mobile_Home</td>\n",
       "      <td>0.145037</td>\n",
       "    </tr>\n",
       "    <tr>\n",
       "      <th>2</th>\n",
       "      <td>Structure_Type_Grouped_Multi_Family_Residence</td>\n",
       "      <td>-0.137439</td>\n",
       "    </tr>\n",
       "    <tr>\n",
       "      <th>14</th>\n",
       "      <td>Window_Pane_Grouped_Single Pane</td>\n",
       "      <td>0.135338</td>\n",
       "    </tr>\n",
       "    <tr>\n",
       "      <th>11</th>\n",
       "      <td>Roof_Construction_Grouped_Fire_Resistant_Material</td>\n",
       "      <td>-0.089336</td>\n",
       "    </tr>\n",
       "    <tr>\n",
       "      <th>3</th>\n",
       "      <td>Structure_Type_Grouped_Other</td>\n",
       "      <td>0.028943</td>\n",
       "    </tr>\n",
       "    <tr>\n",
       "      <th>5</th>\n",
       "      <td>Exterior_Siding_Grouped_Ignition_Resistant</td>\n",
       "      <td>0.024521</td>\n",
       "    </tr>\n",
       "    <tr>\n",
       "      <th>4</th>\n",
       "      <td>Structure_Type_Grouped_Single_Family_Residence</td>\n",
       "      <td>0.013111</td>\n",
       "    </tr>\n",
       "    <tr>\n",
       "      <th>0</th>\n",
       "      <td>Incident_Start_Year</td>\n",
       "      <td>0.006647</td>\n",
       "    </tr>\n",
       "  </tbody>\n",
       "</table>\n",
       "</div>"
      ],
      "text/plain": [
       "                                              Feature  Coefficient\n",
       "7                       Exterior_Siding_Grouped_Other    -0.844414\n",
       "10                       Exterior_Siding_Grouped_Wood    -0.633510\n",
       "9                       Exterior_Siding_Grouped_Vinyl    -0.542761\n",
       "6                       Exterior_Siding_Grouped_Metal    -0.501220\n",
       "8         Exterior_Siding_Grouped_Stucco_Brick_Cement    -0.456819\n",
       "15                        Window_Pane_Grouped_Unknown     0.425129\n",
       "12                    Roof_Construction_Grouped_Other    -0.285572\n",
       "13                     Window_Pane_Grouped_No Windows     0.148322\n",
       "1                  Structure_Type_Grouped_Mobile_Home     0.145037\n",
       "2       Structure_Type_Grouped_Multi_Family_Residence    -0.137439\n",
       "14                    Window_Pane_Grouped_Single Pane     0.135338\n",
       "11  Roof_Construction_Grouped_Fire_Resistant_Material    -0.089336\n",
       "3                        Structure_Type_Grouped_Other     0.028943\n",
       "5          Exterior_Siding_Grouped_Ignition_Resistant     0.024521\n",
       "4      Structure_Type_Grouped_Single_Family_Residence     0.013111\n",
       "0                                 Incident_Start_Year     0.006647"
      ]
     },
     "execution_count": 252,
     "metadata": {},
     "output_type": "execute_result"
    }
   ],
   "source": [
    "# 查看每个特征的系数\n",
    "coef_df_linreg = pd.DataFrame({\n",
    "    'Feature': X_train_linreg.columns,\n",
    "    'Coefficient': linreg_model.coef_\n",
    "})\n",
    "\n",
    "# 按绝对值大小排序，便于观察重要性\n",
    "coef_df_linreg['Abs_Coefficient'] = coef_df_linreg['Coefficient'].abs()\n",
    "coef_df_linreg_sorted = coef_df_linreg.sort_values('Abs_Coefficient', ascending=False)\n",
    "\n",
    "coef_df_linreg_sorted[['Feature', 'Coefficient']]\n"
   ]
  },
  {
   "cell_type": "markdown",
   "metadata": {},
   "source": [
    "### 需要discuss\n",
    "The coefficients show how each feature contributes to the predicted probability of building damage (approximated through a regression score, to be thresholded later).\n",
    "\n",
    "A positive coefficient indicates that the presence/increase of that feature is associated with higher likelihood of damage.\n",
    "\n",
    "A negative coefficient indicates a feature is associated with lower likelihood of damage.\n",
    "\n",
    "For example:\n",
    "\n",
    "Year_Built: Since it's standardized, a negative coefficient means older buildings (i.e., lower Year_Built) are more likely to be damaged.\n",
    "\n",
    "One-hot encoded features such as Roof_Construction_Grouped_Steel with high positive coefficients may suggest that buildings with steel roof construction have higher risk.\n",
    "\n",
    "Features with near-zero coefficients likely have little contribution and might be noise.\n"
   ]
  },
  {
   "cell_type": "markdown",
   "metadata": {},
   "source": [
    "## (2.3) Print the predicted target feature value for the first 10 training examples. Threshold the predicted target feature value given by the linear regression model at 0.5, to get the predicted class for each example. Print the predicted class for the first 10 examples. Print a few classification evaluation measures computed on the full training set (e.g., Accuracy, Confusion matrix, Precision, Recall, F1) and discuss your findings so far.\n"
   ]
  },
  {
   "cell_type": "code",
   "execution_count": 253,
   "metadata": {},
   "outputs": [
    {
     "name": "stdout",
     "output_type": "stream",
     "text": [
      "First 10 training examples:\n",
      "    Raw_Prediction  Predicted_Class\n",
      "0        0.572246                1\n",
      "1        0.192548                0\n",
      "2        0.436907                0\n",
      "3        1.143978                1\n",
      "4        0.876713                1\n",
      "5        0.171856                0\n",
      "6        1.012052                1\n",
      "7        0.498741                0\n",
      "8        0.176717                0\n",
      "9        0.158728                0\n",
      "\n",
      "Evaluation on full training set:\n",
      "Accuracy: 0.7797335088007896\n",
      "Confusion Matrix:\n",
      " [[2705  301]\n",
      " [1038 2035]]\n",
      "Classification Report:\n",
      "               precision    recall  f1-score   support\n",
      "\n",
      "           0       0.72      0.90      0.80      3006\n",
      "           1       0.87      0.66      0.75      3073\n",
      "\n",
      "    accuracy                           0.78      6079\n",
      "   macro avg       0.80      0.78      0.78      6079\n",
      "weighted avg       0.80      0.78      0.78      6079\n",
      "\n"
     ]
    }
   ],
   "source": [
    "# 1. 模型对训练集的预测（连续值）\n",
    "train_preds_raw_linreg = linreg_model.predict(X_train_linreg)\n",
    "\n",
    "# 2. 根据 0.5 阈值转为分类\n",
    "train_preds_class_linreg = (train_preds_raw_linreg >= 0.5).astype(int)\n",
    "\n",
    "# 3. 打印前 10 个样本的预测结果\n",
    "train_preds_df_linreg = pd.DataFrame({\n",
    "    'Raw_Prediction': train_preds_raw_linreg[:10],\n",
    "    'Predicted_Class': train_preds_class_linreg[:10]\n",
    "})\n",
    "\n",
    "print(\"First 10 training examples:\\n\", train_preds_df_linreg)\n",
    "\n",
    "# 4. 打印评估指标\n",
    "print(\"\\nEvaluation on full training set:\")\n",
    "train_accuracy = metrics.accuracy_score(y_train_linreg, train_preds_class_linreg)\n",
    "print(\"Accuracy:\", train_accuracy)\n",
    "print(\"Confusion Matrix:\\n\", metrics.confusion_matrix(y_train_linreg, train_preds_class_linreg))\n",
    "print(\"Classification Report:\\n\", metrics.classification_report(y_train_linreg, train_preds_class_linreg))\n"
   ]
  },
  {
   "cell_type": "markdown",
   "metadata": {},
   "source": [
    "总体准确率约为 69.3%，对一个 baseline 的线性模型来说算是个中规中矩的开始。\n",
    "\n",
    "**0 类（未损坏）**的 recall 更高（76%），说明模型对未损坏的识别更稳；\n",
    "\n",
    "**1 类（损坏）**的 precision 更高（73%），说明它预测为“损坏”的时候往往是对的；\n",
    "\n",
    "F1 在两个类之间差距不大（0.71 vs 0.67），说明分类还算平衡。"
   ]
  },
  {
   "cell_type": "markdown",
   "metadata": {},
   "source": [
    "## (2.4) Evaluate the model using classification evaluation measures on the hold-out (30% examples) test set. Compare these results with the evaluation results obtained on the training (70%) dataset. Also compare these results with a cross-validated model (i.e., a new model trained and evaluated using cross-validation on the full dataset). You can use classic k-fold cross-validation or repeated random train/test (70/30) splits. Compare the cross-validation metrics to those obtained on the single train/test split and discuss your findings."
   ]
  },
  {
   "cell_type": "code",
   "execution_count": 254,
   "metadata": {},
   "outputs": [
    {
     "name": "stdout",
     "output_type": "stream",
     "text": [
      "\n",
      "Evaluation on Test Set:\n",
      "Accuracy: 0.7805065234075211\n",
      "Confusion Matrix:\n",
      " [[1188  126]\n",
      " [ 446  846]]\n",
      "Classification Report:\n",
      "               precision    recall  f1-score   support\n",
      "\n",
      "           0       0.73      0.90      0.81      1314\n",
      "           1       0.87      0.65      0.75      1292\n",
      "\n",
      "    accuracy                           0.78      2606\n",
      "   macro avg       0.80      0.78      0.78      2606\n",
      "weighted avg       0.80      0.78      0.78      2606\n",
      "\n"
     ]
    }
   ],
   "source": [
    "# Step 1: 对测试集的特征进行预处理\n",
    "\n",
    "# 标准化测试集连续变量\n",
    "X_test_cont_linreg = scaler_linreg.transform(test_data[continuous_cols])\n",
    "X_test_cont_linreg = pd.DataFrame(X_test_cont_linreg, columns=continuous_cols, index=test_data.index)\n",
    "\n",
    "# 对测试集分类变量进行 one-hot 编码\n",
    "X_test_cat_linreg = pd.get_dummies(\n",
    "    test_data[categorical_cols],\n",
    "    drop_first=True,\n",
    "    dtype=int\n",
    ")\n",
    "\n",
    "# 合并测试集特征\n",
    "X_test_linreg = pd.concat([X_test_cont_linreg, X_test_cat_linreg], axis=1)\n",
    "y_test_linreg = test_data[target_col]\n",
    "\n",
    "# Step 2: 在测试集上预测\n",
    "test_preds_raw = linreg_model.predict(X_test_linreg)\n",
    "\n",
    "# 根据 0.5 阈值转为分类\n",
    "test_preds_class = (test_preds_raw >= 0.5).astype(int)\n",
    "\n",
    "# Step 3: 打印评估指标\n",
    "print(\"\\nEvaluation on Test Set:\")\n",
    "test_accuracy = metrics.accuracy_score(y_test_linreg, test_preds_class)\n",
    "print(\"Accuracy:\", test_accuracy)\n",
    "print(\"Confusion Matrix:\\n\", metrics.confusion_matrix(y_test_linreg, test_preds_class))\n",
    "print(\"Classification Report:\\n\", metrics.classification_report(y_test_linreg, test_preds_class))\n"
   ]
  },
  {
   "cell_type": "code",
   "execution_count": 255,
   "metadata": {},
   "outputs": [
    {
     "name": "stdout",
     "output_type": "stream",
     "text": [
      "\n",
      "Single Train/Test Split:\n",
      "Training Accuracy: 0.7797\n",
      "Test Accuracy: 0.7805\n",
      "\n",
      "Test Set Confusion Matrix:\n",
      "[[1188  126]\n",
      " [ 446  846]]\n",
      "\n",
      "Test Set Classification Report:\n",
      "              precision    recall  f1-score   support\n",
      "\n",
      "           0       0.73      0.90      0.81      1314\n",
      "           1       0.87      0.65      0.75      1292\n",
      "\n",
      "    accuracy                           0.78      2606\n",
      "   macro avg       0.80      0.78      0.78      2606\n",
      "weighted avg       0.80      0.78      0.78      2606\n",
      "\n",
      "\n",
      "Cross-Validation Results (3-fold):\n",
      "CV Accuracy: 0.7758\n",
      "\n",
      "CV Confusion Matrix:\n",
      "[[2658  348]\n",
      " [1015 2058]]\n",
      "\n",
      "CV Classification Report:\n",
      "              precision    recall  f1-score   support\n",
      "\n",
      "           0       0.72      0.88      0.80      3006\n",
      "           1       0.86      0.67      0.75      3073\n",
      "\n",
      "    accuracy                           0.78      6079\n",
      "   macro avg       0.79      0.78      0.77      6079\n",
      "weighted avg       0.79      0.78      0.77      6079\n",
      "\n"
     ]
    }
   ],
   "source": [
    "from sklearn.model_selection import cross_val_predict\n",
    "\n",
    "cv_preds_raw = cross_val_predict(linreg_model, X_train_linreg, y_train_linreg, cv=3)\n",
    "cv_preds_class = (cv_preds_raw >= 0.5).astype(int)\n",
    "cv_accuracy = metrics.accuracy_score(y_train_linreg, cv_preds_class)\n",
    "\n",
    "# Print results\n",
    "print(\"\\nSingle Train/Test Split:\")\n",
    "print(f\"Training Accuracy: {train_accuracy:.4f}\")\n",
    "print(f\"Test Accuracy: {test_accuracy:.4f}\")\n",
    "print(\"\\nTest Set Confusion Matrix:\")\n",
    "print(metrics.confusion_matrix(y_test_linreg, test_preds_class))\n",
    "print(\"\\nTest Set Classification Report:\")\n",
    "print(metrics.classification_report(y_test_linreg, test_preds_class))\n",
    "\n",
    "print(\"\\nCross-Validation Results (3-fold):\")\n",
    "print(f\"CV Accuracy: {cv_accuracy:.4f}\")\n",
    "print(\"\\nCV Confusion Matrix:\")\n",
    "print(metrics.confusion_matrix(y_train_linreg, cv_preds_class))\n",
    "print(\"\\nCV Classification Report:\")\n",
    "print(metrics.classification_report(y_train_linreg, cv_preds_class))"
   ]
  },
  {
   "cell_type": "markdown",
   "metadata": {},
   "source": [
    "这里需要讨论\n"
   ]
  },
  {
   "cell_type": "markdown",
   "metadata": {},
   "source": [
    "# **Predictive Modeling:** Logistic Regression.  \n",
    "\n",
    "## (3.1) On the training set, train a logistic regression model to predict the target feature, using the descriptive features selected in exercise (1) above.   "
   ]
  },
  {
   "cell_type": "code",
   "execution_count": 256,
   "metadata": {},
   "outputs": [],
   "source": [
    "from sklearn.linear_model import LogisticRegression"
   ]
  },
  {
   "cell_type": "code",
   "execution_count": 257,
   "metadata": {},
   "outputs": [],
   "source": [
    "# 标准化连续变量（使用新的 scaler，避免污染）\n",
    "scaler_logreg = StandardScaler()\n",
    "X_train_cont_logreg = pd.DataFrame(\n",
    "    scaler_logreg.fit_transform(train_data[continuous_cols]),\n",
    "    columns=continuous_cols,\n",
    "    index=train_data.index\n",
    ")\n",
    "\n",
    "# One-hot 编码分类变量\n",
    "X_train_cat_logreg = pd.get_dummies(\n",
    "    train_data[categorical_cols],\n",
    "    drop_first=True,\n",
    "    dtype=int\n",
    ")\n",
    "\n",
    "# 合并特征\n",
    "X_train_logreg = pd.concat([X_train_cont_logreg, X_train_cat_logreg], axis=1)\n",
    "y_train_logreg = train_data[target_col]\n",
    "\n",
    "# 训练模型\n",
    "logreg_model = LogisticRegression(max_iter=1000).fit(X_train_logreg, y_train_logreg)\n"
   ]
  },
  {
   "cell_type": "markdown",
   "metadata": {},
   "source": [
    "## (3.2) Print the coefficients learned by the model and discuss their role in the model (e.g., interpret the model).    "
   ]
  },
  {
   "cell_type": "code",
   "execution_count": 258,
   "metadata": {},
   "outputs": [
    {
     "data": {
      "text/html": [
       "<div>\n",
       "<style scoped>\n",
       "    .dataframe tbody tr th:only-of-type {\n",
       "        vertical-align: middle;\n",
       "    }\n",
       "\n",
       "    .dataframe tbody tr th {\n",
       "        vertical-align: top;\n",
       "    }\n",
       "\n",
       "    .dataframe thead th {\n",
       "        text-align: right;\n",
       "    }\n",
       "</style>\n",
       "<table border=\"1\" class=\"dataframe\">\n",
       "  <thead>\n",
       "    <tr style=\"text-align: right;\">\n",
       "      <th></th>\n",
       "      <th>Feature</th>\n",
       "      <th>Coefficient</th>\n",
       "    </tr>\n",
       "  </thead>\n",
       "  <tbody>\n",
       "    <tr>\n",
       "      <th>7</th>\n",
       "      <td>Exterior_Siding_Grouped_Other</td>\n",
       "      <td>-5.549744</td>\n",
       "    </tr>\n",
       "    <tr>\n",
       "      <th>10</th>\n",
       "      <td>Exterior_Siding_Grouped_Wood</td>\n",
       "      <td>-4.201282</td>\n",
       "    </tr>\n",
       "    <tr>\n",
       "      <th>6</th>\n",
       "      <td>Exterior_Siding_Grouped_Metal</td>\n",
       "      <td>-3.634194</td>\n",
       "    </tr>\n",
       "    <tr>\n",
       "      <th>9</th>\n",
       "      <td>Exterior_Siding_Grouped_Vinyl</td>\n",
       "      <td>-3.553132</td>\n",
       "    </tr>\n",
       "    <tr>\n",
       "      <th>8</th>\n",
       "      <td>Exterior_Siding_Grouped_Stucco_Brick_Cement</td>\n",
       "      <td>-3.308570</td>\n",
       "    </tr>\n",
       "    <tr>\n",
       "      <th>15</th>\n",
       "      <td>Window_Pane_Grouped_Unknown</td>\n",
       "      <td>2.753308</td>\n",
       "    </tr>\n",
       "    <tr>\n",
       "      <th>12</th>\n",
       "      <td>Roof_Construction_Grouped_Other</td>\n",
       "      <td>-1.841271</td>\n",
       "    </tr>\n",
       "    <tr>\n",
       "      <th>5</th>\n",
       "      <td>Exterior_Siding_Grouped_Ignition_Resistant</td>\n",
       "      <td>1.368008</td>\n",
       "    </tr>\n",
       "    <tr>\n",
       "      <th>2</th>\n",
       "      <td>Structure_Type_Grouped_Multi_Family_Residence</td>\n",
       "      <td>-1.031671</td>\n",
       "    </tr>\n",
       "    <tr>\n",
       "      <th>1</th>\n",
       "      <td>Structure_Type_Grouped_Mobile_Home</td>\n",
       "      <td>0.916718</td>\n",
       "    </tr>\n",
       "    <tr>\n",
       "      <th>14</th>\n",
       "      <td>Window_Pane_Grouped_Single Pane</td>\n",
       "      <td>0.792578</td>\n",
       "    </tr>\n",
       "    <tr>\n",
       "      <th>13</th>\n",
       "      <td>Window_Pane_Grouped_No Windows</td>\n",
       "      <td>0.786823</td>\n",
       "    </tr>\n",
       "    <tr>\n",
       "      <th>11</th>\n",
       "      <td>Roof_Construction_Grouped_Fire_Resistant_Material</td>\n",
       "      <td>-0.445508</td>\n",
       "    </tr>\n",
       "    <tr>\n",
       "      <th>3</th>\n",
       "      <td>Structure_Type_Grouped_Other</td>\n",
       "      <td>0.145342</td>\n",
       "    </tr>\n",
       "    <tr>\n",
       "      <th>0</th>\n",
       "      <td>Incident_Start_Year</td>\n",
       "      <td>-0.076954</td>\n",
       "    </tr>\n",
       "    <tr>\n",
       "      <th>4</th>\n",
       "      <td>Structure_Type_Grouped_Single_Family_Residence</td>\n",
       "      <td>-0.006858</td>\n",
       "    </tr>\n",
       "  </tbody>\n",
       "</table>\n",
       "</div>"
      ],
      "text/plain": [
       "                                              Feature  Coefficient\n",
       "7                       Exterior_Siding_Grouped_Other    -5.549744\n",
       "10                       Exterior_Siding_Grouped_Wood    -4.201282\n",
       "6                       Exterior_Siding_Grouped_Metal    -3.634194\n",
       "9                       Exterior_Siding_Grouped_Vinyl    -3.553132\n",
       "8         Exterior_Siding_Grouped_Stucco_Brick_Cement    -3.308570\n",
       "15                        Window_Pane_Grouped_Unknown     2.753308\n",
       "12                    Roof_Construction_Grouped_Other    -1.841271\n",
       "5          Exterior_Siding_Grouped_Ignition_Resistant     1.368008\n",
       "2       Structure_Type_Grouped_Multi_Family_Residence    -1.031671\n",
       "1                  Structure_Type_Grouped_Mobile_Home     0.916718\n",
       "14                    Window_Pane_Grouped_Single Pane     0.792578\n",
       "13                     Window_Pane_Grouped_No Windows     0.786823\n",
       "11  Roof_Construction_Grouped_Fire_Resistant_Material    -0.445508\n",
       "3                        Structure_Type_Grouped_Other     0.145342\n",
       "0                                 Incident_Start_Year    -0.076954\n",
       "4      Structure_Type_Grouped_Single_Family_Residence    -0.006858"
      ]
     },
     "execution_count": 258,
     "metadata": {},
     "output_type": "execute_result"
    }
   ],
   "source": [
    "# coefficients\n",
    "coef_df_logreg = pd.DataFrame({\n",
    "    'Feature': X_train_logreg.columns,\n",
    "    'Coefficient': logreg_model.coef_[0]\n",
    "})\n",
    "\n",
    "# sort by abs\n",
    "coef_df_logreg['Abs_Coefficient'] = coef_df_logreg['Coefficient'].abs()\n",
    "coef_df_logreg_sorted = coef_df_logreg.sort_values('Abs_Coefficient', ascending=False)\n",
    "\n",
    "coef_df_logreg_sorted[['Feature', 'Coefficient']]"
   ]
  },
  {
   "cell_type": "markdown",
   "metadata": {},
   "source": [
    "### Discuss讨论"
   ]
  },
  {
   "cell_type": "markdown",
   "metadata": {},
   "source": [
    "## (3.3) Print the predicted target feature value for the first 10 training examples. Print the predicted class for the first 10 examples. Print a few classification evaluation measures computed on the full training set (e.g., Accuracy, Confusion matrix, Precision, Recall, F1) and discuss your findings so far.\n"
   ]
  },
  {
   "cell_type": "code",
   "execution_count": 259,
   "metadata": {},
   "outputs": [
    {
     "name": "stdout",
     "output_type": "stream",
     "text": [
      "First 10 training examples:\n",
      "    Raw_Prediction  Predicted_Class\n",
      "0        0.583162                1\n",
      "1        0.183462                0\n",
      "2        0.387743                0\n",
      "3        0.991548                1\n",
      "4        0.954727                1\n",
      "5        0.169526                0\n",
      "6        0.978985                1\n",
      "7        0.510613                1\n",
      "8        0.161750                0\n",
      "9        0.160523                0\n",
      "\n",
      "Evaluation on full training set:\n",
      "Accuracy for train_data: 0.7831880243461096\n",
      "Confusion Matrix for train_data:\n",
      " [[2663  343]\n",
      " [ 975 2098]]\n",
      "Classification Report for train_data:\n",
      "               precision    recall  f1-score   support\n",
      "\n",
      "           0       0.73      0.89      0.80      3006\n",
      "           1       0.86      0.68      0.76      3073\n",
      "\n",
      "    accuracy                           0.78      6079\n",
      "   macro avg       0.80      0.78      0.78      6079\n",
      "weighted avg       0.80      0.78      0.78      6079\n",
      "\n"
     ]
    }
   ],
   "source": [
    "train_preds_proba_logreg = logreg_model.predict_proba(X_train_logreg)[:, 1]\n",
    "train_preds_class_logreg = logreg_model.predict(X_train_logreg)\n",
    "\n",
    "train_preds_df_logreg = pd.DataFrame({\n",
    "    'Raw_Prediction': train_preds_proba_logreg[:10],\n",
    "    'Predicted_Class': train_preds_class_logreg[:10]\n",
    "})\n",
    "\n",
    "print(\"First 10 training examples:\\n\", train_preds_df_logreg)\n",
    "\n",
    "\n",
    "print(\"\\nEvaluation on full training set:\")\n",
    "train_accuracy_logreg = metrics.accuracy_score(y_train_logreg, train_preds_class_logreg)\n",
    "print(\"Accuracy for train_data:\", train_accuracy_logreg)\n",
    "print(\"Confusion Matrix for train_data:\\n\", metrics.confusion_matrix(y_train_logreg, train_preds_class_logreg))\n",
    "print(\"Classification Report for train_data:\\n\", metrics.classification_report(y_train_logreg, train_preds_class_logreg))\n"
   ]
  },
  {
   "cell_type": "markdown",
   "metadata": {},
   "source": [
    "### 讨论 78.19% 的准确率对一个二分类任务来说看起来不错，尤其是相比之前线性回归的 69% 已经有了显著提升。\n",
    "\n",
    "但要注意：准确率可能会被类不平衡问题所掩盖（还好你的样本大致平衡）。\n",
    "\n",
    "🧮 2. 混淆矩阵透露的重要信息\n",
    "lua\n",
    "Copy\n",
    "Edit\n",
    "[[2645  361]\n",
    " [ 965 2108]]\n",
    "TN（真负类）：2645\n",
    "\n",
    "FP（假正类）：361\n",
    "\n",
    "FN（假负类）：965\n",
    "\n",
    "TP（真正类）：2108\n",
    "\n",
    "解读：\n",
    "0类（预测“没有损害”）预测得非常好，Recall（召回率）高达 0.88，意味着模型能很好地识别出没有损害的房子。\n",
    "\n",
    "1类（预测“有损害”）的 Recall 是 0.69，说明仍然有一部分真正有损害的房子被误判为没损害（这就是 965 个假负）。\n",
    "\n",
    "这对于某些业务应用可能是严重问题（比如救灾资源分配、保险等）。\n",
    "\n",
    "🎯 3. Precision vs Recall 的权衡\n",
    "\n",
    "类别\tPrecision\tRecall\tF1-score\n",
    "0类\t0.73\t0.88\t0.80\n",
    "1类\t0.85\t0.69\t0.76\n",
    "模型更擅长预测 有损害（1类）的样本：Precision 高达 0.85，即预测为“有损害”的时候，大部分是真实的。\n",
    "\n",
    "但对 1 类的 Recall 只有 0.69，说明漏掉了近三成真正受损的房子。\n",
    "\n",
    "👉 这说明模型偏向“保守”地预测有损害，宁可不报，也不误报。\n",
    "\n",
    "📌 4. F1 分数是一个较好的综合指标\n",
    "对于不平衡类问题，F1 分数是一个比准确率更可靠的衡量方式。\n",
    "\n",
    "当前：\n",
    "\n",
    "0 类 F1: 0.80\n",
    "\n",
    "1 类 F1: 0.76\n",
    "\n",
    "相对均衡，说明模型整体表现不错，但仍偏向于“更好地识别无损害”。\n",
    "\n",
    "🧠 你可以进一步思考的问题：\n",
    "业务需求是否更看重 Recall 还是 Precision？\n",
    "\n",
    "比如：如果“漏掉一个真正受损的房子”代价很高，是否需要调高 1 类的 Recall？\n",
    "\n",
    "可以尝试调 threshold（比如 0.45 而不是 0.5）或者引入惩罚权重。\n",
    "\n",
    "要不要对假负（FN）做进一步分析？\n",
    "\n",
    "看看那些被模型漏掉的受损房子有没有某些共性特征（例如建造年代、结构类型等），可以提供解释性。\n",
    "\n",
    "模型是否过拟合？\n",
    "\n",
    "训练集表现很好，但等你跑完测试集结果后（下一步的 2.4），可以判断是否泛化能力足够强。"
   ]
  },
  {
   "cell_type": "markdown",
   "metadata": {},
   "source": [
    "## (3.4) Evaluate the model using classification evaluation measures on the hold-out (30% examples) test set. Compare these results with the evaluation results obtained when using the training (70%) dataset for evaluation. Also compare these results with a cross-validated model (i.e., a new model trained and evaluated using cross-validation on the full dataset). You can use classic k-fold cross-validation or repeated train/test (70/30) splits. Compare the cross-validation metrics to those obtained on the single train/test split and discuss your findings."
   ]
  },
  {
   "cell_type": "code",
   "execution_count": 260,
   "metadata": {},
   "outputs": [],
   "source": [
    "from sklearn.metrics import accuracy_score, confusion_matrix, classification_report\n",
    "\n",
    "# Prepare test data: standarlize and one-hot\n",
    "X_test_cont_logreg = pd.DataFrame(\n",
    "    scaler_logreg.transform(test_data[continuous_cols]),\n",
    "    columns=continuous_cols,\n",
    "    index=test_data.index\n",
    ")\n",
    "\n",
    "X_test_cat_logreg = pd.get_dummies(\n",
    "    test_data[categorical_cols],\n",
    "    drop_first=True,\n",
    "    dtype=int\n",
    ")"
   ]
  },
  {
   "cell_type": "code",
   "execution_count": 261,
   "metadata": {},
   "outputs": [
    {
     "name": "stdout",
     "output_type": "stream",
     "text": [
      "Evaluation on test set:\n",
      "Accuracy for test_data: 0.7820414428242517\n",
      "Confusion Matrix for test_data:\n",
      " [[1164  150]\n",
      " [ 418  874]]\n",
      "Classification Report for test_data:\n",
      "               precision    recall  f1-score   support\n",
      "\n",
      "           0       0.74      0.89      0.80      1314\n",
      "           1       0.85      0.68      0.75      1292\n",
      "\n",
      "    accuracy                           0.78      2606\n",
      "   macro avg       0.79      0.78      0.78      2606\n",
      "weighted avg       0.79      0.78      0.78      2606\n",
      "\n"
     ]
    }
   ],
   "source": [
    "# 保持与训练集一致的列顺序（防止缺列问题）\n",
    "X_test_cat_logreg = X_test_cat_logreg.reindex(columns=X_train_cat_logreg.columns, fill_value=0)\n",
    "\n",
    "X_test_logreg = pd.concat([X_test_cont_logreg, X_test_cat_logreg], axis=1)\n",
    "y_test_logreg = test_data[target_col]\n",
    "\n",
    "# 测试集预测与评估\n",
    "test_preds_raw_logreg = logreg_model.predict(X_test_logreg)\n",
    "test_preds_class_logreg = logreg_model.predict(X_test_logreg)\n",
    "\n",
    "\n",
    "print(\"Evaluation on test set:\")\n",
    "test_accuracy_logreg = accuracy_score(y_test_logreg, test_preds_class_logreg)\n",
    "print(\"Accuracy for test_data:\", test_accuracy_logreg)\n",
    "print(\"Confusion Matrix for test_data:\\n\", confusion_matrix(y_test_logreg, test_preds_class_logreg))\n",
    "print(\"Classification Report for test_data:\\n\", classification_report(y_test_logreg, test_preds_class_logreg))"
   ]
  },
  {
   "cell_type": "code",
   "execution_count": 262,
   "metadata": {},
   "outputs": [
    {
     "name": "stdout",
     "output_type": "stream",
     "text": [
      "\n",
      "Single Train/Test Split:\n",
      "Training Accuracy: 0.7832\n",
      "Test Accuracy: 0.7820\n",
      "\n",
      "Test Set Confusion Matrix:\n",
      "[[1164  150]\n",
      " [ 418  874]]\n",
      "\n",
      "Test Set Classification Report:\n",
      "              precision    recall  f1-score   support\n",
      "\n",
      "           0       0.74      0.89      0.80      1314\n",
      "           1       0.85      0.68      0.75      1292\n",
      "\n",
      "    accuracy                           0.78      2606\n",
      "   macro avg       0.79      0.78      0.78      2606\n",
      "weighted avg       0.79      0.78      0.78      2606\n",
      "\n",
      "\n",
      "Cross-Validation Results (3-fold):\n",
      "CV Accuracy: 0.7812\n",
      "\n",
      "CV Confusion Matrix:\n",
      "[[2641  365]\n",
      " [ 965 2108]]\n",
      "\n",
      "CV Classification Report:\n",
      "              precision    recall  f1-score   support\n",
      "\n",
      "           0       0.73      0.88      0.80      3006\n",
      "           1       0.85      0.69      0.76      3073\n",
      "\n",
      "    accuracy                           0.78      6079\n",
      "   macro avg       0.79      0.78      0.78      6079\n",
      "weighted avg       0.79      0.78      0.78      6079\n",
      "\n"
     ]
    }
   ],
   "source": [
    "from sklearn.model_selection import cross_val_predict\n",
    "\n",
    "# 交叉验证预测（原始概率）\n",
    "cv_preds_raw_logreg = cross_val_predict(logreg_model, X_train_logreg, y_train_logreg, cv=3)\n",
    "cv_preds_class_logreg = (cv_preds_raw_logreg >= 0.5).astype(int)\n",
    "cv_accuracy_logreg = metrics.accuracy_score(y_train_logreg, cv_preds_class_logreg)\n",
    "\n",
    "# 打印结果\n",
    "print(\"\\nSingle Train/Test Split:\")\n",
    "print(f\"Training Accuracy: {train_accuracy_logreg:.4f}\")\n",
    "print(f\"Test Accuracy: {test_accuracy_logreg:.4f}\")\n",
    "print(\"\\nTest Set Confusion Matrix:\")\n",
    "print(metrics.confusion_matrix(y_test_logreg, test_preds_class_logreg))\n",
    "print(\"\\nTest Set Classification Report:\")\n",
    "print(metrics.classification_report(y_test_logreg, test_preds_class_logreg))\n",
    "\n",
    "print(\"\\nCross-Validation Results (3-fold):\")\n",
    "print(f\"CV Accuracy: {cv_accuracy_logreg:.4f}\")\n",
    "print(\"\\nCV Confusion Matrix:\")\n",
    "print(metrics.confusion_matrix(y_train_logreg, cv_preds_class_logreg))\n",
    "print(\"\\nCV Classification Report:\")\n",
    "print(metrics.classification_report(y_train_logreg, cv_preds_class_logreg))\n"
   ]
  },
  {
   "cell_type": "markdown",
   "metadata": {},
   "source": [
    "### Discussion\n",
    "\n",
    "Accuracy:\n",
    "Train Set:0.7819\n",
    "Test Set:0.7843\n",
    "Cross-Validation:0.7807\n",
    "Very close, no overfitting or underfitting\n",
    "\n",
    "集合\tTN\t真 0 预测为 1\t真 1 预测为 0\t真 1 预测为 1\n",
    "Train\t2645\t361\t     965\t2108\n",
    "Test\t1162\t152\t     421\t871\n",
    "CV\t    2630\t376\t     957\t2116\n",
    "三组中的误判数量差异不大，尤其是在类别不平衡的情况下，模型依然维持了良好的 0 和 1 类别的区分能力。\n",
    "\n",
    "特别值得注意的是，对 类别 1（受损） 的 recall 在测试集为 0.67，比训练集和 CV 略低，但差距可接受，表明模型在未见数据上仍能合理识别。\n",
    "\n",
    "集合 | 类别 | Precision | Recall | F1\n",
    "Train | 0 | 0.73 | 0.88 | 0.80\n",
    " | 1 | 0.85 | 0.69 | 0.76\n",
    "Test | 0 | 0.73 | 0.88 | 0.80\n",
    " | 1 | 0.85 | 0.67 | 0.75\n",
    "CV | 0 | 0.73 | 0.87 | 0.80\n",
    " | 1 | 0.85 | 0.69 | 0.76\n",
    "\n",
    " 所有评估方式下，precision、recall、f1 都非常一致，尤其是类别 1 的表现，说明模型对正类（如“受损建筑”）识别稳定。\n",
    "\n",
    "这也说明模型泛化性能良好，cross-validation 没有出现过大的波动，模型对训练数据切分不敏感。\n",
    "\n",
    "交叉验证指标与单次训练/测试集指标的比较表明，逻辑回归模型的性能具有高度一致性。所有评估策略均获得了相似的准确度得分（约 78%），并且在两个类别中也获得了相当的精度、召回率和 F1 分数。交叉验证结果证实了该模型的泛化能力和稳健性，因为其性能在不同数据分区中保持稳定。训练集和测试集性能之间的高度一致性证明了模型没有出现明显的过拟合现象。因此，逻辑回归模型展现出了对未知数据的可靠预测能力。"
   ]
  },
  {
   "cell_type": "markdown",
   "metadata": {},
   "source": [
    "# **Predictive Modeling:** Random Forest.  \n",
    "\n",
    "## (4.1) On the training set, train a random forest model to predict the target feature, using the descriptive features selected in exercise (1) above.   \n",
    "\n",
    "    \n"
   ]
  },
  {
   "cell_type": "code",
   "execution_count": 263,
   "metadata": {},
   "outputs": [],
   "source": [
    "from sklearn.ensemble import RandomForestClassifier"
   ]
  },
  {
   "cell_type": "code",
   "execution_count": 264,
   "metadata": {},
   "outputs": [],
   "source": [
    "X_train_rf = pd.concat([\n",
    "    train_data[continuous_cols],\n",
    "    pd.get_dummies(train_data[categorical_cols], drop_first=True, dtype=int)\n",
    "], axis=1)\n",
    "\n",
    "y_train_rf = train_data[target_col]\n",
    "\n",
    "# 训练随机森林\n",
    "rf_model = RandomForestClassifier(n_estimators=100, random_state=42).fit(X_train_rf, y_train_rf)"
   ]
  },
  {
   "cell_type": "markdown",
   "metadata": {},
   "source": [
    "## (4.2) Can you interpret the random forest model? Discuss any knowledge you can gain in regard of the working of this model.   \n"
   ]
  },
  {
   "cell_type": "code",
   "execution_count": 265,
   "metadata": {},
   "outputs": [
    {
     "data": {
      "text/html": [
       "<div>\n",
       "<style scoped>\n",
       "    .dataframe tbody tr th:only-of-type {\n",
       "        vertical-align: middle;\n",
       "    }\n",
       "\n",
       "    .dataframe tbody tr th {\n",
       "        vertical-align: top;\n",
       "    }\n",
       "\n",
       "    .dataframe thead th {\n",
       "        text-align: right;\n",
       "    }\n",
       "</style>\n",
       "<table border=\"1\" class=\"dataframe\">\n",
       "  <thead>\n",
       "    <tr style=\"text-align: right;\">\n",
       "      <th></th>\n",
       "      <th>Feature</th>\n",
       "      <th>Importance</th>\n",
       "    </tr>\n",
       "  </thead>\n",
       "  <tbody>\n",
       "    <tr>\n",
       "      <th>0</th>\n",
       "      <td>Incident_Start_Year</td>\n",
       "      <td>0.352040</td>\n",
       "    </tr>\n",
       "    <tr>\n",
       "      <th>15</th>\n",
       "      <td>Window_Pane_Grouped_Unknown</td>\n",
       "      <td>0.152784</td>\n",
       "    </tr>\n",
       "    <tr>\n",
       "      <th>7</th>\n",
       "      <td>Exterior_Siding_Grouped_Other</td>\n",
       "      <td>0.113393</td>\n",
       "    </tr>\n",
       "    <tr>\n",
       "      <th>12</th>\n",
       "      <td>Roof_Construction_Grouped_Other</td>\n",
       "      <td>0.096960</td>\n",
       "    </tr>\n",
       "    <tr>\n",
       "      <th>10</th>\n",
       "      <td>Exterior_Siding_Grouped_Wood</td>\n",
       "      <td>0.051470</td>\n",
       "    </tr>\n",
       "    <tr>\n",
       "      <th>5</th>\n",
       "      <td>Exterior_Siding_Grouped_Ignition_Resistant</td>\n",
       "      <td>0.043274</td>\n",
       "    </tr>\n",
       "    <tr>\n",
       "      <th>11</th>\n",
       "      <td>Roof_Construction_Grouped_Fire_Resistant_Material</td>\n",
       "      <td>0.038450</td>\n",
       "    </tr>\n",
       "    <tr>\n",
       "      <th>14</th>\n",
       "      <td>Window_Pane_Grouped_Single Pane</td>\n",
       "      <td>0.036462</td>\n",
       "    </tr>\n",
       "    <tr>\n",
       "      <th>8</th>\n",
       "      <td>Exterior_Siding_Grouped_Stucco_Brick_Cement</td>\n",
       "      <td>0.034249</td>\n",
       "    </tr>\n",
       "    <tr>\n",
       "      <th>1</th>\n",
       "      <td>Structure_Type_Grouped_Mobile_Home</td>\n",
       "      <td>0.019115</td>\n",
       "    </tr>\n",
       "  </tbody>\n",
       "</table>\n",
       "</div>"
      ],
      "text/plain": [
       "                                              Feature  Importance\n",
       "0                                 Incident_Start_Year    0.352040\n",
       "15                        Window_Pane_Grouped_Unknown    0.152784\n",
       "7                       Exterior_Siding_Grouped_Other    0.113393\n",
       "12                    Roof_Construction_Grouped_Other    0.096960\n",
       "10                       Exterior_Siding_Grouped_Wood    0.051470\n",
       "5          Exterior_Siding_Grouped_Ignition_Resistant    0.043274\n",
       "11  Roof_Construction_Grouped_Fire_Resistant_Material    0.038450\n",
       "14                    Window_Pane_Grouped_Single Pane    0.036462\n",
       "8         Exterior_Siding_Grouped_Stucco_Brick_Cement    0.034249\n",
       "1                  Structure_Type_Grouped_Mobile_Home    0.019115"
      ]
     },
     "execution_count": 265,
     "metadata": {},
     "output_type": "execute_result"
    }
   ],
   "source": [
    "# 提取特征重要性\n",
    "feature_importance_rf = pd.DataFrame({\n",
    "    'Feature': X_train_rf.columns,\n",
    "    'Importance': rf_model.feature_importances_\n",
    "})\n",
    "\n",
    "\n",
    "feature_importance_rf_sorted = feature_importance_rf.sort_values(by='Importance', ascending=False)\n",
    "\n",
    "# 显示前几项\n",
    "feature_importance_rf_sorted.head(10)\n"
   ]
  },
  {
   "cell_type": "markdown",
   "metadata": {},
   "source": [
    "## (4.3) Print the predicted target feature value for the first 10 training examples. Print the predicted class for the first 10 examples. Print a few classification evaluation measures computed on the full training set (e.g., Accuracy, Confusion matrix, Precision, Recall, F1) and discuss your findings so far.\n"
   ]
  },
  {
   "cell_type": "code",
   "execution_count": 266,
   "metadata": {},
   "outputs": [
    {
     "name": "stdout",
     "output_type": "stream",
     "text": [
      "First 10 training examples:\n",
      "    Predicted_Prob  Predicted_Class\n",
      "0        0.550455                1\n",
      "1        0.063865                0\n",
      "2        0.466187                0\n",
      "3        1.000000                1\n",
      "4        1.000000                1\n",
      "5        0.054158                0\n",
      "6        1.000000                1\n",
      "7        0.294667                0\n",
      "8        0.027786                0\n",
      "9        0.247869                0\n",
      "\n",
      "Evaluation on full training set:\n",
      "Accuracy: 0.8361572627076822\n",
      "Confusion Matrix:\n",
      " [[2654  352]\n",
      " [ 644 2429]]\n",
      "Classification Report:\n",
      "               precision    recall  f1-score   support\n",
      "\n",
      "           0       0.80      0.88      0.84      3006\n",
      "           1       0.87      0.79      0.83      3073\n",
      "\n",
      "    accuracy                           0.84      6079\n",
      "   macro avg       0.84      0.84      0.84      6079\n",
      "weighted avg       0.84      0.84      0.84      6079\n",
      "\n"
     ]
    }
   ],
   "source": [
    "# 1. 原始概率预测（不是必须，但可以看一下）\n",
    "train_preds_prob_rf = rf_model.predict_proba(X_train_rf)[:, 1]\n",
    "\n",
    "# 2. 分类预测\n",
    "train_preds_class_rf = rf_model.predict(X_train_rf)\n",
    "\n",
    "# 3. 前 10 项\n",
    "train_preds_df_rf = pd.DataFrame({\n",
    "    'Predicted_Prob': train_preds_prob_rf[:10],\n",
    "    'Predicted_Class': train_preds_class_rf[:10]\n",
    "})\n",
    "\n",
    "print(\"First 10 training examples:\\n\", train_preds_df_rf)\n",
    "\n",
    "# 4. 训练集表现\n",
    "print(\"\\nEvaluation on full training set:\")\n",
    "train_accuracy_rf = metrics.accuracy_score(y_train_rf, train_preds_class_rf)\n",
    "print(\"Accuracy:\", train_accuracy_rf)\n",
    "print(\"Confusion Matrix:\\n\", metrics.confusion_matrix(y_train_rf, train_preds_class_rf))\n",
    "print(\"Classification Report:\\n\", metrics.classification_report(y_train_rf, train_preds_class_rf))\n"
   ]
  },
  {
   "cell_type": "markdown",
   "metadata": {},
   "source": [
    "## (4.4) Evaluate the model using classification evaluation measures on the hold-out (30% examples) test set. Compare these results with the evaluation results obtained when using the training (70%) dataset for evaluation. Also compare these results with a cross-validated model (i.e., a new model trained and evaluated using cross-validation on the full dataset). You can use classic k-fold cross-validation or repeated train/test (70/30) splits. Compare the cross-validation metrics to those obtained on the single train/test split and to the Random Forest out-of-sample error and discuss your findings."
   ]
  },
  {
   "cell_type": "code",
   "execution_count": 267,
   "metadata": {},
   "outputs": [],
   "source": [
    "X_test_rf = pd.concat([\n",
    "    test_data[continuous_cols],\n",
    "    pd.get_dummies(test_data[categorical_cols], drop_first=True, dtype=int)\n",
    "], axis=1)\n",
    "\n",
    "y_test_rf = test_data[target_col]"
   ]
  },
  {
   "cell_type": "code",
   "execution_count": 268,
   "metadata": {},
   "outputs": [
    {
     "name": "stdout",
     "output_type": "stream",
     "text": [
      "\n",
      "Test Set Results:\n",
      "Test Accuracy: 0.8001\n",
      "Confusion Matrix:\n",
      " [[1103  211]\n",
      " [ 310  982]]\n",
      "Classification Report:\n",
      "               precision    recall  f1-score   support\n",
      "\n",
      "           0       0.78      0.84      0.81      1314\n",
      "           1       0.82      0.76      0.79      1292\n",
      "\n",
      "    accuracy                           0.80      2606\n",
      "   macro avg       0.80      0.80      0.80      2606\n",
      "weighted avg       0.80      0.80      0.80      2606\n",
      "\n"
     ]
    }
   ],
   "source": [
    "test_preds_rf = rf_model.predict(X_test_rf)\n",
    "test_accuracy_rf = metrics.accuracy_score(y_test_rf, test_preds_rf)\n",
    "\n",
    "print(\"\\nTest Set Results:\")\n",
    "print(f\"Test Accuracy: {test_accuracy_rf:.4f}\")\n",
    "print(\"Confusion Matrix:\\n\", metrics.confusion_matrix(y_test_rf, test_preds_rf))\n",
    "print(\"Classification Report:\\n\", metrics.classification_report(y_test_rf, test_preds_rf))"
   ]
  },
  {
   "cell_type": "code",
   "execution_count": 269,
   "metadata": {},
   "outputs": [
    {
     "name": "stdout",
     "output_type": "stream",
     "text": [
      "\n",
      "Cross-Validation Results (3-fold):\n",
      "CV Accuracy: 0.8080\n",
      "CV Confusion Matrix:\n",
      " [[2550  456]\n",
      " [ 711 2362]]\n",
      "CV Classification Report:\n",
      "               precision    recall  f1-score   support\n",
      "\n",
      "           0       0.78      0.85      0.81      3006\n",
      "           1       0.84      0.77      0.80      3073\n",
      "\n",
      "    accuracy                           0.81      6079\n",
      "   macro avg       0.81      0.81      0.81      6079\n",
      "weighted avg       0.81      0.81      0.81      6079\n",
      "\n"
     ]
    }
   ],
   "source": [
    "cv_preds_rf = cross_val_predict(rf_model, X_train_rf, y_train_rf, cv=3)\n",
    "cv_accuracy_rf = metrics.accuracy_score(y_train_rf, cv_preds_rf)\n",
    "\n",
    "print(\"\\nCross-Validation Results (3-fold):\")\n",
    "print(f\"CV Accuracy: {cv_accuracy_rf:.4f}\")\n",
    "print(\"CV Confusion Matrix:\\n\", metrics.confusion_matrix(y_train_rf, cv_preds_rf))\n",
    "print(\"CV Classification Report:\\n\", metrics.classification_report(y_train_rf, cv_preds_rf))"
   ]
  },
  {
   "cell_type": "markdown",
   "metadata": {},
   "source": [
    "### Discuss"
   ]
  },
  {
   "cell_type": "markdown",
   "metadata": {},
   "source": [
    "# **Improving Predictive Models.**\n",
    "\n",
    "## (5.1) Which model of the ones trained above performs better at predicting the target feature? Is it more   accurate than a simple model that always predicts the majority class (i.e., if 'no' is the majority class in your dataset, the simple model always predicts 'no' for the target feature)? What is a good baseline for this task? Justify your answers.\n"
   ]
  },
  {
   "cell_type": "code",
   "execution_count": null,
   "metadata": {},
   "outputs": [],
   "source": []
  },
  {
   "cell_type": "markdown",
   "metadata": {},
   "source": [
    "## (5.2) Summarise your understanding of the problem and of your predictive modeling results so far. Can you think of any new ideas to improve the best model so far (e.g., by using furher data prep such as: feature selection, feature re-scaling, creating new features, combining predictive models, or using other domain knowledge)? Please show how your ideas actually work in practice (with code), by training and evaluating your proposed models. Summarise your findings so far. "
   ]
  },
  {
   "cell_type": "code",
   "execution_count": null,
   "metadata": {},
   "outputs": [],
   "source": []
  },
  {
   "cell_type": "code",
   "execution_count": 270,
   "metadata": {},
   "outputs": [],
   "source": [
    "# !pip freeze | findstr /V \"@file\" > requirements.txt"
   ]
  }
 ],
 "metadata": {
  "kernelspec": {
   "display_name": "comp47350py311",
   "language": "python",
   "name": "python3"
  },
  "language_info": {
   "codemirror_mode": {
    "name": "ipython",
    "version": 3
   },
   "file_extension": ".py",
   "mimetype": "text/x-python",
   "name": "python",
   "nbconvert_exporter": "python",
   "pygments_lexer": "ipython3",
   "version": "3.11.11"
  }
 },
 "nbformat": 4,
 "nbformat_minor": 4
}
